{
  "nbformat": 4,
  "nbformat_minor": 0,
  "metadata": {
    "colab": {
      "provenance": [],
      "authorship_tag": "ABX9TyPxfvXprzf1pMardMwM7WZ4",
      "include_colab_link": true
    },
    "kernelspec": {
      "name": "python3",
      "display_name": "Python 3"
    },
    "language_info": {
      "name": "python"
    }
  },
  "cells": [
    {
      "cell_type": "markdown",
      "metadata": {
        "id": "view-in-github",
        "colab_type": "text"
      },
      "source": [
        "<a href=\"https://colab.research.google.com/github/rodrigotorresp/Practica-Regresi-n-ML/blob/main/Practica1.ipynb\" target=\"_parent\"><img src=\"https://colab.research.google.com/assets/colab-badge.svg\" alt=\"Open In Colab\"/></a>"
      ]
    },
    {
      "cell_type": "code",
      "execution_count": 11,
      "metadata": {
        "colab": {
          "base_uri": "https://localhost:8080/",
          "height": 424
        },
        "id": "ooL54cjUlNy_",
        "outputId": "0bdaf505-38db-402b-b519-be889d2b65b3"
      },
      "outputs": [
        {
          "output_type": "execute_result",
          "data": {
            "text/plain": [
              "     LaptopId  Company                            Product            TypeName  \\\n",
              "0         981  Toshiba                  Portege Z30-C-1CV            Notebook   \n",
              "1         996       HP                  Spectre 13-V111dx           Ultrabook   \n",
              "2          77     Dell                      Inspiron 5570            Notebook   \n",
              "3         103       HP                     Envy 13-ad009n           Ultrabook   \n",
              "4         946     Dell                      Latitude 7280           Ultrabook   \n",
              "..        ...      ...                                ...                 ...   \n",
              "907       994     Dell                      Inspiron 5378  2 in 1 Convertible   \n",
              "908       615     Asus  FX753VD-GC007T (i7-7700HQ/8GB/1TB              Gaming   \n",
              "909      1063     Dell                      Inspiron 5567            Notebook   \n",
              "910        96     Dell                      Inspiron 3567            Notebook   \n",
              "911       539   Lenovo                      Thinkpad E470            Notebook   \n",
              "\n",
              "     Inches                           ScreenResolution  \\\n",
              "0      13.3                          Full HD 1920x1080   \n",
              "1      13.3  IPS Panel Full HD / Touchscreen 1920x1080   \n",
              "2      15.6                          Full HD 1920x1080   \n",
              "3      13.3                IPS Panel Full HD 1920x1080   \n",
              "4      12.5            Full HD / Touchscreen 1920x1080   \n",
              "..      ...                                        ...   \n",
              "907    13.3            Full HD / Touchscreen 1920x1080   \n",
              "908    17.3                          Full HD 1920x1080   \n",
              "909    15.6                          Full HD 1920x1080   \n",
              "910    15.6                          Full HD 1920x1080   \n",
              "911    14.0                IPS Panel Full HD 1920x1080   \n",
              "\n",
              "                             Cpu   Ram                Memory  \\\n",
              "0     Intel Core i5 6200U 2.3GHz   4GB             128GB SSD   \n",
              "1     Intel Core i7 7500U 2.7GHz   8GB             256GB SSD   \n",
              "2     Intel Core i7 8550U 1.8GHz   8GB  128GB SSD +  1TB HDD   \n",
              "3     Intel Core i7 7500U 2.7GHz   8GB             256GB SSD   \n",
              "4     Intel Core i5 7200U 2.5GHz   8GB             256GB SSD   \n",
              "..                           ...   ...                   ...   \n",
              "907   Intel Core i5 7200U 2.5GHz   8GB             256GB SSD   \n",
              "908  Intel Core i7 7700HQ 2.8GHz   8GB  128GB SSD +  1TB HDD   \n",
              "909   Intel Core i7 7500U 2.7GHz  16GB               2TB HDD   \n",
              "910   Intel Core i7 7500U 2.7GHz   8GB               1TB HDD   \n",
              "911   Intel Core i7 7500U 2.7GHz   8GB             256GB SSD   \n",
              "\n",
              "                         Gpu       OpSys  Weight    Price  \n",
              "0      Intel HD Graphics 520   Windows 7   1.2kg  1195.00  \n",
              "1      Intel HD Graphics 620  Windows 10  1.11kg  1349.00  \n",
              "2     Intel UHD Graphics 620  Windows 10  2.02kg   855.00  \n",
              "3       Nvidia GeForce MX150  Windows 10  1.38kg  1119.00  \n",
              "4          Intel HD Graphics  Windows 10  1.36kg  1472.20  \n",
              "..                       ...         ...     ...      ...  \n",
              "907    Intel HD Graphics 620  Windows 10  1.68kg   889.00  \n",
              "908  Nvidia GeForce GTX 1050  Windows 10     3kg  1168.00  \n",
              "909       AMD Radeon R7 M445  Windows 10  2.32kg   989.99  \n",
              "910       AMD Radeon R5 M430       Linux   2.2kg   599.90  \n",
              "911     Nvidia GeForce 940MX  Windows 10  1.87kg   859.00  \n",
              "\n",
              "[912 rows x 13 columns]"
            ],
            "text/html": [
              "\n",
              "  <div id=\"df-fa92d58c-1e22-4819-a157-6d7894be96e9\">\n",
              "    <div class=\"colab-df-container\">\n",
              "      <div>\n",
              "<style scoped>\n",
              "    .dataframe tbody tr th:only-of-type {\n",
              "        vertical-align: middle;\n",
              "    }\n",
              "\n",
              "    .dataframe tbody tr th {\n",
              "        vertical-align: top;\n",
              "    }\n",
              "\n",
              "    .dataframe thead th {\n",
              "        text-align: right;\n",
              "    }\n",
              "</style>\n",
              "<table border=\"1\" class=\"dataframe\">\n",
              "  <thead>\n",
              "    <tr style=\"text-align: right;\">\n",
              "      <th></th>\n",
              "      <th>LaptopId</th>\n",
              "      <th>Company</th>\n",
              "      <th>Product</th>\n",
              "      <th>TypeName</th>\n",
              "      <th>Inches</th>\n",
              "      <th>ScreenResolution</th>\n",
              "      <th>Cpu</th>\n",
              "      <th>Ram</th>\n",
              "      <th>Memory</th>\n",
              "      <th>Gpu</th>\n",
              "      <th>OpSys</th>\n",
              "      <th>Weight</th>\n",
              "      <th>Price</th>\n",
              "    </tr>\n",
              "  </thead>\n",
              "  <tbody>\n",
              "    <tr>\n",
              "      <th>0</th>\n",
              "      <td>981</td>\n",
              "      <td>Toshiba</td>\n",
              "      <td>Portege Z30-C-1CV</td>\n",
              "      <td>Notebook</td>\n",
              "      <td>13.3</td>\n",
              "      <td>Full HD 1920x1080</td>\n",
              "      <td>Intel Core i5 6200U 2.3GHz</td>\n",
              "      <td>4GB</td>\n",
              "      <td>128GB SSD</td>\n",
              "      <td>Intel HD Graphics 520</td>\n",
              "      <td>Windows 7</td>\n",
              "      <td>1.2kg</td>\n",
              "      <td>1195.00</td>\n",
              "    </tr>\n",
              "    <tr>\n",
              "      <th>1</th>\n",
              "      <td>996</td>\n",
              "      <td>HP</td>\n",
              "      <td>Spectre 13-V111dx</td>\n",
              "      <td>Ultrabook</td>\n",
              "      <td>13.3</td>\n",
              "      <td>IPS Panel Full HD / Touchscreen 1920x1080</td>\n",
              "      <td>Intel Core i7 7500U 2.7GHz</td>\n",
              "      <td>8GB</td>\n",
              "      <td>256GB SSD</td>\n",
              "      <td>Intel HD Graphics 620</td>\n",
              "      <td>Windows 10</td>\n",
              "      <td>1.11kg</td>\n",
              "      <td>1349.00</td>\n",
              "    </tr>\n",
              "    <tr>\n",
              "      <th>2</th>\n",
              "      <td>77</td>\n",
              "      <td>Dell</td>\n",
              "      <td>Inspiron 5570</td>\n",
              "      <td>Notebook</td>\n",
              "      <td>15.6</td>\n",
              "      <td>Full HD 1920x1080</td>\n",
              "      <td>Intel Core i7 8550U 1.8GHz</td>\n",
              "      <td>8GB</td>\n",
              "      <td>128GB SSD +  1TB HDD</td>\n",
              "      <td>Intel UHD Graphics 620</td>\n",
              "      <td>Windows 10</td>\n",
              "      <td>2.02kg</td>\n",
              "      <td>855.00</td>\n",
              "    </tr>\n",
              "    <tr>\n",
              "      <th>3</th>\n",
              "      <td>103</td>\n",
              "      <td>HP</td>\n",
              "      <td>Envy 13-ad009n</td>\n",
              "      <td>Ultrabook</td>\n",
              "      <td>13.3</td>\n",
              "      <td>IPS Panel Full HD 1920x1080</td>\n",
              "      <td>Intel Core i7 7500U 2.7GHz</td>\n",
              "      <td>8GB</td>\n",
              "      <td>256GB SSD</td>\n",
              "      <td>Nvidia GeForce MX150</td>\n",
              "      <td>Windows 10</td>\n",
              "      <td>1.38kg</td>\n",
              "      <td>1119.00</td>\n",
              "    </tr>\n",
              "    <tr>\n",
              "      <th>4</th>\n",
              "      <td>946</td>\n",
              "      <td>Dell</td>\n",
              "      <td>Latitude 7280</td>\n",
              "      <td>Ultrabook</td>\n",
              "      <td>12.5</td>\n",
              "      <td>Full HD / Touchscreen 1920x1080</td>\n",
              "      <td>Intel Core i5 7200U 2.5GHz</td>\n",
              "      <td>8GB</td>\n",
              "      <td>256GB SSD</td>\n",
              "      <td>Intel HD Graphics</td>\n",
              "      <td>Windows 10</td>\n",
              "      <td>1.36kg</td>\n",
              "      <td>1472.20</td>\n",
              "    </tr>\n",
              "    <tr>\n",
              "      <th>...</th>\n",
              "      <td>...</td>\n",
              "      <td>...</td>\n",
              "      <td>...</td>\n",
              "      <td>...</td>\n",
              "      <td>...</td>\n",
              "      <td>...</td>\n",
              "      <td>...</td>\n",
              "      <td>...</td>\n",
              "      <td>...</td>\n",
              "      <td>...</td>\n",
              "      <td>...</td>\n",
              "      <td>...</td>\n",
              "      <td>...</td>\n",
              "    </tr>\n",
              "    <tr>\n",
              "      <th>907</th>\n",
              "      <td>994</td>\n",
              "      <td>Dell</td>\n",
              "      <td>Inspiron 5378</td>\n",
              "      <td>2 in 1 Convertible</td>\n",
              "      <td>13.3</td>\n",
              "      <td>Full HD / Touchscreen 1920x1080</td>\n",
              "      <td>Intel Core i5 7200U 2.5GHz</td>\n",
              "      <td>8GB</td>\n",
              "      <td>256GB SSD</td>\n",
              "      <td>Intel HD Graphics 620</td>\n",
              "      <td>Windows 10</td>\n",
              "      <td>1.68kg</td>\n",
              "      <td>889.00</td>\n",
              "    </tr>\n",
              "    <tr>\n",
              "      <th>908</th>\n",
              "      <td>615</td>\n",
              "      <td>Asus</td>\n",
              "      <td>FX753VD-GC007T (i7-7700HQ/8GB/1TB</td>\n",
              "      <td>Gaming</td>\n",
              "      <td>17.3</td>\n",
              "      <td>Full HD 1920x1080</td>\n",
              "      <td>Intel Core i7 7700HQ 2.8GHz</td>\n",
              "      <td>8GB</td>\n",
              "      <td>128GB SSD +  1TB HDD</td>\n",
              "      <td>Nvidia GeForce GTX 1050</td>\n",
              "      <td>Windows 10</td>\n",
              "      <td>3kg</td>\n",
              "      <td>1168.00</td>\n",
              "    </tr>\n",
              "    <tr>\n",
              "      <th>909</th>\n",
              "      <td>1063</td>\n",
              "      <td>Dell</td>\n",
              "      <td>Inspiron 5567</td>\n",
              "      <td>Notebook</td>\n",
              "      <td>15.6</td>\n",
              "      <td>Full HD 1920x1080</td>\n",
              "      <td>Intel Core i7 7500U 2.7GHz</td>\n",
              "      <td>16GB</td>\n",
              "      <td>2TB HDD</td>\n",
              "      <td>AMD Radeon R7 M445</td>\n",
              "      <td>Windows 10</td>\n",
              "      <td>2.32kg</td>\n",
              "      <td>989.99</td>\n",
              "    </tr>\n",
              "    <tr>\n",
              "      <th>910</th>\n",
              "      <td>96</td>\n",
              "      <td>Dell</td>\n",
              "      <td>Inspiron 3567</td>\n",
              "      <td>Notebook</td>\n",
              "      <td>15.6</td>\n",
              "      <td>Full HD 1920x1080</td>\n",
              "      <td>Intel Core i7 7500U 2.7GHz</td>\n",
              "      <td>8GB</td>\n",
              "      <td>1TB HDD</td>\n",
              "      <td>AMD Radeon R5 M430</td>\n",
              "      <td>Linux</td>\n",
              "      <td>2.2kg</td>\n",
              "      <td>599.90</td>\n",
              "    </tr>\n",
              "    <tr>\n",
              "      <th>911</th>\n",
              "      <td>539</td>\n",
              "      <td>Lenovo</td>\n",
              "      <td>Thinkpad E470</td>\n",
              "      <td>Notebook</td>\n",
              "      <td>14.0</td>\n",
              "      <td>IPS Panel Full HD 1920x1080</td>\n",
              "      <td>Intel Core i7 7500U 2.7GHz</td>\n",
              "      <td>8GB</td>\n",
              "      <td>256GB SSD</td>\n",
              "      <td>Nvidia GeForce 940MX</td>\n",
              "      <td>Windows 10</td>\n",
              "      <td>1.87kg</td>\n",
              "      <td>859.00</td>\n",
              "    </tr>\n",
              "  </tbody>\n",
              "</table>\n",
              "<p>912 rows × 13 columns</p>\n",
              "</div>\n",
              "      <button class=\"colab-df-convert\" onclick=\"convertToInteractive('df-fa92d58c-1e22-4819-a157-6d7894be96e9')\"\n",
              "              title=\"Convert this dataframe to an interactive table.\"\n",
              "              style=\"display:none;\">\n",
              "        \n",
              "  <svg xmlns=\"http://www.w3.org/2000/svg\" height=\"24px\"viewBox=\"0 0 24 24\"\n",
              "       width=\"24px\">\n",
              "    <path d=\"M0 0h24v24H0V0z\" fill=\"none\"/>\n",
              "    <path d=\"M18.56 5.44l.94 2.06.94-2.06 2.06-.94-2.06-.94-.94-2.06-.94 2.06-2.06.94zm-11 1L8.5 8.5l.94-2.06 2.06-.94-2.06-.94L8.5 2.5l-.94 2.06-2.06.94zm10 10l.94 2.06.94-2.06 2.06-.94-2.06-.94-.94-2.06-.94 2.06-2.06.94z\"/><path d=\"M17.41 7.96l-1.37-1.37c-.4-.4-.92-.59-1.43-.59-.52 0-1.04.2-1.43.59L10.3 9.45l-7.72 7.72c-.78.78-.78 2.05 0 2.83L4 21.41c.39.39.9.59 1.41.59.51 0 1.02-.2 1.41-.59l7.78-7.78 2.81-2.81c.8-.78.8-2.07 0-2.86zM5.41 20L4 18.59l7.72-7.72 1.47 1.35L5.41 20z\"/>\n",
              "  </svg>\n",
              "      </button>\n",
              "      \n",
              "  <style>\n",
              "    .colab-df-container {\n",
              "      display:flex;\n",
              "      flex-wrap:wrap;\n",
              "      gap: 12px;\n",
              "    }\n",
              "\n",
              "    .colab-df-convert {\n",
              "      background-color: #E8F0FE;\n",
              "      border: none;\n",
              "      border-radius: 50%;\n",
              "      cursor: pointer;\n",
              "      display: none;\n",
              "      fill: #1967D2;\n",
              "      height: 32px;\n",
              "      padding: 0 0 0 0;\n",
              "      width: 32px;\n",
              "    }\n",
              "\n",
              "    .colab-df-convert:hover {\n",
              "      background-color: #E2EBFA;\n",
              "      box-shadow: 0px 1px 2px rgba(60, 64, 67, 0.3), 0px 1px 3px 1px rgba(60, 64, 67, 0.15);\n",
              "      fill: #174EA6;\n",
              "    }\n",
              "\n",
              "    [theme=dark] .colab-df-convert {\n",
              "      background-color: #3B4455;\n",
              "      fill: #D2E3FC;\n",
              "    }\n",
              "\n",
              "    [theme=dark] .colab-df-convert:hover {\n",
              "      background-color: #434B5C;\n",
              "      box-shadow: 0px 1px 3px 1px rgba(0, 0, 0, 0.15);\n",
              "      filter: drop-shadow(0px 1px 2px rgba(0, 0, 0, 0.3));\n",
              "      fill: #FFFFFF;\n",
              "    }\n",
              "  </style>\n",
              "\n",
              "      <script>\n",
              "        const buttonEl =\n",
              "          document.querySelector('#df-fa92d58c-1e22-4819-a157-6d7894be96e9 button.colab-df-convert');\n",
              "        buttonEl.style.display =\n",
              "          google.colab.kernel.accessAllowed ? 'block' : 'none';\n",
              "\n",
              "        async function convertToInteractive(key) {\n",
              "          const element = document.querySelector('#df-fa92d58c-1e22-4819-a157-6d7894be96e9');\n",
              "          const dataTable =\n",
              "            await google.colab.kernel.invokeFunction('convertToInteractive',\n",
              "                                                     [key], {});\n",
              "          if (!dataTable) return;\n",
              "\n",
              "          const docLinkHtml = 'Like what you see? Visit the ' +\n",
              "            '<a target=\"_blank\" href=https://colab.research.google.com/notebooks/data_table.ipynb>data table notebook</a>'\n",
              "            + ' to learn more about interactive tables.';\n",
              "          element.innerHTML = '';\n",
              "          dataTable['output_type'] = 'display_data';\n",
              "          await google.colab.output.renderOutput(dataTable, element);\n",
              "          const docLink = document.createElement('div');\n",
              "          docLink.innerHTML = docLinkHtml;\n",
              "          element.appendChild(docLink);\n",
              "        }\n",
              "      </script>\n",
              "    </div>\n",
              "  </div>\n",
              "  "
            ]
          },
          "metadata": {},
          "execution_count": 11
        }
      ],
      "source": [
        "import pandas as pd\n",
        "train_dataframe= pd.read_csv(\"https://raw.githubusercontent.com/rodrigotorresp/Practica-Regresi-n-ML/main/train.csv\");\n",
        "train_dataframe"
      ]
    },
    {
      "cell_type": "markdown",
      "source": [
        "Importamos el fichero de datos"
      ],
      "metadata": {
        "id": "yCgUuurYmMdC"
      }
    },
    {
      "cell_type": "code",
      "source": [
        "import sklearn.compose\n",
        "\n",
        "colum_transformer = sklearn.compose.ColumnTransformer(transformers=[\n",
        "    (\"Laptop Id\" , \"drop\", [0]),\n",
        "    (\"Company\" , sklearn.preprocessing.OrdinalEncoder(), [1]),\n",
        "    (\"Product\" , \"drop\", [2]),\n",
        "    (\"TypeName\" , sklearn.preprocessing.OrdinalEncoder(), [3]),\n",
        "    (\"Inches\" , \"passthrough\", [4]),\n",
        "    (\"ScreenResolution\" , sklearn.preprocessing.OrdinalEncoder(), [5]),\n",
        "    (\"CPU\" , sklearn.preprocessing.OrdinalEncoder(), [6]),\n",
        "    (\"RAM\" , sklearn.preprocessing.OrdinalEncoder(), [7]),\n",
        "    (\"Memory\" , sklearn.preprocessing.OrdinalEncoder(), [8]),\n",
        "    (\"GPU\" , sklearn.preprocessing.OrdinalEncoder(), [9]),\n",
        "    (\"OPSYS\" , sklearn.preprocessing.OrdinalEncoder(), [10]),\n",
        "    (\"Weight\" , sklearn.preprocessing.OrdinalEncoder(), [11]),\n",
        "    (\"Price\" , \"drop\", [12])\n",
        "\n",
        "    ]);\n",
        "  "
      ],
      "metadata": {
        "id": "Sc2j2XdAmUd4"
      },
      "execution_count": 21,
      "outputs": []
    },
    {
      "cell_type": "code",
      "source": [
        "train_dataframe_transform=colum_transformer.fit_transform(train_dataframe)\n",
        "train_dataframe_transform"
      ],
      "metadata": {
        "colab": {
          "base_uri": "https://localhost:8080/"
        },
        "id": "wHAc5NaSpNZv",
        "outputId": "933c60a4-19e9-46eb-991f-5fc16d4320a1"
      },
      "execution_count": 23,
      "outputs": [
        {
          "output_type": "execute_result",
          "data": {
            "text/plain": [
              "array([[ 16. ,   3. ,  13.3, ...,  38. ,   7. ,  28. ],\n",
              "       [  7. ,   4. ,  13.3, ...,  43. ,   5. ,  10. ],\n",
              "       [  4. ,   3. ,  15.6, ...,  50. ,   5. ,  83. ],\n",
              "       ...,\n",
              "       [  4. ,   3. ,  15.6, ...,  21. ,   5. , 107. ],\n",
              "       [  4. ,   3. ,  15.6, ...,  17. ,   2. , 105. ],\n",
              "       [ 10. ,   3. ,  14. , ...,  59. ,   5. ,  70. ]])"
            ]
          },
          "metadata": {},
          "execution_count": 23
        }
      ]
    },
    {
      "cell_type": "code",
      "source": [
        "import matplotlib.pyplot as plt\n",
        "from sklearn.linear_model import LinearRegression\n",
        "\n",
        "X = train_dataframe_transform.data\n",
        "y = train_dataframe.Price\n",
        "\n",
        "reg = LinearRegression().fit(X, y)\n",
        "reg.intercept_"
      ],
      "metadata": {
        "colab": {
          "base_uri": "https://localhost:8080/"
        },
        "id": "4a5y8YxTs1fT",
        "outputId": "6a1a72b2-b1ac-4d7b-b335-8a1dee56d36f"
      },
      "execution_count": 24,
      "outputs": [
        {
          "output_type": "execute_result",
          "data": {
            "text/plain": [
              "-1427.0913015556564"
            ]
          },
          "metadata": {},
          "execution_count": 24
        }
      ]
    },
    {
      "cell_type": "code",
      "source": [
        "\n",
        "reg.coef_\n"
      ],
      "metadata": {
        "colab": {
          "base_uri": "https://localhost:8080/"
        },
        "id": "knV4BCeNtJ6y",
        "outputId": "f2b45910-43c7-45a6-9c02-dcdd50325bf5"
      },
      "execution_count": 25,
      "outputs": [
        {
          "output_type": "execute_result",
          "data": {
            "text/plain": [
              "array([ 10.55111726,   3.26582692,  70.98732596,  17.59206966,\n",
              "         9.46625382, -67.12712948,  11.99488688,   9.16639857,\n",
              "       116.64062585,  -2.64588047])"
            ]
          },
          "metadata": {},
          "execution_count": 25
        }
      ]
    },
    {
      "cell_type": "code",
      "source": [
        "from sklearn.datasets import make_regression\n",
        "import matplotlib.pyplot as plt\n",
        "import numpy as np\n",
        "\n",
        "X, y = make_regression(n_samples=913, n_features=13, n_informative=11, n_targets=1)\n",
        "\n",
        "plt.figure()\n",
        "\n",
        "min_x = np.min(X)\n",
        "max_x = np.max(X)\n",
        "diff_x = max_x - min_x\n",
        "\n",
        "min_y = np.min(y)\n",
        "max_y = np.max(y)\n",
        "diff_y = max_y - min_y\n",
        "\n",
        "plt.xlim(min_x - 0.1 * diff_x, max_x + 0.1 * diff_x)\n",
        "plt.ylim(min_y - 0.1 * diff_y, max_y + 0.1 * diff_y)\n",
        "\n",
        "plt.xlabel('x')\n",
        "plt.ylabel('y')\n",
        "\n",
        "plt.scatter(X[:,0], y)"
      ],
      "metadata": {
        "colab": {
          "base_uri": "https://localhost:8080/",
          "height": 296
        },
        "id": "hKeIxEM5tQoh",
        "outputId": "4f3e923b-2069-410e-932c-2525ec20090e"
      },
      "execution_count": 26,
      "outputs": [
        {
          "output_type": "execute_result",
          "data": {
            "text/plain": [
              "<matplotlib.collections.PathCollection at 0x7f1518102ad0>"
            ]
          },
          "metadata": {},
          "execution_count": 26
        },
        {
          "output_type": "display_data",
          "data": {
            "text/plain": [
              "<Figure size 432x288 with 1 Axes>"
            ],
            "image/png": "[encoded data removed]"
          },
          "metadata": {
            "needs_background": "light"
          }
        }
      ]
    },
    {
      "cell_type": "code",
      "source": [
        "n,m = X.shape\n",
        "x0 = np.ones((n,1))\n",
        "stack = np.hstack((x0, X))\n",
        "\n",
        "# beta = ((X^t * X)^-1 * X^t) * y\n",
        "beta = np.dot(np.dot(np.linalg.inv(np.dot(np.transpose(stack), stack)), np.transpose(stack)), y)\n",
        "beta"
      ],
      "metadata": {
        "colab": {
          "base_uri": "https://localhost:8080/"
        },
        "id": "IJWaVblRteca",
        "outputId": "605c796a-4138-435e-fdcd-88815223cdb4"
      },
      "execution_count": 27,
      "outputs": [
        {
          "output_type": "execute_result",
          "data": {
            "text/plain": [
              "array([ 1.72084569e-15,  6.52205997e+01,  8.99026115e+01,  1.54220908e+01,\n",
              "       -6.10622664e-15,  2.61086725e-15,  9.14476247e+01,  2.57906502e+01,\n",
              "        5.70574200e+00,  9.41195411e+01,  2.43899810e+01,  5.71965951e+01,\n",
              "        1.51835268e+01,  1.56553583e+01])"
            ]
          },
          "metadata": {},
          "execution_count": 27
        }
      ]
    },
    {
      "cell_type": "code",
      "source": [
        "plt.figure()\n",
        "\n",
        "min_x = np.min(X)\n",
        "max_x = np.max(X)\n",
        "diff_x = max_x - min_x\n",
        "\n",
        "min_y = np.min(y)\n",
        "max_y = np.max(y)\n",
        "diff_y = max_y - min_y\n",
        "\n",
        "plt.xlim(min_x - 0.1 * diff_x, max_x + 0.1 * diff_x)\n",
        "plt.ylim(min_y - 0.1 * diff_y, max_y + 0.1 * diff_y)\n",
        "\n",
        "plt.xlabel('x1')\n",
        "plt.ylabel('y')\n",
        "\n",
        "plt.scatter(X[:,0], y, zorder=10)\n",
        "\n",
        "line = np.linspace(min_x - 0.1 * diff_x, max_x + 0.1 * diff_x)\n",
        "plt.plot(line, beta[0] + beta[1] * line, c='red')\n"
      ],
      "metadata": {
        "colab": {
          "base_uri": "https://localhost:8080/",
          "height": 296
        },
        "id": "9OLy0b-4tlQ5",
        "outputId": "238b1016-2049-4134-eaf8-847e902e3239"
      },
      "execution_count": 28,
      "outputs": [
        {
          "output_type": "execute_result",
          "data": {
            "text/plain": [
              "[<matplotlib.lines.Line2D at 0x7f1517c2f550>]"
            ]
          },
          "metadata": {},
          "execution_count": 28
        },
        {
          "output_type": "display_data",
          "data": {
            "text/plain": [
              "<Figure size 432x288 with 1 Axes>"
            ],
            "image/png": "[encoded data removed]"
          },
          "metadata": {
            "needs_background": "light"
          }
        }
      ]
    },
    {
      "cell_type": "code",
      "source": [
        "from sklearn.linear_model import Ridge\n",
        "from sklearn.metrics import mean_absolute_error, mean_squared_error\n",
        "ridge = Ridge(alpha=1.0).fit(X, y)\n",
        "\n",
        "y_pred = ridge.predict(X)\n",
        "\n",
        "print(\"MAE: \", mean_absolute_error(y, y_pred))\n",
        "print(\"MSE: \", mean_squared_error(y, y_pred))\n",
        "print(\"R2: \", ridge.score(X, y))"
      ],
      "metadata": {
        "colab": {
          "base_uri": "https://localhost:8080/"
        },
        "id": "MVMry44vtwtp",
        "outputId": "a916819d-7901-4258-8e85-1bdeed2cb0bc"
      },
      "execution_count": 29,
      "outputs": [
        {
          "output_type": "stream",
          "name": "stdout",
          "text": [
            "MAE:  0.17265946146357095\n",
            "MSE:  0.045857492257222\n",
            "R2:  0.9999985982263175\n"
          ]
        }
      ]
    }
  ]
}