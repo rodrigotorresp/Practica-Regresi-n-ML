{
  "nbformat": 4,
  "nbformat_minor": 0,
  "metadata": {
    "colab": {
      "provenance": [],
      "include_colab_link": true
    },
    "kernelspec": {
      "name": "python3",
      "display_name": "Python 3"
    },
    "language_info": {
      "name": "python"
    }
  },
  "cells": [
    {
      "cell_type": "markdown",
      "metadata": {
        "id": "view-in-github",
        "colab_type": "text"
      },
      "source": [
        "<a href=\"https://colab.research.google.com/github/rodrigotorresp/Practica-Regresi-n-ML/blob/main/Practica2Entrega.ipynb\" target=\"_parent\"><img src=\"https://colab.research.google.com/assets/colab-badge.svg\" alt=\"Open In Colab\"/></a>"
      ]
    },
    {
      "cell_type": "markdown",
      "source": [
        "#Importar dataset"
      ],
      "metadata": {
        "id": "iy4Dw4lsETRr"
      }
    },
    {
      "cell_type": "code",
      "execution_count": 1,
      "metadata": {
        "colab": {
          "base_uri": "https://localhost:8080/",
          "height": 557
        },
        "id": "VL_Sy_FzPEsX",
        "outputId": "ddfdd9ab-253c-454d-bc52-14648b6f1f78"
      },
      "outputs": [
        {
          "output_type": "execute_result",
          "data": {
            "text/plain": [
              "           ID  Customer_ID  Month               Name   Age          SSN  \\\n",
              "0       43161         3985      4          Lawrencez  40.0  856431180.0   \n",
              "1       40663        49494      2          Mohammedr  39.0  417453942.0   \n",
              "2      111059         2925      6          Alistairn  17.0  499528888.0   \n",
              "3       72139        21358      2       Dinesh Naire  22.0  859449371.0   \n",
              "4      119841        21221      4             Bakerg  26.0  485239890.0   \n",
              "...       ...          ...    ...                ...   ...          ...   \n",
              "79995   42636        39869      7  Hendrik Sackmannb  50.0  217529489.0   \n",
              "79996  114031        38305      2              Alexj  33.0   98861902.0   \n",
              "79997   85991         9976      6     Luciana Lopezi  25.0  745835485.0   \n",
              "79998   21240        13193      7      Edward Krudyd  15.0  894419091.0   \n",
              "79999   73558        15294      5              Neilp  30.0   17531609.0   \n",
              "\n",
              "          Occupation  Annual_Income  Monthly_Inhand_Salary  Num_Bank_Accounts  \\\n",
              "0         Accountant       97384.44            8167.370000                1.0   \n",
              "1             Writer       31369.58            2607.131667                8.0   \n",
              "2             Writer       30171.86            2772.321667                6.0   \n",
              "3             Doctor       13100.02            1246.668333                7.0   \n",
              "4             Doctor       62313.54            5120.795000                6.0   \n",
              "...              ...            ...                    ...                ...   \n",
              "79995  Media_Manager      107761.29            9047.107500                4.0   \n",
              "79996      Scientist       16218.32            1098.526667                6.0   \n",
              "79997       Engineer       29374.77            2377.897500                3.0   \n",
              "79998        Manager       43782.45            3543.537500                6.0   \n",
              "79999         Lawyer      102215.61            8482.967500                2.0   \n",
              "\n",
              "       ...  Credit_Mix  Outstanding_Debt  Credit_Utilization_Ratio  \\\n",
              "0      ...        Good            405.45                 32.643281   \n",
              "1      ...         Bad           4259.91                 39.375507   \n",
              "2      ...         Bad           3406.51                 34.039021   \n",
              "3      ...    Standard            727.29                 34.747262   \n",
              "4      ...    Standard            817.64                 24.545394   \n",
              "...    ...         ...               ...                       ...   \n",
              "79995  ...    Standard             34.09                 41.899992   \n",
              "79996  ...         Bad           4466.33                 24.275710   \n",
              "79997  ...    Standard           1189.37                 38.439021   \n",
              "79998  ...         Bad           3468.25                 24.233841   \n",
              "79999  ...        Good             79.67                 27.903216   \n",
              "\n",
              "      Credit_History_Age  Payment_of_Min_Amount  Total_EMI_per_month  \\\n",
              "0                  336.0                     No            77.284943   \n",
              "1                  144.0                    Yes           171.748418   \n",
              "2                  123.0                    Yes           205.403926   \n",
              "3                  129.0                    Yes            41.177132   \n",
              "4                  122.0                     NM           196.679642   \n",
              "...                  ...                    ...                  ...   \n",
              "79995              211.0                    Yes             0.000000   \n",
              "79996               98.0                     NM            64.533114   \n",
              "79997              241.0                     NM            40.264074   \n",
              "79998               85.0                    Yes           240.664739   \n",
              "79999              366.0                     No            60.567361   \n",
              "\n",
              "       Amount_invested_monthly                 Payment_Behaviour  \\\n",
              "0                    53.714219   High_spent_Large_value_payments   \n",
              "1                    44.990811   High_spent_Large_value_payments   \n",
              "2                    40.781489   High_spent_Large_value_payments   \n",
              "3                    23.005463    Low_spent_Large_value_payments   \n",
              "4                    63.346750   Low_spent_Medium_value_payments   \n",
              "...                        ...                               ...   \n",
              "79995               150.220682   High_spent_Large_value_payments   \n",
              "79996                34.457893   High_spent_Small_value_payments   \n",
              "79997                22.234178  High_spent_Medium_value_payments   \n",
              "79998                42.839562    Low_spent_Large_value_payments   \n",
              "79999                60.971467   Low_spent_Medium_value_payments   \n",
              "\n",
              "      Monthly_Balance  Credit_Score  \n",
              "0          847.172909      Standard  \n",
              "1          280.855383      Standard  \n",
              "2          247.322615      Standard  \n",
              "3          298.156832      Standard  \n",
              "4          152.669902      Standard  \n",
              "...               ...           ...  \n",
              "79995      984.123010      Standard  \n",
              "79996      260.523798          Poor  \n",
              "79997      403.980355      Standard  \n",
              "79998      146.741586          Poor  \n",
              "79999      355.384222          Good  \n",
              "\n",
              "[80000 rows x 28 columns]"
            ],
            "text/html": [
              "\n",
              "  <div id=\"df-4d6b854b-92f6-46eb-95d9-00407573df5d\">\n",
              "    <div class=\"colab-df-container\">\n",
              "      <div>\n",
              "<style scoped>\n",
              "    .dataframe tbody tr th:only-of-type {\n",
              "        vertical-align: middle;\n",
              "    }\n",
              "\n",
              "    .dataframe tbody tr th {\n",
              "        vertical-align: top;\n",
              "    }\n",
              "\n",
              "    .dataframe thead th {\n",
              "        text-align: right;\n",
              "    }\n",
              "</style>\n",
              "<table border=\"1\" class=\"dataframe\">\n",
              "  <thead>\n",
              "    <tr style=\"text-align: right;\">\n",
              "      <th></th>\n",
              "      <th>ID</th>\n",
              "      <th>Customer_ID</th>\n",
              "      <th>Month</th>\n",
              "      <th>Name</th>\n",
              "      <th>Age</th>\n",
              "      <th>SSN</th>\n",
              "      <th>Occupation</th>\n",
              "      <th>Annual_Income</th>\n",
              "      <th>Monthly_Inhand_Salary</th>\n",
              "      <th>Num_Bank_Accounts</th>\n",
              "      <th>...</th>\n",
              "      <th>Credit_Mix</th>\n",
              "      <th>Outstanding_Debt</th>\n",
              "      <th>Credit_Utilization_Ratio</th>\n",
              "      <th>Credit_History_Age</th>\n",
              "      <th>Payment_of_Min_Amount</th>\n",
              "      <th>Total_EMI_per_month</th>\n",
              "      <th>Amount_invested_monthly</th>\n",
              "      <th>Payment_Behaviour</th>\n",
              "      <th>Monthly_Balance</th>\n",
              "      <th>Credit_Score</th>\n",
              "    </tr>\n",
              "  </thead>\n",
              "  <tbody>\n",
              "    <tr>\n",
              "      <th>0</th>\n",
              "      <td>43161</td>\n",
              "      <td>3985</td>\n",
              "      <td>4</td>\n",
              "      <td>Lawrencez</td>\n",
              "      <td>40.0</td>\n",
              "      <td>856431180.0</td>\n",
              "      <td>Accountant</td>\n",
              "      <td>97384.44</td>\n",
              "      <td>8167.370000</td>\n",
              "      <td>1.0</td>\n",
              "      <td>...</td>\n",
              "      <td>Good</td>\n",
              "      <td>405.45</td>\n",
              "      <td>32.643281</td>\n",
              "      <td>336.0</td>\n",
              "      <td>No</td>\n",
              "      <td>77.284943</td>\n",
              "      <td>53.714219</td>\n",
              "      <td>High_spent_Large_value_payments</td>\n",
              "      <td>847.172909</td>\n",
              "      <td>Standard</td>\n",
              "    </tr>\n",
              "    <tr>\n",
              "      <th>1</th>\n",
              "      <td>40663</td>\n",
              "      <td>49494</td>\n",
              "      <td>2</td>\n",
              "      <td>Mohammedr</td>\n",
              "      <td>39.0</td>\n",
              "      <td>417453942.0</td>\n",
              "      <td>Writer</td>\n",
              "      <td>31369.58</td>\n",
              "      <td>2607.131667</td>\n",
              "      <td>8.0</td>\n",
              "      <td>...</td>\n",
              "      <td>Bad</td>\n",
              "      <td>4259.91</td>\n",
              "      <td>39.375507</td>\n",
              "      <td>144.0</td>\n",
              "      <td>Yes</td>\n",
              "      <td>171.748418</td>\n",
              "      <td>44.990811</td>\n",
              "      <td>High_spent_Large_value_payments</td>\n",
              "      <td>280.855383</td>\n",
              "      <td>Standard</td>\n",
              "    </tr>\n",
              "    <tr>\n",
              "      <th>2</th>\n",
              "      <td>111059</td>\n",
              "      <td>2925</td>\n",
              "      <td>6</td>\n",
              "      <td>Alistairn</td>\n",
              "      <td>17.0</td>\n",
              "      <td>499528888.0</td>\n",
              "      <td>Writer</td>\n",
              "      <td>30171.86</td>\n",
              "      <td>2772.321667</td>\n",
              "      <td>6.0</td>\n",
              "      <td>...</td>\n",
              "      <td>Bad</td>\n",
              "      <td>3406.51</td>\n",
              "      <td>34.039021</td>\n",
              "      <td>123.0</td>\n",
              "      <td>Yes</td>\n",
              "      <td>205.403926</td>\n",
              "      <td>40.781489</td>\n",
              "      <td>High_spent_Large_value_payments</td>\n",
              "      <td>247.322615</td>\n",
              "      <td>Standard</td>\n",
              "    </tr>\n",
              "    <tr>\n",
              "      <th>3</th>\n",
              "      <td>72139</td>\n",
              "      <td>21358</td>\n",
              "      <td>2</td>\n",
              "      <td>Dinesh Naire</td>\n",
              "      <td>22.0</td>\n",
              "      <td>859449371.0</td>\n",
              "      <td>Doctor</td>\n",
              "      <td>13100.02</td>\n",
              "      <td>1246.668333</td>\n",
              "      <td>7.0</td>\n",
              "      <td>...</td>\n",
              "      <td>Standard</td>\n",
              "      <td>727.29</td>\n",
              "      <td>34.747262</td>\n",
              "      <td>129.0</td>\n",
              "      <td>Yes</td>\n",
              "      <td>41.177132</td>\n",
              "      <td>23.005463</td>\n",
              "      <td>Low_spent_Large_value_payments</td>\n",
              "      <td>298.156832</td>\n",
              "      <td>Standard</td>\n",
              "    </tr>\n",
              "    <tr>\n",
              "      <th>4</th>\n",
              "      <td>119841</td>\n",
              "      <td>21221</td>\n",
              "      <td>4</td>\n",
              "      <td>Bakerg</td>\n",
              "      <td>26.0</td>\n",
              "      <td>485239890.0</td>\n",
              "      <td>Doctor</td>\n",
              "      <td>62313.54</td>\n",
              "      <td>5120.795000</td>\n",
              "      <td>6.0</td>\n",
              "      <td>...</td>\n",
              "      <td>Standard</td>\n",
              "      <td>817.64</td>\n",
              "      <td>24.545394</td>\n",
              "      <td>122.0</td>\n",
              "      <td>NM</td>\n",
              "      <td>196.679642</td>\n",
              "      <td>63.346750</td>\n",
              "      <td>Low_spent_Medium_value_payments</td>\n",
              "      <td>152.669902</td>\n",
              "      <td>Standard</td>\n",
              "    </tr>\n",
              "    <tr>\n",
              "      <th>...</th>\n",
              "      <td>...</td>\n",
              "      <td>...</td>\n",
              "      <td>...</td>\n",
              "      <td>...</td>\n",
              "      <td>...</td>\n",
              "      <td>...</td>\n",
              "      <td>...</td>\n",
              "      <td>...</td>\n",
              "      <td>...</td>\n",
              "      <td>...</td>\n",
              "      <td>...</td>\n",
              "      <td>...</td>\n",
              "      <td>...</td>\n",
              "      <td>...</td>\n",
              "      <td>...</td>\n",
              "      <td>...</td>\n",
              "      <td>...</td>\n",
              "      <td>...</td>\n",
              "      <td>...</td>\n",
              "      <td>...</td>\n",
              "      <td>...</td>\n",
              "    </tr>\n",
              "    <tr>\n",
              "      <th>79995</th>\n",
              "      <td>42636</td>\n",
              "      <td>39869</td>\n",
              "      <td>7</td>\n",
              "      <td>Hendrik Sackmannb</td>\n",
              "      <td>50.0</td>\n",
              "      <td>217529489.0</td>\n",
              "      <td>Media_Manager</td>\n",
              "      <td>107761.29</td>\n",
              "      <td>9047.107500</td>\n",
              "      <td>4.0</td>\n",
              "      <td>...</td>\n",
              "      <td>Standard</td>\n",
              "      <td>34.09</td>\n",
              "      <td>41.899992</td>\n",
              "      <td>211.0</td>\n",
              "      <td>Yes</td>\n",
              "      <td>0.000000</td>\n",
              "      <td>150.220682</td>\n",
              "      <td>High_spent_Large_value_payments</td>\n",
              "      <td>984.123010</td>\n",
              "      <td>Standard</td>\n",
              "    </tr>\n",
              "    <tr>\n",
              "      <th>79996</th>\n",
              "      <td>114031</td>\n",
              "      <td>38305</td>\n",
              "      <td>2</td>\n",
              "      <td>Alexj</td>\n",
              "      <td>33.0</td>\n",
              "      <td>98861902.0</td>\n",
              "      <td>Scientist</td>\n",
              "      <td>16218.32</td>\n",
              "      <td>1098.526667</td>\n",
              "      <td>6.0</td>\n",
              "      <td>...</td>\n",
              "      <td>Bad</td>\n",
              "      <td>4466.33</td>\n",
              "      <td>24.275710</td>\n",
              "      <td>98.0</td>\n",
              "      <td>NM</td>\n",
              "      <td>64.533114</td>\n",
              "      <td>34.457893</td>\n",
              "      <td>High_spent_Small_value_payments</td>\n",
              "      <td>260.523798</td>\n",
              "      <td>Poor</td>\n",
              "    </tr>\n",
              "    <tr>\n",
              "      <th>79997</th>\n",
              "      <td>85991</td>\n",
              "      <td>9976</td>\n",
              "      <td>6</td>\n",
              "      <td>Luciana Lopezi</td>\n",
              "      <td>25.0</td>\n",
              "      <td>745835485.0</td>\n",
              "      <td>Engineer</td>\n",
              "      <td>29374.77</td>\n",
              "      <td>2377.897500</td>\n",
              "      <td>3.0</td>\n",
              "      <td>...</td>\n",
              "      <td>Standard</td>\n",
              "      <td>1189.37</td>\n",
              "      <td>38.439021</td>\n",
              "      <td>241.0</td>\n",
              "      <td>NM</td>\n",
              "      <td>40.264074</td>\n",
              "      <td>22.234178</td>\n",
              "      <td>High_spent_Medium_value_payments</td>\n",
              "      <td>403.980355</td>\n",
              "      <td>Standard</td>\n",
              "    </tr>\n",
              "    <tr>\n",
              "      <th>79998</th>\n",
              "      <td>21240</td>\n",
              "      <td>13193</td>\n",
              "      <td>7</td>\n",
              "      <td>Edward Krudyd</td>\n",
              "      <td>15.0</td>\n",
              "      <td>894419091.0</td>\n",
              "      <td>Manager</td>\n",
              "      <td>43782.45</td>\n",
              "      <td>3543.537500</td>\n",
              "      <td>6.0</td>\n",
              "      <td>...</td>\n",
              "      <td>Bad</td>\n",
              "      <td>3468.25</td>\n",
              "      <td>24.233841</td>\n",
              "      <td>85.0</td>\n",
              "      <td>Yes</td>\n",
              "      <td>240.664739</td>\n",
              "      <td>42.839562</td>\n",
              "      <td>Low_spent_Large_value_payments</td>\n",
              "      <td>146.741586</td>\n",
              "      <td>Poor</td>\n",
              "    </tr>\n",
              "    <tr>\n",
              "      <th>79999</th>\n",
              "      <td>73558</td>\n",
              "      <td>15294</td>\n",
              "      <td>5</td>\n",
              "      <td>Neilp</td>\n",
              "      <td>30.0</td>\n",
              "      <td>17531609.0</td>\n",
              "      <td>Lawyer</td>\n",
              "      <td>102215.61</td>\n",
              "      <td>8482.967500</td>\n",
              "      <td>2.0</td>\n",
              "      <td>...</td>\n",
              "      <td>Good</td>\n",
              "      <td>79.67</td>\n",
              "      <td>27.903216</td>\n",
              "      <td>366.0</td>\n",
              "      <td>No</td>\n",
              "      <td>60.567361</td>\n",
              "      <td>60.971467</td>\n",
              "      <td>Low_spent_Medium_value_payments</td>\n",
              "      <td>355.384222</td>\n",
              "      <td>Good</td>\n",
              "    </tr>\n",
              "  </tbody>\n",
              "</table>\n",
              "<p>80000 rows × 28 columns</p>\n",
              "</div>\n",
              "      <button class=\"colab-df-convert\" onclick=\"convertToInteractive('df-4d6b854b-92f6-46eb-95d9-00407573df5d')\"\n",
              "              title=\"Convert this dataframe to an interactive table.\"\n",
              "              style=\"display:none;\">\n",
              "        \n",
              "  <svg xmlns=\"http://www.w3.org/2000/svg\" height=\"24px\"viewBox=\"0 0 24 24\"\n",
              "       width=\"24px\">\n",
              "    <path d=\"M0 0h24v24H0V0z\" fill=\"none\"/>\n",
              "    <path d=\"M18.56 5.44l.94 2.06.94-2.06 2.06-.94-2.06-.94-.94-2.06-.94 2.06-2.06.94zm-11 1L8.5 8.5l.94-2.06 2.06-.94-2.06-.94L8.5 2.5l-.94 2.06-2.06.94zm10 10l.94 2.06.94-2.06 2.06-.94-2.06-.94-.94-2.06-.94 2.06-2.06.94z\"/><path d=\"M17.41 7.96l-1.37-1.37c-.4-.4-.92-.59-1.43-.59-.52 0-1.04.2-1.43.59L10.3 9.45l-7.72 7.72c-.78.78-.78 2.05 0 2.83L4 21.41c.39.39.9.59 1.41.59.51 0 1.02-.2 1.41-.59l7.78-7.78 2.81-2.81c.8-.78.8-2.07 0-2.86zM5.41 20L4 18.59l7.72-7.72 1.47 1.35L5.41 20z\"/>\n",
              "  </svg>\n",
              "      </button>\n",
              "      \n",
              "  <style>\n",
              "    .colab-df-container {\n",
              "      display:flex;\n",
              "      flex-wrap:wrap;\n",
              "      gap: 12px;\n",
              "    }\n",
              "\n",
              "    .colab-df-convert {\n",
              "      background-color: #E8F0FE;\n",
              "      border: none;\n",
              "      border-radius: 50%;\n",
              "      cursor: pointer;\n",
              "      display: none;\n",
              "      fill: #1967D2;\n",
              "      height: 32px;\n",
              "      padding: 0 0 0 0;\n",
              "      width: 32px;\n",
              "    }\n",
              "\n",
              "    .colab-df-convert:hover {\n",
              "      background-color: #E2EBFA;\n",
              "      box-shadow: 0px 1px 2px rgba(60, 64, 67, 0.3), 0px 1px 3px 1px rgba(60, 64, 67, 0.15);\n",
              "      fill: #174EA6;\n",
              "    }\n",
              "\n",
              "    [theme=dark] .colab-df-convert {\n",
              "      background-color: #3B4455;\n",
              "      fill: #D2E3FC;\n",
              "    }\n",
              "\n",
              "    [theme=dark] .colab-df-convert:hover {\n",
              "      background-color: #434B5C;\n",
              "      box-shadow: 0px 1px 3px 1px rgba(0, 0, 0, 0.15);\n",
              "      filter: drop-shadow(0px 1px 2px rgba(0, 0, 0, 0.3));\n",
              "      fill: #FFFFFF;\n",
              "    }\n",
              "  </style>\n",
              "\n",
              "      <script>\n",
              "        const buttonEl =\n",
              "          document.querySelector('#df-4d6b854b-92f6-46eb-95d9-00407573df5d button.colab-df-convert');\n",
              "        buttonEl.style.display =\n",
              "          google.colab.kernel.accessAllowed ? 'block' : 'none';\n",
              "\n",
              "        async function convertToInteractive(key) {\n",
              "          const element = document.querySelector('#df-4d6b854b-92f6-46eb-95d9-00407573df5d');\n",
              "          const dataTable =\n",
              "            await google.colab.kernel.invokeFunction('convertToInteractive',\n",
              "                                                     [key], {});\n",
              "          if (!dataTable) return;\n",
              "\n",
              "          const docLinkHtml = 'Like what you see? Visit the ' +\n",
              "            '<a target=\"_blank\" href=https://colab.research.google.com/notebooks/data_table.ipynb>data table notebook</a>'\n",
              "            + ' to learn more about interactive tables.';\n",
              "          element.innerHTML = '';\n",
              "          dataTable['output_type'] = 'display_data';\n",
              "          await google.colab.output.renderOutput(dataTable, element);\n",
              "          const docLink = document.createElement('div');\n",
              "          docLink.innerHTML = docLinkHtml;\n",
              "          element.appendChild(docLink);\n",
              "        }\n",
              "      </script>\n",
              "    </div>\n",
              "  </div>\n",
              "  "
            ]
          },
          "metadata": {},
          "execution_count": 1
        }
      ],
      "source": [
        "import pandas as pd\n",
        "train_dataframe = pd.read_csv(\"https://raw.githubusercontent.com/samuelrodriguezgil/PracticaClasificacion/main/train.csv\");\n",
        "train_dataframe"
      ]
    },
    {
      "cell_type": "markdown",
      "source": [
        "#Analizar variables"
      ],
      "metadata": {
        "id": "nSjPVdemfPUJ"
      }
    },
    {
      "cell_type": "code",
      "source": [
        "import matplotlib.pyplot as plt\n",
        "plt.hist(train_dataframe.Annual_Income)#Sueldo anual\n",
        "train_dataframe.Annual_Income.describe()"
      ],
      "metadata": {
        "id": "6BhRCANNJ6SO",
        "outputId": "0bdac35f-5dc4-4597-9ed0-4526ba9bb85f",
        "colab": {
          "base_uri": "https://localhost:8080/",
          "height": 421
        }
      },
      "execution_count": 2,
      "outputs": [
        {
          "output_type": "execute_result",
          "data": {
            "text/plain": [
              "count     80000.000000\n",
              "mean      50585.799411\n",
              "std       38395.227743\n",
              "min        7005.930000\n",
              "25%       19339.080000\n",
              "50%       37071.200000\n",
              "75%       71716.600000\n",
              "max      179987.280000\n",
              "Name: Annual_Income, dtype: float64"
            ]
          },
          "metadata": {},
          "execution_count": 2
        },
        {
          "output_type": "display_data",
          "data": {
            "text/plain": [
              "<Figure size 432x288 with 1 Axes>"
            ],
            "image/png": "[encoded data removed]"
          },
          "metadata": {
            "needs_background": "light"
          }
        }
      ]
    },
    {
      "cell_type": "code",
      "source": [
        "train_dataframe.Age.describe()"
      ],
      "metadata": {
        "id": "PJXwi90UySQt",
        "outputId": "1c17b6df-4eb0-494d-9ae5-f9a15297f8f7",
        "colab": {
          "base_uri": "https://localhost:8080/"
        }
      },
      "execution_count": 3,
      "outputs": [
        {
          "output_type": "execute_result",
          "data": {
            "text/plain": [
              "count    80000.000000\n",
              "mean        33.316850\n",
              "std         10.763678\n",
              "min         14.000000\n",
              "25%         24.000000\n",
              "50%         33.000000\n",
              "75%         42.000000\n",
              "max         56.000000\n",
              "Name: Age, dtype: float64"
            ]
          },
          "metadata": {},
          "execution_count": 3
        }
      ]
    },
    {
      "cell_type": "markdown",
      "source": [
        "Clustering"
      ],
      "metadata": {
        "id": "8FIgMM4ZfaU6"
      }
    },
    {
      "cell_type": "code",
      "source": [
        "plt.hist(train_dataframe.Monthly_Inhand_Salary)# Salario mensual\n",
        "train_dataframe.Monthly_Inhand_Salary.describe() #TRATARyordinal"
      ],
      "metadata": {
        "id": "tuKjayfRO13A",
        "outputId": "d21138b2-857b-4111-a7ba-f96828d0469c",
        "colab": {
          "base_uri": "https://localhost:8080/",
          "height": 421
        }
      },
      "execution_count": 4,
      "outputs": [
        {
          "output_type": "execute_result",
          "data": {
            "text/plain": [
              "count    80000.000000\n",
              "mean      4203.922883\n",
              "std       3194.593456\n",
              "min        303.645417\n",
              "25%       1625.558333\n",
              "50%       3101.371910\n",
              "75%       5967.333333\n",
              "max      15204.633333\n",
              "Name: Monthly_Inhand_Salary, dtype: float64"
            ]
          },
          "metadata": {},
          "execution_count": 4
        },
        {
          "output_type": "display_data",
          "data": {
            "text/plain": [
              "<Figure size 432x288 with 1 Axes>"
            ],
            "image/png": "[encoded data removed]"
          },
          "metadata": {
            "needs_background": "light"
          }
        }
      ]
    },
    {
      "cell_type": "code",
      "source": [
        "plt.hist(train_dataframe.Num_Bank_Accounts)#numero de cuentas en el banco"
      ],
      "metadata": {
        "id": "hBAwXKn5PD03",
        "outputId": "63d124c7-32ca-42da-8563-4b975ef30562",
        "colab": {
          "base_uri": "https://localhost:8080/",
          "height": 334
        }
      },
      "execution_count": 5,
      "outputs": [
        {
          "output_type": "execute_result",
          "data": {
            "text/plain": [
              "(array([ 7221.,  3508.,  9751.,  9855.,  9753., 10482., 10352., 10435.,\n",
              "         4373.,  4270.]),\n",
              " array([ 0. ,  1.1,  2.2,  3.3,  4.4,  5.5,  6.6,  7.7,  8.8,  9.9, 11. ]),\n",
              " <a list of 10 Patch objects>)"
            ]
          },
          "metadata": {},
          "execution_count": 5
        },
        {
          "output_type": "display_data",
          "data": {
            "text/plain": [
              "<Figure size 432x288 with 1 Axes>"
            ],
            "image/png": "[encoded data removed]"
          },
          "metadata": {
            "needs_background": "light"
          }
        }
      ]
    },
    {
      "cell_type": "code",
      "source": [
        "plt.hist(train_dataframe.Outstanding_Debt)#Deuda por pagar TRATARYORDINAL"
      ],
      "metadata": {
        "id": "8JQqFq6ePXdy",
        "outputId": "8ea5d84d-9550-493c-f93e-01c3cc2fc9a9",
        "colab": {
          "base_uri": "https://localhost:8080/",
          "height": 369
        }
      },
      "execution_count": 6,
      "outputs": [
        {
          "output_type": "execute_result",
          "data": {
            "text/plain": [
              "(array([17629., 16813., 20265.,  6060.,  5772.,  4709.,  2169.,  2354.,\n",
              "         2051.,  2178.]),\n",
              " array([2.300000e-01, 5.000140e+02, 9.997980e+02, 1.499582e+03,\n",
              "        1.999366e+03, 2.499150e+03, 2.998934e+03, 3.498718e+03,\n",
              "        3.998502e+03, 4.498286e+03, 4.998070e+03]),\n",
              " <a list of 10 Patch objects>)"
            ]
          },
          "metadata": {},
          "execution_count": 6
        },
        {
          "output_type": "display_data",
          "data": {
            "text/plain": [
              "<Figure size 432x288 with 1 Axes>"
            ],
            "image/png": "[encoded data removed]"
          },
          "metadata": {
            "needs_background": "light"
          }
        }
      ]
    },
    {
      "cell_type": "code",
      "source": [
        "plt.hist(train_dataframe.Monthly_Balance)# Balance mensual STandard"
      ],
      "metadata": {
        "id": "zp19kxHoPXVS",
        "outputId": "ba301aa0-c898-49d9-9425-585ce821d208",
        "colab": {
          "base_uri": "https://localhost:8080/",
          "height": 369
        }
      },
      "execution_count": 7,
      "outputs": [
        {
          "output_type": "execute_result",
          "data": {
            "text/plain": [
              "(array([ 2294.,  9496., 32903., 16225.,  7162.,  4558.,  3204.,  2110.,\n",
              "         1328.,   720.]),\n",
              " array([1.31135651e-01, 1.18511092e+02, 2.36891048e+02, 3.55271004e+02,\n",
              "        4.73650960e+02, 5.92030916e+02, 7.10410872e+02, 8.28790828e+02,\n",
              "        9.47170784e+02, 1.06555074e+03, 1.18393070e+03]),\n",
              " <a list of 10 Patch objects>)"
            ]
          },
          "metadata": {},
          "execution_count": 7
        },
        {
          "output_type": "display_data",
          "data": {
            "text/plain": [
              "<Figure size 432x288 with 1 Axes>"
            ],
            "image/png": "[encoded data removed]"
          },
          "metadata": {
            "needs_background": "light"
          }
        }
      ]
    },
    {
      "cell_type": "code",
      "source": [
        "plt.hist(train_dataframe.Total_EMI_per_month)#Lo que paga cada prestado al mes. TRATARYORDINAL "
      ],
      "metadata": {
        "id": "Osqj4MJYPXN6",
        "outputId": "5b6c96eb-1db7-441b-e8b2-39efdee8485d",
        "colab": {
          "base_uri": "https://localhost:8080/",
          "height": 369
        }
      },
      "execution_count": 8,
      "outputs": [
        {
          "output_type": "execute_result",
          "data": {
            "text/plain": [
              "(array([6.4466e+04, 1.2413e+04, 2.0790e+03, 4.9800e+02, 1.9700e+02,\n",
              "        1.3400e+02, 8.9000e+01, 4.1000e+01, 3.0000e+01, 5.3000e+01]),\n",
              " array([   0.        ,  177.91032538,  355.82065077,  533.73097615,\n",
              "         711.64130153,  889.55162691, 1067.4619523 , 1245.37227768,\n",
              "        1423.28260306, 1601.19292844, 1779.10325383]),\n",
              " <a list of 10 Patch objects>)"
            ]
          },
          "metadata": {},
          "execution_count": 8
        },
        {
          "output_type": "display_data",
          "data": {
            "text/plain": [
              "<Figure size 432x288 with 1 Axes>"
            ],
            "image/png": "[encoded data removed]"
          },
          "metadata": {
            "needs_background": "light"
          }
        }
      ]
    },
    {
      "cell_type": "code",
      "source": [
        "plt.hist(train_dataframe.Age) #"
      ],
      "metadata": {
        "id": "kDdDG-LKPXDi",
        "outputId": "a10b8309-6f2f-42a2-cb4e-378e9ec25131",
        "colab": {
          "base_uri": "https://localhost:8080/",
          "height": 334
        }
      },
      "execution_count": 9,
      "outputs": [
        {
          "output_type": "execute_result",
          "data": {
            "text/plain": [
              "(array([ 6621.,  9107.,  9172.,  9332.,  9248., 11776.,  8811.,  6851.,\n",
              "         4381.,  4701.]),\n",
              " array([14. , 18.2, 22.4, 26.6, 30.8, 35. , 39.2, 43.4, 47.6, 51.8, 56. ]),\n",
              " <a list of 10 Patch objects>)"
            ]
          },
          "metadata": {},
          "execution_count": 9
        },
        {
          "output_type": "display_data",
          "data": {
            "text/plain": [
              "<Figure size 432x288 with 1 Axes>"
            ],
            "image/png": "[encoded data removed]"
          },
          "metadata": {
            "needs_background": "light"
          }
        }
      ]
    },
    {
      "cell_type": "code",
      "source": [
        "plt.hist(train_dataframe.Occupation)\n",
        "train_dataframe.Occupation.describe()\n",
        "#ONEHOTENCODER"
      ],
      "metadata": {
        "id": "0cM8hTnjUcGr",
        "outputId": "57cbe2ee-bfa1-44e1-a312-b08c74bf3f7f",
        "colab": {
          "base_uri": "https://localhost:8080/",
          "height": 353
        }
      },
      "execution_count": 10,
      "outputs": [
        {
          "output_type": "execute_result",
          "data": {
            "text/plain": [
              "count      80000\n",
              "unique        15\n",
              "top       Lawyer\n",
              "freq        5682\n",
              "Name: Occupation, dtype: object"
            ]
          },
          "metadata": {},
          "execution_count": 10
        },
        {
          "output_type": "display_data",
          "data": {
            "text/plain": [
              "<Figure size 432x288 with 1 Axes>"
            ],
            "image/png": "[encoded data removed]"
          },
          "metadata": {
            "needs_background": "light"
          }
        }
      ]
    },
    {
      "cell_type": "markdown",
      "source": [
        "Num_Credit_Card\tInterest_Rate\tNum_of_Loan\tType_of_Loan\tDelay_from_due_date\tNum_of_Delayed_Payment\tChanged_Credit_Limit\tNum_Credit_Inquiries\tCredit_Mix\t\n",
        "Tratarlas, en principio Onehot."
      ],
      "metadata": {
        "id": "q2dzOetBXre_"
      }
    },
    {
      "cell_type": "code",
      "source": [
        "#plt.hist(train_dataframe.Type_of_Loan)\n",
        "train_dataframe.Type_of_Loan.describe()\n",
        "#ORDINAL"
      ],
      "metadata": {
        "colab": {
          "base_uri": "https://localhost:8080/"
        },
        "id": "HDx4cxYRi2Tu",
        "outputId": "9094d0bf-0074-4b5f-b503-9b142621f1a9"
      },
      "execution_count": 11,
      "outputs": [
        {
          "output_type": "execute_result",
          "data": {
            "text/plain": [
              "count       80000\n",
              "unique       6261\n",
              "top       No Data\n",
              "freq         9124\n",
              "Name: Type_of_Loan, dtype: object"
            ]
          },
          "metadata": {},
          "execution_count": 11
        }
      ]
    },
    {
      "cell_type": "code",
      "source": [
        "plt.hist(train_dataframe.Delay_from_due_date) #TRATAR IGUAL QUE LA EDAD"
      ],
      "metadata": {
        "colab": {
          "base_uri": "https://localhost:8080/",
          "height": 334
        },
        "id": "pgV8-Qytjx6p",
        "outputId": "50b33ed9-9804-45d9-e8ac-357f1fb7a90b"
      },
      "execution_count": 12,
      "outputs": [
        {
          "output_type": "execute_result",
          "data": {
            "text/plain": [
              "(array([11266., 15618., 14448., 11853., 11602.,  3796.,  2693.,  2729.,\n",
              "         2816.,  3179.]),\n",
              " array([ 0. ,  6.2, 12.4, 18.6, 24.8, 31. , 37.2, 43.4, 49.6, 55.8, 62. ]),\n",
              " <a list of 10 Patch objects>)"
            ]
          },
          "metadata": {},
          "execution_count": 12
        },
        {
          "output_type": "display_data",
          "data": {
            "text/plain": [
              "<Figure size 432x288 with 1 Axes>"
            ],
            "image/png": "[encoded data removed]"
          },
          "metadata": {
            "needs_background": "light"
          }
        }
      ]
    },
    {
      "cell_type": "code",
      "source": [
        "plt.hist(train_dataframe.Changed_Credit_Limit)"
      ],
      "metadata": {
        "colab": {
          "base_uri": "https://localhost:8080/",
          "height": 352
        },
        "id": "gv2x2xBGkJEp",
        "outputId": "0d530fae-e4bd-48f6-e383-20f278023a78"
      },
      "execution_count": 13,
      "outputs": [
        {
          "output_type": "execute_result",
          "data": {
            "text/plain": [
              "(array([12060., 12034., 15516., 14335.,  6939.,  8061.,  5318.,  2074.,\n",
              "         1989.,  1674.]),\n",
              " array([ 0.5  ,  3.448,  6.396,  9.344, 12.292, 15.24 , 18.188, 21.136,\n",
              "        24.084, 27.032, 29.98 ]),\n",
              " <a list of 10 Patch objects>)"
            ]
          },
          "metadata": {},
          "execution_count": 13
        },
        {
          "output_type": "display_data",
          "data": {
            "text/plain": [
              "<Figure size 432x288 with 1 Axes>"
            ],
            "image/png": "[encoded data removed]"
          },
          "metadata": {
            "needs_background": "light"
          }
        }
      ]
    },
    {
      "cell_type": "code",
      "source": [
        "plt.hist(train_dataframe.Credit_Mix)\n",
        "#ORDINAL/ONEHOT"
      ],
      "metadata": {
        "colab": {
          "base_uri": "https://localhost:8080/",
          "height": 334
        },
        "id": "Fug6nu5DkWDz",
        "outputId": "c5c1c94c-b39e-4119-e747-bd7443fef7ff"
      },
      "execution_count": 14,
      "outputs": [
        {
          "output_type": "execute_result",
          "data": {
            "text/plain": [
              "(array([24339.,     0.,     0.,     0.,     0., 18918.,     0.,     0.,\n",
              "            0., 36743.]),\n",
              " array([0. , 0.2, 0.4, 0.6, 0.8, 1. , 1.2, 1.4, 1.6, 1.8, 2. ]),\n",
              " <a list of 10 Patch objects>)"
            ]
          },
          "metadata": {},
          "execution_count": 14
        },
        {
          "output_type": "display_data",
          "data": {
            "text/plain": [
              "<Figure size 432x288 with 1 Axes>"
            ],
            "image/png": "[encoded data removed]"
          },
          "metadata": {
            "needs_background": "light"
          }
        }
      ]
    },
    {
      "cell_type": "code",
      "source": [
        "plt.hist(train_dataframe.Credit_Utilization_Ratio)"
      ],
      "metadata": {
        "colab": {
          "base_uri": "https://localhost:8080/",
          "height": 334
        },
        "id": "SxemgingkrlG",
        "outputId": "5ba5de5c-3dd2-41ff-8ce4-30c7d67c305f"
      },
      "execution_count": 15,
      "outputs": [
        {
          "output_type": "execute_result",
          "data": {
            "text/plain": [
              "(array([ 1162.,  9624., 13638., 14042., 14331., 14354., 10569.,  2004.,\n",
              "          249.,    27.]),\n",
              " array([20., 23., 26., 29., 32., 35., 38., 41., 44., 47., 50.]),\n",
              " <a list of 10 Patch objects>)"
            ]
          },
          "metadata": {},
          "execution_count": 15
        },
        {
          "output_type": "display_data",
          "data": {
            "text/plain": [
              "<Figure size 432x288 with 1 Axes>"
            ],
            "image/png": "[encoded data removed]"
          },
          "metadata": {
            "needs_background": "light"
          }
        }
      ]
    },
    {
      "cell_type": "code",
      "source": [
        "plt.hist(train_dataframe.Credit_History_Age)"
      ],
      "metadata": {
        "colab": {
          "base_uri": "https://localhost:8080/",
          "height": 352
        },
        "id": "a6s8cfXZlDjj",
        "outputId": "8aa60e7e-7a20-44ca-a81e-431ed532d891"
      },
      "execution_count": 16,
      "outputs": [
        {
          "output_type": "execute_result",
          "data": {
            "text/plain": [
              "(array([ 2491.,  5028.,  7895.,  8314., 10289., 13788.,  8426.,  7930.,\n",
              "         8122.,  7717.]),\n",
              " array([  1. ,  41.3,  81.6, 121.9, 162.2, 202.5, 242.8, 283.1, 323.4,\n",
              "        363.7, 404. ]),\n",
              " <a list of 10 Patch objects>)"
            ]
          },
          "metadata": {},
          "execution_count": 16
        },
        {
          "output_type": "display_data",
          "data": {
            "text/plain": [
              "<Figure size 432x288 with 1 Axes>"
            ],
            "image/png": "[encoded data removed]"
          },
          "metadata": {
            "needs_background": "light"
          }
        }
      ]
    },
    {
      "cell_type": "code",
      "source": [
        "plt.hist(train_dataframe.Delay_from_due_date)\n",
        "train_dataframe.Delay_from_due_date.describe()"
      ],
      "metadata": {
        "colab": {
          "base_uri": "https://localhost:8080/",
          "height": 421
        },
        "id": "r_oSy9cc7-w5",
        "outputId": "d127043e-ee96-44f7-c965-bcb8929830ba"
      },
      "execution_count": 17,
      "outputs": [
        {
          "output_type": "execute_result",
          "data": {
            "text/plain": [
              "count    80000.000000\n",
              "mean        21.024188\n",
              "std         14.793381\n",
              "min          0.000000\n",
              "25%         10.000000\n",
              "50%         18.000000\n",
              "75%         28.000000\n",
              "max         62.000000\n",
              "Name: Delay_from_due_date, dtype: float64"
            ]
          },
          "metadata": {},
          "execution_count": 17
        },
        {
          "output_type": "display_data",
          "data": {
            "text/plain": [
              "<Figure size 432x288 with 1 Axes>"
            ],
            "image/png": "[encoded data removed]"
          },
          "metadata": {
            "needs_background": "light"
          }
        }
      ]
    },
    {
      "cell_type": "code",
      "source": [
        "plt.hist(train_dataframe.Num_Credit_Inquiries)"
      ],
      "metadata": {
        "id": "rLKZsYkqIpy4",
        "outputId": "84310b03-becb-41fd-c835-368d392f812c",
        "colab": {
          "base_uri": "https://localhost:8080/",
          "height": 334
        }
      },
      "execution_count": 18,
      "outputs": [
        {
          "output_type": "execute_result",
          "data": {
            "text/plain": [
              "(array([12001., 14009., 14135.,  6722., 13210.,  8542.,  4204.,  4988.,\n",
              "         1554.,   635.]),\n",
              " array([ 0. ,  1.7,  3.4,  5.1,  6.8,  8.5, 10.2, 11.9, 13.6, 15.3, 17. ]),\n",
              " <a list of 10 Patch objects>)"
            ]
          },
          "metadata": {},
          "execution_count": 18
        },
        {
          "output_type": "display_data",
          "data": {
            "text/plain": [
              "<Figure size 432x288 with 1 Axes>"
            ],
            "image/png": "[encoded data removed]"
          },
          "metadata": {
            "needs_background": "light"
          }
        }
      ]
    },
    {
      "cell_type": "code",
      "source": [
        "train_dataframe.Payment_Behaviour.describe()"
      ],
      "metadata": {
        "id": "jJfuUSDz4GZv",
        "outputId": "4b338b14-6cb6-412f-fa61-4d1dd7039e80",
        "colab": {
          "base_uri": "https://localhost:8080/"
        }
      },
      "execution_count": 19,
      "outputs": [
        {
          "output_type": "execute_result",
          "data": {
            "text/plain": [
              "count                              80000\n",
              "unique                                 6\n",
              "top       Low_spent_Small_value_payments\n",
              "freq                               22817\n",
              "Name: Payment_Behaviour, dtype: object"
            ]
          },
          "metadata": {},
          "execution_count": 19
        }
      ]
    },
    {
      "cell_type": "code",
      "source": [
        "train_dataframe.Outstanding_Debt.describe()"
      ],
      "metadata": {
        "id": "iaLsDCgX6sVH",
        "outputId": "a75cfdd5-510b-46db-e6ec-0621b0a17e2b",
        "colab": {
          "base_uri": "https://localhost:8080/"
        }
      },
      "execution_count": 20,
      "outputs": [
        {
          "output_type": "execute_result",
          "data": {
            "text/plain": [
              "count    80000.000000\n",
              "mean      1422.217052\n",
              "std       1152.366513\n",
              "min          0.230000\n",
              "25%        565.040000\n",
              "50%       1162.500000\n",
              "75%       1938.110000\n",
              "max       4998.070000\n",
              "Name: Outstanding_Debt, dtype: float64"
            ]
          },
          "metadata": {},
          "execution_count": 20
        }
      ]
    },
    {
      "cell_type": "code",
      "source": [
        "train_dataframe.Credit_Utilization_Ratio.describe()"
      ],
      "metadata": {
        "id": "zyLYpRCG7akC",
        "outputId": "d741ee68-914f-4237-f397-22a95c721d0b",
        "colab": {
          "base_uri": "https://localhost:8080/"
        }
      },
      "execution_count": 21,
      "outputs": [
        {
          "output_type": "execute_result",
          "data": {
            "text/plain": [
              "count    80000.000000\n",
              "mean        32.285315\n",
              "std          5.121704\n",
              "min         20.000000\n",
              "25%         28.053127\n",
              "50%         32.312835\n",
              "75%         36.499037\n",
              "max         50.000000\n",
              "Name: Credit_Utilization_Ratio, dtype: float64"
            ]
          },
          "metadata": {},
          "execution_count": 21
        }
      ]
    },
    {
      "cell_type": "code",
      "source": [
        "train_dataframe.Total_EMI_per_month.describe()"
      ],
      "metadata": {
        "id": "GlSTh4jC77YL",
        "outputId": "5dd032b0-5442-45d9-d53a-a616902ce317",
        "colab": {
          "base_uri": "https://localhost:8080/"
        }
      },
      "execution_count": 22,
      "outputs": [
        {
          "output_type": "execute_result",
          "data": {
            "text/plain": [
              "count    80000.000000\n",
              "mean       107.704716\n",
              "std        132.174403\n",
              "min          0.000000\n",
              "25%         29.121219\n",
              "50%         66.540929\n",
              "75%        147.522503\n",
              "max       1779.103254\n",
              "Name: Total_EMI_per_month, dtype: float64"
            ]
          },
          "metadata": {},
          "execution_count": 22
        }
      ]
    },
    {
      "cell_type": "code",
      "source": [
        "train_dataframe.Amount_invested_monthly.describe()"
      ],
      "metadata": {
        "id": "HrvU9ell8jKP",
        "outputId": "3db4b5a4-8714-47df-93bc-7dbec9916925",
        "colab": {
          "base_uri": "https://localhost:8080/"
        }
      },
      "execution_count": 23,
      "outputs": [
        {
          "output_type": "execute_result",
          "data": {
            "text/plain": [
              "count    80000.000000\n",
              "mean        55.142529\n",
              "std         39.108081\n",
              "min          0.000000\n",
              "25%         28.020640\n",
              "50%         45.161479\n",
              "75%         71.353445\n",
              "max        434.191089\n",
              "Name: Amount_invested_monthly, dtype: float64"
            ]
          },
          "metadata": {},
          "execution_count": 23
        }
      ]
    },
    {
      "cell_type": "code",
      "source": [
        "train_dataframe.Monthly_Balance.describe()"
      ],
      "metadata": {
        "id": "P13L1eHN9HA0",
        "outputId": "818da0fc-d56d-472b-e692-d43e89ac9724",
        "colab": {
          "base_uri": "https://localhost:8080/"
        }
      },
      "execution_count": 24,
      "outputs": [
        {
          "output_type": "execute_result",
          "data": {
            "text/plain": [
              "count    80000.000000\n",
              "mean       393.204449\n",
              "std        202.139708\n",
              "min          0.131136\n",
              "25%        267.721365\n",
              "50%        334.223613\n",
              "75%        463.802235\n",
              "max       1183.930696\n",
              "Name: Monthly_Balance, dtype: float64"
            ]
          },
          "metadata": {},
          "execution_count": 24
        }
      ]
    },
    {
      "cell_type": "markdown",
      "source": [
        "#Train_dataframe (preprocesamiento)"
      ],
      "metadata": {
        "id": "EJedMAYSIV9t"
      }
    },
    {
      "cell_type": "markdown",
      "source": [
        "Definimos la función \"preprocess\" para darle forma al dataframe original. En ella se definirán y usarán distintas funciones cuyo fin es acotar en un rango las variables para facilitar el procesamieto. Las variables seleccionadas para llevar a cabo este preprocesamiento son las que presentan datos continuos. El criterio para establecer los rangos son los cuartiles de cada una de las variables. \n",
        "\n",
        "Las columnas a la izquierda se transforman en las de la derecha:\n",
        "\n",
        "*   Anual_income - Salario Anual\n",
        "*   Monthly_Inhand_Salary - Salario Mensual\n",
        "*   Delay_from_due_date - Retraso\n",
        "*   Changed_Credit_Limit - CambioLimite\n",
        "*   Outstanding_Debt - DeudaPendiente\n",
        "*   Credit_Utilization_Ratio - UsoCredito\n",
        "*   Total_EMI_per_month - TasaDevolucion\n",
        "*   Amount_invested_monthly - PorcentajeInversion\n",
        "*   Monthly_Balance - BalanceMensual\n",
        "\n",
        "Posteriormente dropearemos las columnas a la izquierda y utiizaremos las nuevas."
      ],
      "metadata": {
        "id": "FHM0W9h5_FNS"
      }
    },
    {
      "cell_type": "code",
      "source": [
        "def preprocess(train_dataframe_transform: pd.DataFrame)-> pd.DataFrame:\n",
        "  def SalarioAnual (salarioAnual : int):\n",
        "    if  salarioAnual <= 19339: \n",
        "      train_dataframe_transform[\"SalarioAnual\"]= \"Minimo\"\n",
        "    elif  19339 <salarioAnual<37071:\n",
        "      train_dataframe_transform[\"SalarioAnual\"]= \"Bajo\"\n",
        "    elif 37071<=salarioAnual<71716:\n",
        "      train_dataframe_transform[\"SalarioAnual\"]= \"Medio\"\n",
        "    elif 71716<=salarioAnual:\n",
        "      train_dataframe_transform[\"SalarioAnual\"]= \"Alto\"\n",
        "\n",
        "    return None\n",
        "\n",
        "\n",
        "  def SalarioMensual (salarioMensual : float):\n",
        "    if  salarioMensual <= 1625: \n",
        "      train_dataframe_transform[\"SalarioMensual\"]= \"Minimo\"\n",
        "    elif  1625 <salarioMensual<3101:\n",
        "      train_dataframe_transform[\"SalarioMensual\"]= \"Bajo\"\n",
        "    elif 3101<=salarioMensual<5967:\n",
        "      train_dataframe_transform[\"SalarioMensual\"]= \"Medio\"\n",
        "    elif 5967<=salarioMensual:\n",
        "      train_dataframe_transform[\"SalarioMensual\"]= \"Alto\"\n",
        "\n",
        "    return None\n",
        "\n",
        "  def Retraso (retra : int):\n",
        "\n",
        "    if retra<=10:\n",
        "      train_dataframe_transform[\"Retraso\"]= \"Minimo\"\n",
        "    elif 10<retra<=18:\n",
        "      train_dataframe_transform[\"Retraso\"]= \"Bajo\"\n",
        "    elif 18<retra<=28:\n",
        "      train_dataframe_transform[\"Retraso\"]= \"Medio\"\n",
        "    elif 28<retra:\n",
        "      train_dataframe_transform[\"Retraso\"]= \"Alto\"\n",
        "\n",
        "    return None\n",
        "\n",
        "\n",
        "  \n",
        "  def CambioLimiteCredito (cambio : int):            \n",
        "\n",
        "    if cambio<=5.38:\n",
        "      train_dataframe_transform[\"CambioLimite\"]= \"Minimo\"\n",
        "    elif 5.38<cambio<=9.41:\n",
        "      train_dataframe_transform[\"CambioLimite\"]= \"Bajo\"\n",
        "    elif 9.41<cambio<=14.87:\n",
        "      train_dataframe_transform[\"CambioLimite\"]= \"Medio\"\n",
        "    elif 14.87<cambio:\n",
        "      train_dataframe_transform[\"CambioLimite\"]= \"Alto\"\n",
        "\n",
        "    return None\n",
        "\n",
        "\n",
        "  def DeudaPendiente (deuda : int):            \n",
        "\n",
        "    if deuda<=565:\n",
        "      train_dataframe_transform[\"DeudaPendiente\"]= \"Minimo\"\n",
        "    elif 565<deuda<=1162:\n",
        "      train_dataframe_transform[\"DeudaPendiente\"]= \"Bajo\"\n",
        "    elif 1162<deuda<=1938:\n",
        "      train_dataframe_transform[\"DeudaPendiente\"]= \"Medio\"\n",
        "    elif 1938<deuda:\n",
        "      train_dataframe_transform[\"DeudaPendiente\"]= \"Alto\"\n",
        "\n",
        "    return None\n",
        "\n",
        "  def UsoCredito (credito : int):            \n",
        "\n",
        "    if credito<=28.05:\n",
        "      train_dataframe_transform[\"UsoCredito\"]= \"Minimo\"\n",
        "    elif 28.05<credito<=32.31:\n",
        "      train_dataframe_transform[\"UsoCredito\"]= \"Bajo\"\n",
        "    elif 32.31<credito<=36.5:\n",
        "      train_dataframe_transform[\"UsoCredito\"]= \"Medio\"\n",
        "    elif 36.5<credito:\n",
        "      train_dataframe_transform[\"UsoCredito\"]= \"Alto\"\n",
        "\n",
        "    return None\n",
        "\n",
        "  def TasaDevolucion (devolucion : int):            \n",
        "\n",
        "    if devolucion<=29.12:\n",
        "      train_dataframe_transform[\"TasaDevolucion\"]= \"Minimo\"\n",
        "    elif 29.12<devolucion<=66.54:\n",
        "      train_dataframe_transform[\"TasaDevolucion\"]= \"Bajo\"\n",
        "    elif 66.54<devolucion<=147.52:\n",
        "      train_dataframe_transform[\"TasaDevolucion\"]= \"Medio\"\n",
        "    elif 147.52<devolucion:\n",
        "      train_dataframe_transform[\"TasaDevolucion\"]= \"Alto\"\n",
        "\n",
        "    return None\n",
        "\n",
        "\n",
        "  def PorcentajeInversion (inversion : int):            \n",
        "\n",
        "    if inversion<=28.02:\n",
        "      train_dataframe_transform[\"PorcentajeInversion\"]= \"Minimo\"\n",
        "    elif 28.02<inversion<=45.16:\n",
        "      train_dataframe_transform[\"PorcentajeInversion\"]= \"Bajo\"\n",
        "    elif 45.16<inversion<=71.35:\n",
        "      train_dataframe_transform[\"PorcentajeInversion\"]= \"Medio\"\n",
        "    elif 71.35<inversion:\n",
        "      train_dataframe_transform[\"PorcentajeInversion\"]= \"Alto\"\n",
        "\n",
        "    return None\n",
        "\n",
        "  def BalanceMensual (balance : float):            \n",
        "\n",
        "    if balance<=267.72:\n",
        "      train_dataframe_transform[\"BalanceMensual\"]= \"Minimo\"\n",
        "    elif 267.72<balance<=334.22:\n",
        "      train_dataframe_transform[\"BalanceMensual\"]= \"Bajo\"\n",
        "    elif 334.22<balance<=463.8:\n",
        "      train_dataframe_transform[\"BalanceMensual\"]= \"Medio\"\n",
        "    elif 463.8<balance:\n",
        "      train_dataframe_transform[\"BalanceMensual\"]= \"Alto\"\n",
        "\n",
        "    return None\n",
        "    \n",
        "  train_dataframe_transform[\"Annual_Income\"].apply(SalarioAnual)\n",
        "  train_dataframe_transform[\"Monthly_Inhand_Salary\"].apply(SalarioMensual)\n",
        "  train_dataframe_transform[\"Delay_from_due_date\"].apply(Retraso)\n",
        "  train_dataframe_transform[\"Changed_Credit_Limit\"].apply(CambioLimiteCredito)\n",
        "  train_dataframe_transform[\"Outstanding_Debt\"].apply(DeudaPendiente)\n",
        "  train_dataframe_transform[\"Credit_Utilization_Ratio\"].apply(UsoCredito)\n",
        "  train_dataframe_transform[\"Total_EMI_per_month\"].apply(TasaDevolucion)\n",
        "  train_dataframe_transform[\"Amount_invested_monthly\"].apply(PorcentajeInversion)\n",
        "  train_dataframe_transform[\"Monthly_Balance\"].apply(BalanceMensual)\n",
        "  \n",
        "  return train_dataframe_transform"
      ],
      "metadata": {
        "id": "CVoGnM8u4kQe"
      },
      "execution_count": 25,
      "outputs": []
    },
    {
      "cell_type": "code",
      "source": [
        "train_dataframe_transform2 = preprocess(train_dataframe)\n",
        "train_dataframe_transform2"
      ],
      "metadata": {
        "id": "Dxl-ItGXnwRh",
        "outputId": "f58815e0-c750-4612-f11a-ef4db019d621",
        "colab": {
          "base_uri": "https://localhost:8080/",
          "height": 424
        }
      },
      "execution_count": 26,
      "outputs": [
        {
          "output_type": "execute_result",
          "data": {
            "text/plain": [
              "           ID  Customer_ID  Month               Name   Age          SSN  \\\n",
              "0       43161         3985      4          Lawrencez  40.0  856431180.0   \n",
              "1       40663        49494      2          Mohammedr  39.0  417453942.0   \n",
              "2      111059         2925      6          Alistairn  17.0  499528888.0   \n",
              "3       72139        21358      2       Dinesh Naire  22.0  859449371.0   \n",
              "4      119841        21221      4             Bakerg  26.0  485239890.0   \n",
              "...       ...          ...    ...                ...   ...          ...   \n",
              "79995   42636        39869      7  Hendrik Sackmannb  50.0  217529489.0   \n",
              "79996  114031        38305      2              Alexj  33.0   98861902.0   \n",
              "79997   85991         9976      6     Luciana Lopezi  25.0  745835485.0   \n",
              "79998   21240        13193      7      Edward Krudyd  15.0  894419091.0   \n",
              "79999   73558        15294      5              Neilp  30.0   17531609.0   \n",
              "\n",
              "          Occupation  Annual_Income  Monthly_Inhand_Salary  Num_Bank_Accounts  \\\n",
              "0         Accountant       97384.44            8167.370000                1.0   \n",
              "1             Writer       31369.58            2607.131667                8.0   \n",
              "2             Writer       30171.86            2772.321667                6.0   \n",
              "3             Doctor       13100.02            1246.668333                7.0   \n",
              "4             Doctor       62313.54            5120.795000                6.0   \n",
              "...              ...            ...                    ...                ...   \n",
              "79995  Media_Manager      107761.29            9047.107500                4.0   \n",
              "79996      Scientist       16218.32            1098.526667                6.0   \n",
              "79997       Engineer       29374.77            2377.897500                3.0   \n",
              "79998        Manager       43782.45            3543.537500                6.0   \n",
              "79999         Lawyer      102215.61            8482.967500                2.0   \n",
              "\n",
              "       ...  Credit_Score  SalarioAnual  SalarioMensual Retraso  CambioLimite  \\\n",
              "0      ...      Standard          Alto            Alto    Bajo        Minimo   \n",
              "1      ...      Standard          Alto            Alto    Bajo        Minimo   \n",
              "2      ...      Standard          Alto            Alto    Bajo        Minimo   \n",
              "3      ...      Standard          Alto            Alto    Bajo        Minimo   \n",
              "4      ...      Standard          Alto            Alto    Bajo        Minimo   \n",
              "...    ...           ...           ...             ...     ...           ...   \n",
              "79995  ...      Standard          Alto            Alto    Bajo        Minimo   \n",
              "79996  ...          Poor          Alto            Alto    Bajo        Minimo   \n",
              "79997  ...      Standard          Alto            Alto    Bajo        Minimo   \n",
              "79998  ...          Poor          Alto            Alto    Bajo        Minimo   \n",
              "79999  ...          Good          Alto            Alto    Bajo        Minimo   \n",
              "\n",
              "       DeudaPendiente  UsoCredito  TasaDevolucion PorcentajeInversion  \\\n",
              "0              Minimo      Minimo            Bajo               Medio   \n",
              "1              Minimo      Minimo            Bajo               Medio   \n",
              "2              Minimo      Minimo            Bajo               Medio   \n",
              "3              Minimo      Minimo            Bajo               Medio   \n",
              "4              Minimo      Minimo            Bajo               Medio   \n",
              "...               ...         ...             ...                 ...   \n",
              "79995          Minimo      Minimo            Bajo               Medio   \n",
              "79996          Minimo      Minimo            Bajo               Medio   \n",
              "79997          Minimo      Minimo            Bajo               Medio   \n",
              "79998          Minimo      Minimo            Bajo               Medio   \n",
              "79999          Minimo      Minimo            Bajo               Medio   \n",
              "\n",
              "       BalanceMensual  \n",
              "0               Medio  \n",
              "1               Medio  \n",
              "2               Medio  \n",
              "3               Medio  \n",
              "4               Medio  \n",
              "...               ...  \n",
              "79995           Medio  \n",
              "79996           Medio  \n",
              "79997           Medio  \n",
              "79998           Medio  \n",
              "79999           Medio  \n",
              "\n",
              "[80000 rows x 37 columns]"
            ],
            "text/html": [
              "\n",
              "  <div id=\"df-4b5d66b8-0308-4b6f-aded-efd2320c379d\">\n",
              "    <div class=\"colab-df-container\">\n",
              "      <div>\n",
              "<style scoped>\n",
              "    .dataframe tbody tr th:only-of-type {\n",
              "        vertical-align: middle;\n",
              "    }\n",
              "\n",
              "    .dataframe tbody tr th {\n",
              "        vertical-align: top;\n",
              "    }\n",
              "\n",
              "    .dataframe thead th {\n",
              "        text-align: right;\n",
              "    }\n",
              "</style>\n",
              "<table border=\"1\" class=\"dataframe\">\n",
              "  <thead>\n",
              "    <tr style=\"text-align: right;\">\n",
              "      <th></th>\n",
              "      <th>ID</th>\n",
              "      <th>Customer_ID</th>\n",
              "      <th>Month</th>\n",
              "      <th>Name</th>\n",
              "      <th>Age</th>\n",
              "      <th>SSN</th>\n",
              "      <th>Occupation</th>\n",
              "      <th>Annual_Income</th>\n",
              "      <th>Monthly_Inhand_Salary</th>\n",
              "      <th>Num_Bank_Accounts</th>\n",
              "      <th>...</th>\n",
              "      <th>Credit_Score</th>\n",
              "      <th>SalarioAnual</th>\n",
              "      <th>SalarioMensual</th>\n",
              "      <th>Retraso</th>\n",
              "      <th>CambioLimite</th>\n",
              "      <th>DeudaPendiente</th>\n",
              "      <th>UsoCredito</th>\n",
              "      <th>TasaDevolucion</th>\n",
              "      <th>PorcentajeInversion</th>\n",
              "      <th>BalanceMensual</th>\n",
              "    </tr>\n",
              "  </thead>\n",
              "  <tbody>\n",
              "    <tr>\n",
              "      <th>0</th>\n",
              "      <td>43161</td>\n",
              "      <td>3985</td>\n",
              "      <td>4</td>\n",
              "      <td>Lawrencez</td>\n",
              "      <td>40.0</td>\n",
              "      <td>856431180.0</td>\n",
              "      <td>Accountant</td>\n",
              "      <td>97384.44</td>\n",
              "      <td>8167.370000</td>\n",
              "      <td>1.0</td>\n",
              "      <td>...</td>\n",
              "      <td>Standard</td>\n",
              "      <td>Alto</td>\n",
              "      <td>Alto</td>\n",
              "      <td>Bajo</td>\n",
              "      <td>Minimo</td>\n",
              "      <td>Minimo</td>\n",
              "      <td>Minimo</td>\n",
              "      <td>Bajo</td>\n",
              "      <td>Medio</td>\n",
              "      <td>Medio</td>\n",
              "    </tr>\n",
              "    <tr>\n",
              "      <th>1</th>\n",
              "      <td>40663</td>\n",
              "      <td>49494</td>\n",
              "      <td>2</td>\n",
              "      <td>Mohammedr</td>\n",
              "      <td>39.0</td>\n",
              "      <td>417453942.0</td>\n",
              "      <td>Writer</td>\n",
              "      <td>31369.58</td>\n",
              "      <td>2607.131667</td>\n",
              "      <td>8.0</td>\n",
              "      <td>...</td>\n",
              "      <td>Standard</td>\n",
              "      <td>Alto</td>\n",
              "      <td>Alto</td>\n",
              "      <td>Bajo</td>\n",
              "      <td>Minimo</td>\n",
              "      <td>Minimo</td>\n",
              "      <td>Minimo</td>\n",
              "      <td>Bajo</td>\n",
              "      <td>Medio</td>\n",
              "      <td>Medio</td>\n",
              "    </tr>\n",
              "    <tr>\n",
              "      <th>2</th>\n",
              "      <td>111059</td>\n",
              "      <td>2925</td>\n",
              "      <td>6</td>\n",
              "      <td>Alistairn</td>\n",
              "      <td>17.0</td>\n",
              "      <td>499528888.0</td>\n",
              "      <td>Writer</td>\n",
              "      <td>30171.86</td>\n",
              "      <td>2772.321667</td>\n",
              "      <td>6.0</td>\n",
              "      <td>...</td>\n",
              "      <td>Standard</td>\n",
              "      <td>Alto</td>\n",
              "      <td>Alto</td>\n",
              "      <td>Bajo</td>\n",
              "      <td>Minimo</td>\n",
              "      <td>Minimo</td>\n",
              "      <td>Minimo</td>\n",
              "      <td>Bajo</td>\n",
              "      <td>Medio</td>\n",
              "      <td>Medio</td>\n",
              "    </tr>\n",
              "    <tr>\n",
              "      <th>3</th>\n",
              "      <td>72139</td>\n",
              "      <td>21358</td>\n",
              "      <td>2</td>\n",
              "      <td>Dinesh Naire</td>\n",
              "      <td>22.0</td>\n",
              "      <td>859449371.0</td>\n",
              "      <td>Doctor</td>\n",
              "      <td>13100.02</td>\n",
              "      <td>1246.668333</td>\n",
              "      <td>7.0</td>\n",
              "      <td>...</td>\n",
              "      <td>Standard</td>\n",
              "      <td>Alto</td>\n",
              "      <td>Alto</td>\n",
              "      <td>Bajo</td>\n",
              "      <td>Minimo</td>\n",
              "      <td>Minimo</td>\n",
              "      <td>Minimo</td>\n",
              "      <td>Bajo</td>\n",
              "      <td>Medio</td>\n",
              "      <td>Medio</td>\n",
              "    </tr>\n",
              "    <tr>\n",
              "      <th>4</th>\n",
              "      <td>119841</td>\n",
              "      <td>21221</td>\n",
              "      <td>4</td>\n",
              "      <td>Bakerg</td>\n",
              "      <td>26.0</td>\n",
              "      <td>485239890.0</td>\n",
              "      <td>Doctor</td>\n",
              "      <td>62313.54</td>\n",
              "      <td>5120.795000</td>\n",
              "      <td>6.0</td>\n",
              "      <td>...</td>\n",
              "      <td>Standard</td>\n",
              "      <td>Alto</td>\n",
              "      <td>Alto</td>\n",
              "      <td>Bajo</td>\n",
              "      <td>Minimo</td>\n",
              "      <td>Minimo</td>\n",
              "      <td>Minimo</td>\n",
              "      <td>Bajo</td>\n",
              "      <td>Medio</td>\n",
              "      <td>Medio</td>\n",
              "    </tr>\n",
              "    <tr>\n",
              "      <th>...</th>\n",
              "      <td>...</td>\n",
              "      <td>...</td>\n",
              "      <td>...</td>\n",
              "      <td>...</td>\n",
              "      <td>...</td>\n",
              "      <td>...</td>\n",
              "      <td>...</td>\n",
              "      <td>...</td>\n",
              "      <td>...</td>\n",
              "      <td>...</td>\n",
              "      <td>...</td>\n",
              "      <td>...</td>\n",
              "      <td>...</td>\n",
              "      <td>...</td>\n",
              "      <td>...</td>\n",
              "      <td>...</td>\n",
              "      <td>...</td>\n",
              "      <td>...</td>\n",
              "      <td>...</td>\n",
              "      <td>...</td>\n",
              "      <td>...</td>\n",
              "    </tr>\n",
              "    <tr>\n",
              "      <th>79995</th>\n",
              "      <td>42636</td>\n",
              "      <td>39869</td>\n",
              "      <td>7</td>\n",
              "      <td>Hendrik Sackmannb</td>\n",
              "      <td>50.0</td>\n",
              "      <td>217529489.0</td>\n",
              "      <td>Media_Manager</td>\n",
              "      <td>107761.29</td>\n",
              "      <td>9047.107500</td>\n",
              "      <td>4.0</td>\n",
              "      <td>...</td>\n",
              "      <td>Standard</td>\n",
              "      <td>Alto</td>\n",
              "      <td>Alto</td>\n",
              "      <td>Bajo</td>\n",
              "      <td>Minimo</td>\n",
              "      <td>Minimo</td>\n",
              "      <td>Minimo</td>\n",
              "      <td>Bajo</td>\n",
              "      <td>Medio</td>\n",
              "      <td>Medio</td>\n",
              "    </tr>\n",
              "    <tr>\n",
              "      <th>79996</th>\n",
              "      <td>114031</td>\n",
              "      <td>38305</td>\n",
              "      <td>2</td>\n",
              "      <td>Alexj</td>\n",
              "      <td>33.0</td>\n",
              "      <td>98861902.0</td>\n",
              "      <td>Scientist</td>\n",
              "      <td>16218.32</td>\n",
              "      <td>1098.526667</td>\n",
              "      <td>6.0</td>\n",
              "      <td>...</td>\n",
              "      <td>Poor</td>\n",
              "      <td>Alto</td>\n",
              "      <td>Alto</td>\n",
              "      <td>Bajo</td>\n",
              "      <td>Minimo</td>\n",
              "      <td>Minimo</td>\n",
              "      <td>Minimo</td>\n",
              "      <td>Bajo</td>\n",
              "      <td>Medio</td>\n",
              "      <td>Medio</td>\n",
              "    </tr>\n",
              "    <tr>\n",
              "      <th>79997</th>\n",
              "      <td>85991</td>\n",
              "      <td>9976</td>\n",
              "      <td>6</td>\n",
              "      <td>Luciana Lopezi</td>\n",
              "      <td>25.0</td>\n",
              "      <td>745835485.0</td>\n",
              "      <td>Engineer</td>\n",
              "      <td>29374.77</td>\n",
              "      <td>2377.897500</td>\n",
              "      <td>3.0</td>\n",
              "      <td>...</td>\n",
              "      <td>Standard</td>\n",
              "      <td>Alto</td>\n",
              "      <td>Alto</td>\n",
              "      <td>Bajo</td>\n",
              "      <td>Minimo</td>\n",
              "      <td>Minimo</td>\n",
              "      <td>Minimo</td>\n",
              "      <td>Bajo</td>\n",
              "      <td>Medio</td>\n",
              "      <td>Medio</td>\n",
              "    </tr>\n",
              "    <tr>\n",
              "      <th>79998</th>\n",
              "      <td>21240</td>\n",
              "      <td>13193</td>\n",
              "      <td>7</td>\n",
              "      <td>Edward Krudyd</td>\n",
              "      <td>15.0</td>\n",
              "      <td>894419091.0</td>\n",
              "      <td>Manager</td>\n",
              "      <td>43782.45</td>\n",
              "      <td>3543.537500</td>\n",
              "      <td>6.0</td>\n",
              "      <td>...</td>\n",
              "      <td>Poor</td>\n",
              "      <td>Alto</td>\n",
              "      <td>Alto</td>\n",
              "      <td>Bajo</td>\n",
              "      <td>Minimo</td>\n",
              "      <td>Minimo</td>\n",
              "      <td>Minimo</td>\n",
              "      <td>Bajo</td>\n",
              "      <td>Medio</td>\n",
              "      <td>Medio</td>\n",
              "    </tr>\n",
              "    <tr>\n",
              "      <th>79999</th>\n",
              "      <td>73558</td>\n",
              "      <td>15294</td>\n",
              "      <td>5</td>\n",
              "      <td>Neilp</td>\n",
              "      <td>30.0</td>\n",
              "      <td>17531609.0</td>\n",
              "      <td>Lawyer</td>\n",
              "      <td>102215.61</td>\n",
              "      <td>8482.967500</td>\n",
              "      <td>2.0</td>\n",
              "      <td>...</td>\n",
              "      <td>Good</td>\n",
              "      <td>Alto</td>\n",
              "      <td>Alto</td>\n",
              "      <td>Bajo</td>\n",
              "      <td>Minimo</td>\n",
              "      <td>Minimo</td>\n",
              "      <td>Minimo</td>\n",
              "      <td>Bajo</td>\n",
              "      <td>Medio</td>\n",
              "      <td>Medio</td>\n",
              "    </tr>\n",
              "  </tbody>\n",
              "</table>\n",
              "<p>80000 rows × 37 columns</p>\n",
              "</div>\n",
              "      <button class=\"colab-df-convert\" onclick=\"convertToInteractive('df-4b5d66b8-0308-4b6f-aded-efd2320c379d')\"\n",
              "              title=\"Convert this dataframe to an interactive table.\"\n",
              "              style=\"display:none;\">\n",
              "        \n",
              "  <svg xmlns=\"http://www.w3.org/2000/svg\" height=\"24px\"viewBox=\"0 0 24 24\"\n",
              "       width=\"24px\">\n",
              "    <path d=\"M0 0h24v24H0V0z\" fill=\"none\"/>\n",
              "    <path d=\"M18.56 5.44l.94 2.06.94-2.06 2.06-.94-2.06-.94-.94-2.06-.94 2.06-2.06.94zm-11 1L8.5 8.5l.94-2.06 2.06-.94-2.06-.94L8.5 2.5l-.94 2.06-2.06.94zm10 10l.94 2.06.94-2.06 2.06-.94-2.06-.94-.94-2.06-.94 2.06-2.06.94z\"/><path d=\"M17.41 7.96l-1.37-1.37c-.4-.4-.92-.59-1.43-.59-.52 0-1.04.2-1.43.59L10.3 9.45l-7.72 7.72c-.78.78-.78 2.05 0 2.83L4 21.41c.39.39.9.59 1.41.59.51 0 1.02-.2 1.41-.59l7.78-7.78 2.81-2.81c.8-.78.8-2.07 0-2.86zM5.41 20L4 18.59l7.72-7.72 1.47 1.35L5.41 20z\"/>\n",
              "  </svg>\n",
              "      </button>\n",
              "      \n",
              "  <style>\n",
              "    .colab-df-container {\n",
              "      display:flex;\n",
              "      flex-wrap:wrap;\n",
              "      gap: 12px;\n",
              "    }\n",
              "\n",
              "    .colab-df-convert {\n",
              "      background-color: #E8F0FE;\n",
              "      border: none;\n",
              "      border-radius: 50%;\n",
              "      cursor: pointer;\n",
              "      display: none;\n",
              "      fill: #1967D2;\n",
              "      height: 32px;\n",
              "      padding: 0 0 0 0;\n",
              "      width: 32px;\n",
              "    }\n",
              "\n",
              "    .colab-df-convert:hover {\n",
              "      background-color: #E2EBFA;\n",
              "      box-shadow: 0px 1px 2px rgba(60, 64, 67, 0.3), 0px 1px 3px 1px rgba(60, 64, 67, 0.15);\n",
              "      fill: #174EA6;\n",
              "    }\n",
              "\n",
              "    [theme=dark] .colab-df-convert {\n",
              "      background-color: #3B4455;\n",
              "      fill: #D2E3FC;\n",
              "    }\n",
              "\n",
              "    [theme=dark] .colab-df-convert:hover {\n",
              "      background-color: #434B5C;\n",
              "      box-shadow: 0px 1px 3px 1px rgba(0, 0, 0, 0.15);\n",
              "      filter: drop-shadow(0px 1px 2px rgba(0, 0, 0, 0.3));\n",
              "      fill: #FFFFFF;\n",
              "    }\n",
              "  </style>\n",
              "\n",
              "      <script>\n",
              "        const buttonEl =\n",
              "          document.querySelector('#df-4b5d66b8-0308-4b6f-aded-efd2320c379d button.colab-df-convert');\n",
              "        buttonEl.style.display =\n",
              "          google.colab.kernel.accessAllowed ? 'block' : 'none';\n",
              "\n",
              "        async function convertToInteractive(key) {\n",
              "          const element = document.querySelector('#df-4b5d66b8-0308-4b6f-aded-efd2320c379d');\n",
              "          const dataTable =\n",
              "            await google.colab.kernel.invokeFunction('convertToInteractive',\n",
              "                                                     [key], {});\n",
              "          if (!dataTable) return;\n",
              "\n",
              "          const docLinkHtml = 'Like what you see? Visit the ' +\n",
              "            '<a target=\"_blank\" href=https://colab.research.google.com/notebooks/data_table.ipynb>data table notebook</a>'\n",
              "            + ' to learn more about interactive tables.';\n",
              "          element.innerHTML = '';\n",
              "          dataTable['output_type'] = 'display_data';\n",
              "          await google.colab.output.renderOutput(dataTable, element);\n",
              "          const docLink = document.createElement('div');\n",
              "          docLink.innerHTML = docLinkHtml;\n",
              "          element.appendChild(docLink);\n",
              "        }\n",
              "      </script>\n",
              "    </div>\n",
              "  </div>\n",
              "  "
            ]
          },
          "metadata": {},
          "execution_count": 26
        }
      ]
    },
    {
      "cell_type": "code",
      "source": [
        "train_dataframe_transform2.columns"
      ],
      "metadata": {
        "id": "OUW1yrAV0n_Y",
        "outputId": "c374a015-2086-4360-d97f-145acd911d00",
        "colab": {
          "base_uri": "https://localhost:8080/"
        }
      },
      "execution_count": 27,
      "outputs": [
        {
          "output_type": "execute_result",
          "data": {
            "text/plain": [
              "Index(['ID', 'Customer_ID', 'Month', 'Name', 'Age', 'SSN', 'Occupation',\n",
              "       'Annual_Income', 'Monthly_Inhand_Salary', 'Num_Bank_Accounts',\n",
              "       'Num_Credit_Card', 'Interest_Rate', 'Num_of_Loan', 'Type_of_Loan',\n",
              "       'Delay_from_due_date', 'Num_of_Delayed_Payment', 'Changed_Credit_Limit',\n",
              "       'Num_Credit_Inquiries', 'Credit_Mix', 'Outstanding_Debt',\n",
              "       'Credit_Utilization_Ratio', 'Credit_History_Age',\n",
              "       'Payment_of_Min_Amount', 'Total_EMI_per_month',\n",
              "       'Amount_invested_monthly', 'Payment_Behaviour', 'Monthly_Balance',\n",
              "       'Credit_Score', 'SalarioAnual', 'SalarioMensual', 'Retraso',\n",
              "       'CambioLimite', 'DeudaPendiente', 'UsoCredito', 'TasaDevolucion',\n",
              "       'PorcentajeInversion', 'BalanceMensual'],\n",
              "      dtype='object')"
            ]
          },
          "metadata": {},
          "execution_count": 27
        }
      ]
    },
    {
      "cell_type": "markdown",
      "source": [
        "\n",
        "\n",
        "*   Occupation: Analizando la información que nos proporcionaba el describe() vimos que no había mucha variedad de valores y por tanto optamos por usar un OneHotEncoder.\n",
        "\n",
        "*   Salario Anual: Al haber solo 4 rangos podemos hacer un OneHotEncoder.\n",
        "\n",
        "*   SalarioMensual: Al haber solo 4 rangos podemos hacer un OneHotEncoder.\n",
        "\n",
        "*   Retraso: Al haber solo 4 rangos podemos hacer un OneHotEncoder.\n",
        "\n",
        "*   CambioLimite: Al haber solo 4 rangos podemos hacer un OneHotEncoder.\n",
        "\n",
        "*   Credit_Mix: Hay 3 valores bien diferenciados que van de menor a mayor. Por tanto usamos un OrdinalEncoder con categorías para asegurarnos de dar mayor importancia al valor mayor, en este caso \"Good\".\n",
        "\n",
        "*   DeudaPendiente: Al haber solo 4 rangos podemos hacer un OneHotEncoder.\n",
        "\n",
        "*   UsoCredito: Al haber solo 4 rangos podemos hacer un OneHotEncoder.\n",
        "\n",
        "*   Payment_of_Min_Amount: Existen solo 3 posibles valores, de nuevo un OneHotEncoder tendría sentido.\n",
        "\n",
        "*   TasaDevolucion: Al haber solo 4 rangos podemos hacer un OneHotEncoder.\n",
        "\n",
        "*   PorcentajeInversion: Al haber solo 4 rangos podemos hacer un OneHotEncoder.\n",
        "\n",
        "*   Payment_Behaviour: Encontramos 6 valores únicos distintos de manera que utilizamos de nuevo OneHotEncoder.\n",
        "\n",
        "*   BalanceMensual: Al haber solo 4 rangos podemos hacer un OneHotEncoder.\n",
        "\n",
        "\n",
        "\n"
      ],
      "metadata": {
        "id": "HPBK_COgDZzz"
      }
    },
    {
      "cell_type": "code",
      "source": [
        "import sklearn.compose\n",
        "colum_transformer = sklearn.compose.ColumnTransformer(transformers=[\n",
        "    (\"ID\" , \"drop\", [0]),\n",
        "    (\"Customer_ID\" , \"drop\", [1]),\n",
        "    (\"Month\" , \"passthrough\", [2]),\n",
        "    (\"Name\" , \"drop\", [3]),\n",
        "    (\"Age\" , \"passthrough\", [4]),\n",
        "    (\"SSN\" , \"drop\", [5]),\n",
        "    (\"Occupation\" ,sklearn.preprocessing.OneHotEncoder(), [6]), \n",
        "    (\"Annual_Income\" , \"drop\", [7]),# RANGOS\n",
        "    (\"Monthly_Inhand_Salary\" , \"drop\", [8]),#RANGOS  \n",
        "    (\"Num_Bank_Accounts\" , \"passthrough\", [9]),\n",
        "    (\"Num_Credit_Card\" , \"passthrough\", [10]),\n",
        "    (\"Interest_Rate\" , \"passthrough\", [11]),\n",
        "    (\"Num_of_Loan\" , \"passthrough\", [12]),\n",
        "    (\"Type_of_Loan\", \"drop\" , [13]), #PREPROCESSING TEXTO  SPLIT Y ONE HOT    (no nos ha dado tiempo)\n",
        "    (\"Delay_from_due_date\", \"drop\", [14]),\n",
        "    (\"Num_of_Delayed_Payment\", \"passthrough\", [15]),\n",
        "    (\"Changed_Credit_Limit\", \"drop\", [16]),#RANGOS    \n",
        "    (\"Num_Credit_Inquiries\", \"passthrough\", [17]),\n",
        "    (\"Credit_Mix\", sklearn.preprocessing.OrdinalEncoder(categories=[[\"Bad\", \"Standard\", \"Good\"]]) , [18]), #OneHot\n",
        "    (\"Outstanding_Debt\", \"drop\", [19]),#RANGOS\n",
        "    (\"Credit_Utilization_Ratio\", \"drop\", [20]), #RANGOS\n",
        "    (\"Credit_History_Age\", \"passthrough\", [21]),\n",
        "    (\"Payment_of_Min_Amount\", sklearn.preprocessing.OneHotEncoder(), [22]), #OneHot YES NO NM\n",
        "    (\"Total_EMI_per_month\", \"drop\", [23]), #RANGOS\n",
        "    (\"Amount_invested_monthly\", \"drop\", [24]), #RANGOS\n",
        "    (\"Payment_Behaviour\", sklearn.preprocessing.OneHotEncoder(), [25]), #OneHot 6\n",
        "    (\"Monthly_Balance\", \"drop\", [26]), #RANGOS\n",
        "    (\"Credit_Score\", \"drop\", [27]),\n",
        "    (\"SalarioAnual\", sklearn.preprocessing.OneHotEncoder(),[28]),\n",
        "    (\"SalarioMensual\", sklearn.preprocessing.OneHotEncoder(),[29]),\n",
        "    (\"Retraso\", sklearn.preprocessing.OneHotEncoder(),[30]),\n",
        "    (\"CambioLimite\", sklearn.preprocessing.OneHotEncoder(),[31]),\n",
        "    (\"DeudaPendiente\", sklearn.preprocessing.OneHotEncoder(),[32]),\n",
        "    (\"UsoCredito\", sklearn.preprocessing.OneHotEncoder(),[33]),\n",
        "    (\"PorcentajeInversion\", sklearn.preprocessing.OneHotEncoder(),[34]),\n",
        "    (\"BalanceMensual\", sklearn.preprocessing.OneHotEncoder(),[35]),\n",
        "    (\"TasaDevolucion\", sklearn.preprocessing.OneHotEncoder(),[36]),\n",
        "    ]);\n",
        "\n",
        "train_dataframe_transform3 = colum_transformer.fit_transform(train_dataframe_transform2)\n",
        "train_dataframe_transform3"
      ],
      "metadata": {
        "id": "H0XqMvwW0ZYw",
        "outputId": "8f363f4a-c5b8-4b13-8c01-5ae44e22c803",
        "colab": {
          "base_uri": "https://localhost:8080/"
        }
      },
      "execution_count": 28,
      "outputs": [
        {
          "output_type": "execute_result",
          "data": {
            "text/plain": [
              "array([[ 4., 40.,  1., ...,  1.,  1.,  1.],\n",
              "       [ 2., 39.,  0., ...,  1.,  1.,  1.],\n",
              "       [ 6., 17.,  0., ...,  1.,  1.,  1.],\n",
              "       ...,\n",
              "       [ 6., 25.,  0., ...,  1.,  1.,  1.],\n",
              "       [ 7., 15.,  0., ...,  1.,  1.,  1.],\n",
              "       [ 5., 30.,  0., ...,  1.,  1.,  1.]])"
            ]
          },
          "metadata": {},
          "execution_count": 28
        }
      ]
    },
    {
      "cell_type": "markdown",
      "source": [
        "#Test_dataframe (preprocesamiento)"
      ],
      "metadata": {
        "id": "c0kSh5kVDtlJ"
      }
    },
    {
      "cell_type": "code",
      "source": [
        "test_dataframe= pd.read_csv(\"https://raw.githubusercontent.com/rodrigotorresp/Practica-Regresi-n-ML/main/Practica%202/test.csv\")\n",
        "test_dataframe"
      ],
      "metadata": {
        "colab": {
          "base_uri": "https://localhost:8080/",
          "height": 522
        },
        "id": "zCHGXuRsGQrk",
        "outputId": "b18f98fb-b365-4664-a627-1ef091cda7b8"
      },
      "execution_count": 29,
      "outputs": [
        {
          "output_type": "execute_result",
          "data": {
            "text/plain": [
              "           ID  Customer_ID  Month               Name   Age          SSN  \\\n",
              "0       99246         4759      1           Edwardsz  45.0  169291865.0   \n",
              "1       90071         2573      6            Stevenw  42.0  655780925.0   \n",
              "2       64375        34237      2             Dalaly  32.0   55005463.0   \n",
              "3      142441        47128      8              Lashx  24.0  958087164.0   \n",
              "4      135010        21542      5           Toonkelz  22.0  862456731.0   \n",
              "...       ...          ...    ...                ...   ...          ...   \n",
              "19995  126990        43904      1             Wayneo  42.0  448192628.0   \n",
              "19996  128347         8248      2  Daria Sito-Sucicd  32.0  563291145.0   \n",
              "19997   88941        19882      4            Laurend  43.0  451289406.0   \n",
              "19998   89599        50969      2              Nickx  35.0  994774680.0   \n",
              "19999  107146        40554      5               Koky  52.0  203003994.0   \n",
              "\n",
              "          Occupation  Annual_Income  Monthly_Inhand_Salary  Num_Bank_Accounts  \\\n",
              "0            Manager      57738.060            4881.505000                9.0   \n",
              "1          Scientist      19205.485            1828.457083                5.0   \n",
              "2          Scientist      49768.710            4045.392500                7.0   \n",
              "3             Lawyer      62424.120            5010.010000                7.0   \n",
              "4       Entrepreneur     128163.360           10648.280000                5.0   \n",
              "...              ...            ...                    ...                ...   \n",
              "19995      Scientist      37760.220            3393.685000                3.0   \n",
              "19996       Mechanic      29818.780            2257.898333                4.0   \n",
              "19997         Lawyer      34744.150            2784.345833                3.0   \n",
              "19998  Media_Manager      60271.920            4782.660000                6.0   \n",
              "19999         Writer      79300.220            6354.351667                1.0   \n",
              "\n",
              "       ...  Num_Credit_Inquiries  Credit_Mix  Outstanding_Debt  \\\n",
              "0      ...                  11.0         Bad           3916.47   \n",
              "1      ...                   3.0        Good            372.06   \n",
              "2      ...                  11.0    Standard           1428.04   \n",
              "3      ...                   6.0    Standard           1958.36   \n",
              "4      ...                   5.0        Good           1494.56   \n",
              "...    ...                   ...         ...               ...   \n",
              "19995  ...                   3.0        Good            821.10   \n",
              "19996  ...                   4.0        Good            702.20   \n",
              "19997  ...                   3.0        Good            219.59   \n",
              "19998  ...                  11.0         Bad           4546.95   \n",
              "19999  ...                   1.0        Good            284.52   \n",
              "\n",
              "      Credit_Utilization_Ratio  Credit_History_Age  Payment_of_Min_Amount  \\\n",
              "0                    22.899499               157.0                    Yes   \n",
              "1                    24.585730               241.0                     No   \n",
              "2                    25.129810               168.0                    Yes   \n",
              "3                    27.004401               154.0                    Yes   \n",
              "4                    30.911401               222.0                     No   \n",
              "...                        ...                 ...                    ...   \n",
              "19995                23.938159               194.0                     No   \n",
              "19996                30.990148               376.0                     No   \n",
              "19997                36.911828               398.0                     No   \n",
              "19998                32.122843                96.0                    Yes   \n",
              "19999                29.720272               278.0                     NM   \n",
              "\n",
              "       Total_EMI_per_month  Amount_invested_monthly  \\\n",
              "0               296.284136                53.821178   \n",
              "1                39.417086                19.311009   \n",
              "2               225.693491                50.036548   \n",
              "3               175.360317                55.101365   \n",
              "4               281.792301                77.036872   \n",
              "...                    ...                      ...   \n",
              "19995            88.485663                37.562828   \n",
              "19996            45.977299                27.931177   \n",
              "19997            52.218894                67.741940   \n",
              "19998           203.605795                36.776460   \n",
              "19999           179.304812                59.477685   \n",
              "\n",
              "                      Payment_Behaviour  Monthly_Balance  \n",
              "0       Low_spent_Medium_value_payments        71.427393  \n",
              "1        Low_spent_Small_value_payments       211.447299  \n",
              "2        Low_spent_Small_value_payments       198.465986  \n",
              "3       High_spent_Large_value_payments       472.761456  \n",
              "4        Low_spent_Large_value_payments       536.997743  \n",
              "...                                 ...              ...  \n",
              "19995  High_spent_Medium_value_payments       426.575752  \n",
              "19996   High_spent_Small_value_payments       298.961882  \n",
              "19997   Low_spent_Medium_value_payments       336.382928  \n",
              "19998  High_spent_Medium_value_payments       381.365614  \n",
              "19999    Low_spent_Large_value_payments       474.759497  \n",
              "\n",
              "[20000 rows x 27 columns]"
            ],
            "text/html": [
              "\n",
              "  <div id=\"df-7475143b-ecc2-4054-9bc1-8da720c92dc0\">\n",
              "    <div class=\"colab-df-container\">\n",
              "      <div>\n",
              "<style scoped>\n",
              "    .dataframe tbody tr th:only-of-type {\n",
              "        vertical-align: middle;\n",
              "    }\n",
              "\n",
              "    .dataframe tbody tr th {\n",
              "        vertical-align: top;\n",
              "    }\n",
              "\n",
              "    .dataframe thead th {\n",
              "        text-align: right;\n",
              "    }\n",
              "</style>\n",
              "<table border=\"1\" class=\"dataframe\">\n",
              "  <thead>\n",
              "    <tr style=\"text-align: right;\">\n",
              "      <th></th>\n",
              "      <th>ID</th>\n",
              "      <th>Customer_ID</th>\n",
              "      <th>Month</th>\n",
              "      <th>Name</th>\n",
              "      <th>Age</th>\n",
              "      <th>SSN</th>\n",
              "      <th>Occupation</th>\n",
              "      <th>Annual_Income</th>\n",
              "      <th>Monthly_Inhand_Salary</th>\n",
              "      <th>Num_Bank_Accounts</th>\n",
              "      <th>...</th>\n",
              "      <th>Num_Credit_Inquiries</th>\n",
              "      <th>Credit_Mix</th>\n",
              "      <th>Outstanding_Debt</th>\n",
              "      <th>Credit_Utilization_Ratio</th>\n",
              "      <th>Credit_History_Age</th>\n",
              "      <th>Payment_of_Min_Amount</th>\n",
              "      <th>Total_EMI_per_month</th>\n",
              "      <th>Amount_invested_monthly</th>\n",
              "      <th>Payment_Behaviour</th>\n",
              "      <th>Monthly_Balance</th>\n",
              "    </tr>\n",
              "  </thead>\n",
              "  <tbody>\n",
              "    <tr>\n",
              "      <th>0</th>\n",
              "      <td>99246</td>\n",
              "      <td>4759</td>\n",
              "      <td>1</td>\n",
              "      <td>Edwardsz</td>\n",
              "      <td>45.0</td>\n",
              "      <td>169291865.0</td>\n",
              "      <td>Manager</td>\n",
              "      <td>57738.060</td>\n",
              "      <td>4881.505000</td>\n",
              "      <td>9.0</td>\n",
              "      <td>...</td>\n",
              "      <td>11.0</td>\n",
              "      <td>Bad</td>\n",
              "      <td>3916.47</td>\n",
              "      <td>22.899499</td>\n",
              "      <td>157.0</td>\n",
              "      <td>Yes</td>\n",
              "      <td>296.284136</td>\n",
              "      <td>53.821178</td>\n",
              "      <td>Low_spent_Medium_value_payments</td>\n",
              "      <td>71.427393</td>\n",
              "    </tr>\n",
              "    <tr>\n",
              "      <th>1</th>\n",
              "      <td>90071</td>\n",
              "      <td>2573</td>\n",
              "      <td>6</td>\n",
              "      <td>Stevenw</td>\n",
              "      <td>42.0</td>\n",
              "      <td>655780925.0</td>\n",
              "      <td>Scientist</td>\n",
              "      <td>19205.485</td>\n",
              "      <td>1828.457083</td>\n",
              "      <td>5.0</td>\n",
              "      <td>...</td>\n",
              "      <td>3.0</td>\n",
              "      <td>Good</td>\n",
              "      <td>372.06</td>\n",
              "      <td>24.585730</td>\n",
              "      <td>241.0</td>\n",
              "      <td>No</td>\n",
              "      <td>39.417086</td>\n",
              "      <td>19.311009</td>\n",
              "      <td>Low_spent_Small_value_payments</td>\n",
              "      <td>211.447299</td>\n",
              "    </tr>\n",
              "    <tr>\n",
              "      <th>2</th>\n",
              "      <td>64375</td>\n",
              "      <td>34237</td>\n",
              "      <td>2</td>\n",
              "      <td>Dalaly</td>\n",
              "      <td>32.0</td>\n",
              "      <td>55005463.0</td>\n",
              "      <td>Scientist</td>\n",
              "      <td>49768.710</td>\n",
              "      <td>4045.392500</td>\n",
              "      <td>7.0</td>\n",
              "      <td>...</td>\n",
              "      <td>11.0</td>\n",
              "      <td>Standard</td>\n",
              "      <td>1428.04</td>\n",
              "      <td>25.129810</td>\n",
              "      <td>168.0</td>\n",
              "      <td>Yes</td>\n",
              "      <td>225.693491</td>\n",
              "      <td>50.036548</td>\n",
              "      <td>Low_spent_Small_value_payments</td>\n",
              "      <td>198.465986</td>\n",
              "    </tr>\n",
              "    <tr>\n",
              "      <th>3</th>\n",
              "      <td>142441</td>\n",
              "      <td>47128</td>\n",
              "      <td>8</td>\n",
              "      <td>Lashx</td>\n",
              "      <td>24.0</td>\n",
              "      <td>958087164.0</td>\n",
              "      <td>Lawyer</td>\n",
              "      <td>62424.120</td>\n",
              "      <td>5010.010000</td>\n",
              "      <td>7.0</td>\n",
              "      <td>...</td>\n",
              "      <td>6.0</td>\n",
              "      <td>Standard</td>\n",
              "      <td>1958.36</td>\n",
              "      <td>27.004401</td>\n",
              "      <td>154.0</td>\n",
              "      <td>Yes</td>\n",
              "      <td>175.360317</td>\n",
              "      <td>55.101365</td>\n",
              "      <td>High_spent_Large_value_payments</td>\n",
              "      <td>472.761456</td>\n",
              "    </tr>\n",
              "    <tr>\n",
              "      <th>4</th>\n",
              "      <td>135010</td>\n",
              "      <td>21542</td>\n",
              "      <td>5</td>\n",
              "      <td>Toonkelz</td>\n",
              "      <td>22.0</td>\n",
              "      <td>862456731.0</td>\n",
              "      <td>Entrepreneur</td>\n",
              "      <td>128163.360</td>\n",
              "      <td>10648.280000</td>\n",
              "      <td>5.0</td>\n",
              "      <td>...</td>\n",
              "      <td>5.0</td>\n",
              "      <td>Good</td>\n",
              "      <td>1494.56</td>\n",
              "      <td>30.911401</td>\n",
              "      <td>222.0</td>\n",
              "      <td>No</td>\n",
              "      <td>281.792301</td>\n",
              "      <td>77.036872</td>\n",
              "      <td>Low_spent_Large_value_payments</td>\n",
              "      <td>536.997743</td>\n",
              "    </tr>\n",
              "    <tr>\n",
              "      <th>...</th>\n",
              "      <td>...</td>\n",
              "      <td>...</td>\n",
              "      <td>...</td>\n",
              "      <td>...</td>\n",
              "      <td>...</td>\n",
              "      <td>...</td>\n",
              "      <td>...</td>\n",
              "      <td>...</td>\n",
              "      <td>...</td>\n",
              "      <td>...</td>\n",
              "      <td>...</td>\n",
              "      <td>...</td>\n",
              "      <td>...</td>\n",
              "      <td>...</td>\n",
              "      <td>...</td>\n",
              "      <td>...</td>\n",
              "      <td>...</td>\n",
              "      <td>...</td>\n",
              "      <td>...</td>\n",
              "      <td>...</td>\n",
              "      <td>...</td>\n",
              "    </tr>\n",
              "    <tr>\n",
              "      <th>19995</th>\n",
              "      <td>126990</td>\n",
              "      <td>43904</td>\n",
              "      <td>1</td>\n",
              "      <td>Wayneo</td>\n",
              "      <td>42.0</td>\n",
              "      <td>448192628.0</td>\n",
              "      <td>Scientist</td>\n",
              "      <td>37760.220</td>\n",
              "      <td>3393.685000</td>\n",
              "      <td>3.0</td>\n",
              "      <td>...</td>\n",
              "      <td>3.0</td>\n",
              "      <td>Good</td>\n",
              "      <td>821.10</td>\n",
              "      <td>23.938159</td>\n",
              "      <td>194.0</td>\n",
              "      <td>No</td>\n",
              "      <td>88.485663</td>\n",
              "      <td>37.562828</td>\n",
              "      <td>High_spent_Medium_value_payments</td>\n",
              "      <td>426.575752</td>\n",
              "    </tr>\n",
              "    <tr>\n",
              "      <th>19996</th>\n",
              "      <td>128347</td>\n",
              "      <td>8248</td>\n",
              "      <td>2</td>\n",
              "      <td>Daria Sito-Sucicd</td>\n",
              "      <td>32.0</td>\n",
              "      <td>563291145.0</td>\n",
              "      <td>Mechanic</td>\n",
              "      <td>29818.780</td>\n",
              "      <td>2257.898333</td>\n",
              "      <td>4.0</td>\n",
              "      <td>...</td>\n",
              "      <td>4.0</td>\n",
              "      <td>Good</td>\n",
              "      <td>702.20</td>\n",
              "      <td>30.990148</td>\n",
              "      <td>376.0</td>\n",
              "      <td>No</td>\n",
              "      <td>45.977299</td>\n",
              "      <td>27.931177</td>\n",
              "      <td>High_spent_Small_value_payments</td>\n",
              "      <td>298.961882</td>\n",
              "    </tr>\n",
              "    <tr>\n",
              "      <th>19997</th>\n",
              "      <td>88941</td>\n",
              "      <td>19882</td>\n",
              "      <td>4</td>\n",
              "      <td>Laurend</td>\n",
              "      <td>43.0</td>\n",
              "      <td>451289406.0</td>\n",
              "      <td>Lawyer</td>\n",
              "      <td>34744.150</td>\n",
              "      <td>2784.345833</td>\n",
              "      <td>3.0</td>\n",
              "      <td>...</td>\n",
              "      <td>3.0</td>\n",
              "      <td>Good</td>\n",
              "      <td>219.59</td>\n",
              "      <td>36.911828</td>\n",
              "      <td>398.0</td>\n",
              "      <td>No</td>\n",
              "      <td>52.218894</td>\n",
              "      <td>67.741940</td>\n",
              "      <td>Low_spent_Medium_value_payments</td>\n",
              "      <td>336.382928</td>\n",
              "    </tr>\n",
              "    <tr>\n",
              "      <th>19998</th>\n",
              "      <td>89599</td>\n",
              "      <td>50969</td>\n",
              "      <td>2</td>\n",
              "      <td>Nickx</td>\n",
              "      <td>35.0</td>\n",
              "      <td>994774680.0</td>\n",
              "      <td>Media_Manager</td>\n",
              "      <td>60271.920</td>\n",
              "      <td>4782.660000</td>\n",
              "      <td>6.0</td>\n",
              "      <td>...</td>\n",
              "      <td>11.0</td>\n",
              "      <td>Bad</td>\n",
              "      <td>4546.95</td>\n",
              "      <td>32.122843</td>\n",
              "      <td>96.0</td>\n",
              "      <td>Yes</td>\n",
              "      <td>203.605795</td>\n",
              "      <td>36.776460</td>\n",
              "      <td>High_spent_Medium_value_payments</td>\n",
              "      <td>381.365614</td>\n",
              "    </tr>\n",
              "    <tr>\n",
              "      <th>19999</th>\n",
              "      <td>107146</td>\n",
              "      <td>40554</td>\n",
              "      <td>5</td>\n",
              "      <td>Koky</td>\n",
              "      <td>52.0</td>\n",
              "      <td>203003994.0</td>\n",
              "      <td>Writer</td>\n",
              "      <td>79300.220</td>\n",
              "      <td>6354.351667</td>\n",
              "      <td>1.0</td>\n",
              "      <td>...</td>\n",
              "      <td>1.0</td>\n",
              "      <td>Good</td>\n",
              "      <td>284.52</td>\n",
              "      <td>29.720272</td>\n",
              "      <td>278.0</td>\n",
              "      <td>NM</td>\n",
              "      <td>179.304812</td>\n",
              "      <td>59.477685</td>\n",
              "      <td>Low_spent_Large_value_payments</td>\n",
              "      <td>474.759497</td>\n",
              "    </tr>\n",
              "  </tbody>\n",
              "</table>\n",
              "<p>20000 rows × 27 columns</p>\n",
              "</div>\n",
              "      <button class=\"colab-df-convert\" onclick=\"convertToInteractive('df-7475143b-ecc2-4054-9bc1-8da720c92dc0')\"\n",
              "              title=\"Convert this dataframe to an interactive table.\"\n",
              "              style=\"display:none;\">\n",
              "        \n",
              "  <svg xmlns=\"http://www.w3.org/2000/svg\" height=\"24px\"viewBox=\"0 0 24 24\"\n",
              "       width=\"24px\">\n",
              "    <path d=\"M0 0h24v24H0V0z\" fill=\"none\"/>\n",
              "    <path d=\"M18.56 5.44l.94 2.06.94-2.06 2.06-.94-2.06-.94-.94-2.06-.94 2.06-2.06.94zm-11 1L8.5 8.5l.94-2.06 2.06-.94-2.06-.94L8.5 2.5l-.94 2.06-2.06.94zm10 10l.94 2.06.94-2.06 2.06-.94-2.06-.94-.94-2.06-.94 2.06-2.06.94z\"/><path d=\"M17.41 7.96l-1.37-1.37c-.4-.4-.92-.59-1.43-.59-.52 0-1.04.2-1.43.59L10.3 9.45l-7.72 7.72c-.78.78-.78 2.05 0 2.83L4 21.41c.39.39.9.59 1.41.59.51 0 1.02-.2 1.41-.59l7.78-7.78 2.81-2.81c.8-.78.8-2.07 0-2.86zM5.41 20L4 18.59l7.72-7.72 1.47 1.35L5.41 20z\"/>\n",
              "  </svg>\n",
              "      </button>\n",
              "      \n",
              "  <style>\n",
              "    .colab-df-container {\n",
              "      display:flex;\n",
              "      flex-wrap:wrap;\n",
              "      gap: 12px;\n",
              "    }\n",
              "\n",
              "    .colab-df-convert {\n",
              "      background-color: #E8F0FE;\n",
              "      border: none;\n",
              "      border-radius: 50%;\n",
              "      cursor: pointer;\n",
              "      display: none;\n",
              "      fill: #1967D2;\n",
              "      height: 32px;\n",
              "      padding: 0 0 0 0;\n",
              "      width: 32px;\n",
              "    }\n",
              "\n",
              "    .colab-df-convert:hover {\n",
              "      background-color: #E2EBFA;\n",
              "      box-shadow: 0px 1px 2px rgba(60, 64, 67, 0.3), 0px 1px 3px 1px rgba(60, 64, 67, 0.15);\n",
              "      fill: #174EA6;\n",
              "    }\n",
              "\n",
              "    [theme=dark] .colab-df-convert {\n",
              "      background-color: #3B4455;\n",
              "      fill: #D2E3FC;\n",
              "    }\n",
              "\n",
              "    [theme=dark] .colab-df-convert:hover {\n",
              "      background-color: #434B5C;\n",
              "      box-shadow: 0px 1px 3px 1px rgba(0, 0, 0, 0.15);\n",
              "      filter: drop-shadow(0px 1px 2px rgba(0, 0, 0, 0.3));\n",
              "      fill: #FFFFFF;\n",
              "    }\n",
              "  </style>\n",
              "\n",
              "      <script>\n",
              "        const buttonEl =\n",
              "          document.querySelector('#df-7475143b-ecc2-4054-9bc1-8da720c92dc0 button.colab-df-convert');\n",
              "        buttonEl.style.display =\n",
              "          google.colab.kernel.accessAllowed ? 'block' : 'none';\n",
              "\n",
              "        async function convertToInteractive(key) {\n",
              "          const element = document.querySelector('#df-7475143b-ecc2-4054-9bc1-8da720c92dc0');\n",
              "          const dataTable =\n",
              "            await google.colab.kernel.invokeFunction('convertToInteractive',\n",
              "                                                     [key], {});\n",
              "          if (!dataTable) return;\n",
              "\n",
              "          const docLinkHtml = 'Like what you see? Visit the ' +\n",
              "            '<a target=\"_blank\" href=https://colab.research.google.com/notebooks/data_table.ipynb>data table notebook</a>'\n",
              "            + ' to learn more about interactive tables.';\n",
              "          element.innerHTML = '';\n",
              "          dataTable['output_type'] = 'display_data';\n",
              "          await google.colab.output.renderOutput(dataTable, element);\n",
              "          const docLink = document.createElement('div');\n",
              "          docLink.innerHTML = docLinkHtml;\n",
              "          element.appendChild(docLink);\n",
              "        }\n",
              "      </script>\n",
              "    </div>\n",
              "  </div>\n",
              "  "
            ]
          },
          "metadata": {},
          "execution_count": 29
        }
      ]
    },
    {
      "cell_type": "code",
      "source": [
        "test_dataframe_transform = preprocess(test_dataframe)\n",
        "test_dataframe_transform.columns"
      ],
      "metadata": {
        "colab": {
          "base_uri": "https://localhost:8080/"
        },
        "id": "nlGKYzKBGnAM",
        "outputId": "56d4cd7e-7aa6-4941-b22f-35bbdf434e75"
      },
      "execution_count": 30,
      "outputs": [
        {
          "output_type": "execute_result",
          "data": {
            "text/plain": [
              "Index(['ID', 'Customer_ID', 'Month', 'Name', 'Age', 'SSN', 'Occupation',\n",
              "       'Annual_Income', 'Monthly_Inhand_Salary', 'Num_Bank_Accounts',\n",
              "       'Num_Credit_Card', 'Interest_Rate', 'Num_of_Loan', 'Type_of_Loan',\n",
              "       'Delay_from_due_date', 'Num_of_Delayed_Payment', 'Changed_Credit_Limit',\n",
              "       'Num_Credit_Inquiries', 'Credit_Mix', 'Outstanding_Debt',\n",
              "       'Credit_Utilization_Ratio', 'Credit_History_Age',\n",
              "       'Payment_of_Min_Amount', 'Total_EMI_per_month',\n",
              "       'Amount_invested_monthly', 'Payment_Behaviour', 'Monthly_Balance',\n",
              "       'SalarioAnual', 'SalarioMensual', 'Retraso', 'CambioLimite',\n",
              "       'DeudaPendiente', 'UsoCredito', 'TasaDevolucion', 'PorcentajeInversion',\n",
              "       'BalanceMensual'],\n",
              "      dtype='object')"
            ]
          },
          "metadata": {},
          "execution_count": 30
        }
      ]
    },
    {
      "cell_type": "code",
      "source": [
        "import sklearn.compose\n",
        "colum_transformer = sklearn.compose.ColumnTransformer(transformers=[\n",
        "    (\"ID\" , \"drop\", [0]),\n",
        "    (\"Customer_ID\" , \"drop\", [1]),\n",
        "    (\"Month\" , \"passthrough\", [2]),\n",
        "    (\"Name\" , \"drop\", [3]),\n",
        "    (\"Age\" , \"passthrough\", [4]),\n",
        "    (\"SSN\" , \"drop\", [5]),\n",
        "    (\"Occupation\" ,sklearn.preprocessing.OneHotEncoder(), [6]), \n",
        "    (\"Annual_Income\" , \"drop\", [7]),# RANGOS  \n",
        "    (\"Monthly_Inhand_Salary\" , \"drop\", [8]),#RANGOS  \n",
        "    (\"Num_Bank_Accounts\" , \"passthrough\", [9]),\n",
        "    (\"Num_Credit_Card\" , \"passthrough\", [10]),\n",
        "    (\"Interest_Rate\" , \"passthrough\", [11]),\n",
        "    (\"Num_of_Loan\" , \"passthrough\", [12]),\n",
        "    (\"Type_of_Loan\", \"drop\" , [13]), #PREPROCESSING TEXTO  SPLIT Y ONE HOT   (no nos ha dado tiempo)\n",
        "    (\"Delay_from_due_date\", \"drop\", [14]),\n",
        "    (\"Num_of_Delayed_Payment\", \"passthrough\", [15]),\n",
        "    (\"Changed_Credit_Limit\", \"drop\", [16]),#RANGOS    \n",
        "    (\"Num_Credit_Inquiries\", \"passthrough\", [17]),\n",
        "    (\"Credit_Mix\", sklearn.preprocessing.OrdinalEncoder(categories=[[\"Bad\", \"Standard\", \"Good\"]]) , [18]), #OneHot\n",
        "    (\"Outstanding_Debt\", \"drop\", [19]),#RANGOS\n",
        "    (\"Credit_Utilization_Ratio\", \"drop\", [20]), #RANGOS\n",
        "    (\"Credit_History_Age\", \"passthrough\", [21]),\n",
        "    (\"Payment_of_Min_Amount\", sklearn.preprocessing.OneHotEncoder(), [22]), #OneHot YES NO NM\n",
        "    (\"Total_EMI_per_month\", \"drop\", [23]), #RANGOS\n",
        "    (\"Amount_invested_monthly\", \"drop\", [24]), #RANGOS\n",
        "    (\"Payment_Behaviour\", sklearn.preprocessing.OneHotEncoder(), [25]), #OneHot 6\n",
        "    (\"Monthly_Balance\", \"drop\", [26]), #RANGOS\n",
        "    (\"SalarioAnual\", sklearn.preprocessing.OneHotEncoder(),[27]),\n",
        "    (\"SalarioMensual\", sklearn.preprocessing.OneHotEncoder(),[28]),\n",
        "    (\"Retraso\", sklearn.preprocessing.OneHotEncoder(),[29]),\n",
        "    (\"CambioLimite\", sklearn.preprocessing.OneHotEncoder(),[30]),\n",
        "    (\"DeudaPendiente\", sklearn.preprocessing.OneHotEncoder(),[31]),\n",
        "    (\"UsoCredito\", sklearn.preprocessing.OneHotEncoder(),[32]),\n",
        "    (\"TasaDevolucion\", sklearn.preprocessing.OneHotEncoder(),[33]),\n",
        "    (\"PorcentajeInversion\", sklearn.preprocessing.OneHotEncoder(),[34]),\n",
        "    (\"BalanceMensual\", sklearn.preprocessing.OneHotEncoder(),[35]),\n",
        "    ]);\n",
        "\n",
        "test_dataframe_transform2 = colum_transformer.fit_transform(test_dataframe_transform)\n",
        "test_dataframe_transform2"
      ],
      "metadata": {
        "colab": {
          "base_uri": "https://localhost:8080/"
        },
        "id": "Lmw8u59vHHl9",
        "outputId": "6da93a04-b6be-4b0d-fcb5-5626a30b1abd"
      },
      "execution_count": 31,
      "outputs": [
        {
          "output_type": "execute_result",
          "data": {
            "text/plain": [
              "array([[ 1., 45.,  0., ...,  1.,  1.,  1.],\n",
              "       [ 6., 42.,  0., ...,  1.,  1.,  1.],\n",
              "       [ 2., 32.,  0., ...,  1.,  1.,  1.],\n",
              "       ...,\n",
              "       [ 4., 43.,  0., ...,  1.,  1.,  1.],\n",
              "       [ 2., 35.,  0., ...,  1.,  1.,  1.],\n",
              "       [ 5., 52.,  0., ...,  1.,  1.,  1.]])"
            ]
          },
          "metadata": {},
          "execution_count": 31
        }
      ]
    },
    {
      "cell_type": "markdown",
      "source": [
        "# **Entrenamiento**"
      ],
      "metadata": {
        "id": "cGfs_XNNoKMj"
      }
    },
    {
      "cell_type": "markdown",
      "source": [
        "#Modelos"
      ],
      "metadata": {
        "id": "oaa6lqjxDftK"
      }
    },
    {
      "cell_type": "code",
      "source": [
        "import matplotlib.pyplot as plt\n",
        " \n",
        "X = train_dataframe_transform3.data\n",
        "y = train_dataframe.Credit_Score\n",
        "\n",
        "X_train = train_dataframe_transform3.data\n",
        "y_train = train_dataframe.Credit_Score"
      ],
      "metadata": {
        "id": "6O3pWfH14Sl8"
      },
      "execution_count": 32,
      "outputs": []
    },
    {
      "cell_type": "markdown",
      "source": [
        "Knn\n",
        "\n",
        "Una gran ventaja de kNN, además de su sencillez, es que permite la clasificación multiclase:"
      ],
      "metadata": {
        "id": "S1FFBcPEol1_"
      }
    },
    {
      "cell_type": "code",
      "source": [
        "import numpy as np\n",
        "from sklearn.model_selection import train_test_split\n",
        "\n",
        "X_out_images = np.array(X)\n",
        "y_out_images = np.array(y)\n",
        "\n",
        "X_train2, X_test2, y_train2, y_test2 = train_test_split(X_out_images, y_out_images, test_size=0.33, random_state=42)\n",
        "\n",
        "n_estimators = np.arange(1,50,1)\n",
        "train_scores = np.array([])\n",
        "test_scores = np.array([])\n",
        "\n",
        "for n in n_estimators:\n",
        "  knnajuste = KNeighborsClassifier(n_neighbors=n).fit(X_train2, y_train2)\n",
        "  train_scores = np.append(train_scores, knnajuste.score(X_train2, y_train2))\n",
        "  test_scores = np.append(test_scores, knnajuste.score(X_test2, y_test2))\n",
        "\n",
        "plt.figure()\n",
        "\n",
        "plt.plot(n_estimators, train_scores, label=\"train\")\n",
        "plt.plot(n_estimators, test_scores, label=\"test\")\n",
        "\n",
        "plt.xlabel('n_estimators')\n",
        "plt.ylabel('accuracy')\n",
        "\n",
        "plt.legend()"
      ],
      "metadata": {
        "id": "29Ksp8kQ68Gw",
        "outputId": "0c418d49-3953-4dc2-f009-c6d8e3bad2dd",
        "colab": {
          "base_uri": "https://localhost:8080/",
          "height": 297
        }
      },
      "execution_count": 44,
      "outputs": [
        {
          "output_type": "execute_result",
          "data": {
            "text/plain": [
              "<matplotlib.legend.Legend at 0x7f6b1f275710>"
            ]
          },
          "metadata": {},
          "execution_count": 44
        },
        {
          "output_type": "display_data",
          "data": {
            "text/plain": [
              "<Figure size 432x288 with 1 Axes>"
            ],
            "image/png": "[encoded data removed]"
          },
          "metadata": {
            "needs_background": "light"
          }
        }
      ]
    },
    {
      "cell_type": "markdown",
      "source": [
        "Esta ejecución tarda más de 1 hora, por ello hicimos otro ajuste del hipe-parámetro con menor exactitud y llegamos a la misma conclusión\n"
      ],
      "metadata": {
        "id": "XUnd5VVuRmQY"
      }
    },
    {
      "cell_type": "code",
      "source": [
        "import numpy as np\n",
        "from sklearn.model_selection import train_test_split\n",
        "\n",
        "X_out_images = np.array(X)\n",
        "y_out_images = np.array(y)\n",
        "\n",
        "X_train2, X_test2, y_train2, y_test2 = train_test_split(X_out_images, y_out_images, test_size=0.33, random_state=42)\n",
        "\n",
        "n_estimators = np.arange(1,50,5)\n",
        "train_scores = np.array([])\n",
        "test_scores = np.array([])\n",
        "\n",
        "for n in n_estimators:\n",
        "  knnajuste = KNeighborsClassifier(n_neighbors=n).fit(X_train2, y_train2)\n",
        "  train_scores = np.append(train_scores, knnajuste.score(X_train2, y_train2))\n",
        "  test_scores = np.append(test_scores, knnajuste.score(X_test2, y_test2))\n",
        "\n",
        "plt.figure()\n",
        "\n",
        "plt.plot(n_estimators, train_scores, label=\"train\")\n",
        "plt.plot(n_estimators, test_scores, label=\"test\")\n",
        "\n",
        "plt.xlabel('n_estimators')\n",
        "plt.ylabel('accuracy')\n",
        "\n",
        "plt.legend()"
      ],
      "metadata": {
        "id": "_uyNHnAVT1Jh",
        "outputId": "3d12050b-6133-44ca-d325-4a9ab9ff2ef9",
        "colab": {
          "base_uri": "https://localhost:8080/",
          "height": 297
        }
      },
      "execution_count": 48,
      "outputs": [
        {
          "output_type": "execute_result",
          "data": {
            "text/plain": [
              "<matplotlib.legend.Legend at 0x7f6b1f0d5b50>"
            ]
          },
          "metadata": {},
          "execution_count": 48
        },
        {
          "output_type": "display_data",
          "data": {
            "text/plain": [
              "<Figure size 432x288 with 1 Axes>"
            ],
            "image/png": "[encoded data removed]"
          },
          "metadata": {
            "needs_background": "light"
          }
        }
      ]
    },
    {
      "cell_type": "markdown",
      "source": [
        "Analizando el gráfico podemos ver que el parámetro n_neighbors nos ofrece mayor accuracy cuanto menor es, de modo que usamos n_neighbors=1"
      ],
      "metadata": {
        "id": "troiN1wUSwvG"
      }
    },
    {
      "cell_type": "code",
      "source": [
        "from sklearn.neighbors import KNeighborsClassifier\n",
        "from sklearn.metrics import mean_absolute_error, mean_squared_error\n",
        "\n",
        "knn = KNeighborsClassifier(n_neighbors=1).fit(X_train, y_train)\n",
        "y_test = knn.predict(test_dataframe_transform2)"
      ],
      "metadata": {
        "id": "HS2_fjR26oCR"
      },
      "execution_count": 46,
      "outputs": []
    },
    {
      "cell_type": "code",
      "source": [
        "compression_opts = dict(method='zip', archive_name='Submission.csv')\n",
        "\n",
        "submissionDataFrame = pd.DataFrame({\"ID\": test_dataframe.ID, \"Credit_Score\": y_test});\n",
        "submissionDataFrame.to_csv(\"Submission.zip\", index=False, compression=compression_opts);"
      ],
      "metadata": {
        "id": "RbvDKsA6TFhO"
      },
      "execution_count": null,
      "outputs": []
    },
    {
      "cell_type": "markdown",
      "source": [
        "Random tree"
      ],
      "metadata": {
        "id": "oVYexVxWNRi2"
      }
    },
    {
      "cell_type": "code",
      "source": [
        "from sklearn.tree import DecisionTreeClassifier \n",
        "\n",
        "clf = DecisionTreeClassifier(criterion='entropy', splitter='random', max_depth=3, random_state=42)\n",
        "clf = clf.fit(X_train,y_train)\n",
        "y_test = clf.predict(test_dataframe_transform2)\n",
        "compression_opts = dict(method='zip', archive_name='Submission.csv')\n",
        "\n",
        "submissionDataFrame = pd.DataFrame({\"ID\": test_dataframe.ID, \"Credit_Score\": y_test});\n",
        "submissionDataFrame.to_csv(\"Submission.zip\", index=False, compression=compression_opts);"
      ],
      "metadata": {
        "id": "aAC9kJVSLMmm"
      },
      "execution_count": 34,
      "outputs": []
    },
    {
      "cell_type": "markdown",
      "source": [
        "Bagging"
      ],
      "metadata": {
        "id": "dljoUn-UNV-h"
      }
    },
    {
      "cell_type": "code",
      "source": [
        "from sklearn.ensemble import BaggingClassifier\n",
        "\n",
        "\n",
        "tree = DecisionTreeClassifier()\n",
        "bag = BaggingClassifier(tree, n_estimators=8, max_samples=0.3, max_features=1, random_state=42)\n",
        "bag.fit(X_train, y_train)\n",
        "\n",
        "y_test = bag.predict(test_dataframe_transform2)\n",
        "compression_opts = dict(method='zip', archive_name='Submission.csv')\n",
        "\n",
        "submissionDataFrame = pd.DataFrame({\"ID\": test_dataframe.ID, \"Credit_Score\": y_test});\n",
        "submissionDataFrame.to_csv(\"Submission.zip\", index=False, compression=compression_opts);"
      ],
      "metadata": {
        "id": "yr6JytuONgEl"
      },
      "execution_count": 35,
      "outputs": []
    },
    {
      "cell_type": "markdown",
      "source": [
        "Random forest"
      ],
      "metadata": {
        "id": "JI8jxQVTNf8a"
      }
    },
    {
      "cell_type": "code",
      "source": [
        "from sklearn.ensemble import RandomForestClassifier\n",
        "\n",
        "rfc = RandomForestClassifier(n_estimators=100, max_depth=1, max_features=1, random_state=42)\n",
        "rfc.fit(X_train, y_train)\n",
        "\n",
        "y_test = rfc.predict(test_dataframe_transform2)\n",
        "compression_opts = dict(method='zip', archive_name='Submission.csv')\n",
        "\n",
        "submissionDataFrame = pd.DataFrame({\"ID\": test_dataframe.ID, \"Credit_Score\": y_test});\n",
        "submissionDataFrame.to_csv(\"Submission.zip\", index=False, compression=compression_opts);"
      ],
      "metadata": {
        "id": "5uBFTq9TO3kC"
      },
      "execution_count": 36,
      "outputs": []
    },
    {
      "cell_type": "markdown",
      "source": [
        "Nearest centroid"
      ],
      "metadata": {
        "id": "qggmDtLWTXWw"
      }
    },
    {
      "cell_type": "code",
      "source": [
        "from sklearn.neighbors import NearestCentroid\n",
        " \n",
        "nc = NearestCentroid().fit(X_train, y_train)\n",
        "\n",
        "y_test = nc.predict(test_dataframe_transform2)\n",
        "compression_opts = dict(method='zip', archive_name='Submission.csv')\n",
        "\n",
        "submissionDataFrame = pd.DataFrame({\"ID\": test_dataframe.ID, \"Credit_Score\": y_test});\n",
        "submissionDataFrame.to_csv(\"Submission.zip\", index=False, compression=compression_opts);"
      ],
      "metadata": {
        "id": "9igO6YJSTXqT"
      },
      "execution_count": 37,
      "outputs": []
    },
    {
      "cell_type": "markdown",
      "source": [
        "Bayes"
      ],
      "metadata": {
        "id": "S78TxV0vUz9e"
      }
    },
    {
      "cell_type": "code",
      "source": [
        "from sklearn.naive_bayes import GaussianNB\n",
        "\n",
        "gnb = GaussianNB()\n",
        "gnb.fit(X_train, y_train)\n",
        "\n",
        "y_test = gnb.predict(test_dataframe_transform2)\n",
        "\n",
        "compression_opts = dict(method='zip', archive_name='Submission.csv')\n",
        "\n",
        "submissionDataFrame = pd.DataFrame({\"ID\": test_dataframe.ID, \"Credit_Score\": y_test});\n",
        "submissionDataFrame.to_csv(\"Submission.zip\", index=False, compression=compression_opts);"
      ],
      "metadata": {
        "id": "F-ehvUwPU0Fm"
      },
      "execution_count": 38,
      "outputs": []
    },
    {
      "cell_type": "markdown",
      "source": [
        "SVC"
      ],
      "metadata": {
        "id": "MC_S33pfW2kI"
      }
    },
    {
      "cell_type": "code",
      "source": [
        "from sklearn.svm import LinearSVC\n",
        "\n",
        "linear_svm = LinearSVC().fit(X_train, y_train)\n",
        "y_test = linear_svm.predict(test_dataframe_transform2)\n",
        "\n",
        "compression_opts = dict(method='zip', archive_name='Submission.csv')\n",
        "\n",
        "submissionDataFrame = pd.DataFrame({\"ID\": test_dataframe.ID, \"Credit_Score\": y_test});\n",
        "submissionDataFrame.to_csv(\"Submission.zip\", index=False, compression=compression_opts);"
      ],
      "metadata": {
        "id": "y9WUEi2UW2s-",
        "outputId": "4155c3ff-444f-4f71-9ac0-b8dcc5e60724",
        "colab": {
          "base_uri": "https://localhost:8080/"
        }
      },
      "execution_count": 39,
      "outputs": [
        {
          "output_type": "stream",
          "name": "stderr",
          "text": [
            "/usr/local/lib/python3.7/dist-packages/sklearn/svm/_base.py:1208: ConvergenceWarning: Liblinear failed to converge, increase the number of iterations.\n",
            "  ConvergenceWarning,\n"
          ]
        }
      ]
    },
    {
      "cell_type": "markdown",
      "source": [
        "Voting"
      ],
      "metadata": {
        "id": "ar3Ecdk17wVe"
      }
    },
    {
      "cell_type": "code",
      "source": [
        "from sklearn.ensemble import VotingClassifier\n",
        "\n",
        "vote = VotingClassifier(estimators=[('dt', clf), ('knn', knn)], voting='hard', weights=[2, 2])\n",
        "vote = vote.fit(X_train, y_train)\n",
        "\n",
        "y_test = vote.predict(test_dataframe_transform2)\n",
        "\n",
        "compression_opts = dict(method='zip', archive_name='Submission.csv')\n",
        "\n",
        "submissionDataFrame = pd.DataFrame({\"ID\": test_dataframe.ID, \"Credit_Score\": y_test});\n",
        "submissionDataFrame.to_csv(\"Submission.zip\", index=False, compression=compression_opts);"
      ],
      "metadata": {
        "id": "z8lnFudQ7wel"
      },
      "execution_count": null,
      "outputs": []
    },
    {
      "cell_type": "markdown",
      "source": [
        "Boosting"
      ],
      "metadata": {
        "id": "vx-YwUXr_aqS"
      }
    },
    {
      "cell_type": "code",
      "source": [
        "from sklearn.ensemble import AdaBoostClassifier\n",
        "\n",
        "adaboost = AdaBoostClassifier(n_estimators= 10 , random_state=42).fit(X_train, y_train)\n",
        "\n",
        "y_test = adaboost.predict(test_dataframe_transform2)\n",
        "\n",
        "compression_opts = dict(method='zip', archive_name='Submission.csv')\n",
        "\n",
        "submissionDataFrame = pd.DataFrame({\"ID\": test_dataframe.ID, \"Credit_Score\": y_test});\n",
        "submissionDataFrame.to_csv(\"Submission.zip\", index=False, compression=compression_opts);"
      ],
      "metadata": {
        "id": "-INtSKce_ayu"
      },
      "execution_count": null,
      "outputs": []
    },
    {
      "cell_type": "markdown",
      "source": [
        "Gradient boosting # no se ha podido la submission"
      ],
      "metadata": {
        "id": "uw-Nnz0TBZrW"
      }
    },
    {
      "cell_type": "code",
      "source": [
        "from sklearn.ensemble import GradientBoostingClassifier\n",
        "\n",
        "boosting = GradientBoostingClassifier(n_estimators= 1, learning_rate=1.0, criterion='mse', max_depth=1, random_state=42).fit(X_train, y_train)\n",
        "\n",
        "y_test = boosting.predict(test_dataframe_transform2)\n",
        "\n",
        "compression_opts = dict(method='zip', archive_name='Submission.csv')\n",
        "\n",
        "submissionDataFrame = pd.DataFrame({\"ID\": test_dataframe.ID, \"Credit_Score\": y_test});\n",
        "submissionDataFrame.to_csv(\"Submission.zip\", index=False, compression=compression_opts);"
      ],
      "metadata": {
        "id": "rxlojMTeBZ1F",
        "outputId": "7d3cc2c6-2211-4674-add9-50579d603236",
        "colab": {
          "base_uri": "https://localhost:8080/"
        }
      },
      "execution_count": 53,
      "outputs": [
        {
          "output_type": "stream",
          "name": "stderr",
          "text": [
            "/usr/local/lib/python3.7/dist-packages/sklearn/ensemble/_gb.py:475: FutureWarning: Criterion 'mse' was deprecated in v1.0 and will be removed in version 1.2. Use `criterion='squared_error'` which is equivalent.\n",
            "  FutureWarning,\n",
            "/usr/local/lib/python3.7/dist-packages/sklearn/tree/_classes.py:363: FutureWarning: Criterion 'mse' was deprecated in v1.0 and will be removed in version 1.2. Use `criterion='squared_error'` which is equivalent.\n",
            "  FutureWarning,\n",
            "/usr/local/lib/python3.7/dist-packages/sklearn/tree/_classes.py:363: FutureWarning: Criterion 'mse' was deprecated in v1.0 and will be removed in version 1.2. Use `criterion='squared_error'` which is equivalent.\n",
            "  FutureWarning,\n",
            "/usr/local/lib/python3.7/dist-packages/sklearn/tree/_classes.py:363: FutureWarning: Criterion 'mse' was deprecated in v1.0 and will be removed in version 1.2. Use `criterion='squared_error'` which is equivalent.\n",
            "  FutureWarning,\n"
          ]
        }
      ]
    }
  ]
}