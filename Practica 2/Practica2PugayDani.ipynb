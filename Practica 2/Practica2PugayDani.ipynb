{
  "nbformat": 4,
  "nbformat_minor": 0,
  "metadata": {
    "colab": {
      "provenance": [],
      "toc_visible": true,
      "include_colab_link": true
    },
    "kernelspec": {
      "name": "python3",
      "display_name": "Python 3"
    },
    "language_info": {
      "name": "python"
    }
  },
  "cells": [
    {
      "cell_type": "markdown",
      "metadata": {
        "id": "view-in-github",
        "colab_type": "text"
      },
      "source": [
        "<a href=\"https://colab.research.google.com/github/rodrigotorresp/Practica-Regresi-n-ML/blob/main/Practica2PugayDani.ipynb\" target=\"_parent\"><img src=\"https://colab.research.google.com/assets/colab-badge.svg\" alt=\"Open In Colab\"/></a>"
      ]
    },
    {
      "cell_type": "code",
      "execution_count": null,
      "metadata": {
        "colab": {
          "base_uri": "https://localhost:8080/",
          "height": 557
        },
        "id": "VL_Sy_FzPEsX",
        "outputId": "832cde8b-c06f-49df-ea26-631686fd4015"
      },
      "outputs": [
        {
          "output_type": "execute_result",
          "data": {
            "text/plain": [
              "           ID  Customer_ID  Month               Name   Age          SSN  \\\n",
              "0       43161         3985      4          Lawrencez  40.0  856431180.0   \n",
              "1       40663        49494      2          Mohammedr  39.0  417453942.0   \n",
              "2      111059         2925      6          Alistairn  17.0  499528888.0   \n",
              "3       72139        21358      2       Dinesh Naire  22.0  859449371.0   \n",
              "4      119841        21221      4             Bakerg  26.0  485239890.0   \n",
              "...       ...          ...    ...                ...   ...          ...   \n",
              "79995   42636        39869      7  Hendrik Sackmannb  50.0  217529489.0   \n",
              "79996  114031        38305      2              Alexj  33.0   98861902.0   \n",
              "79997   85991         9976      6     Luciana Lopezi  25.0  745835485.0   \n",
              "79998   21240        13193      7      Edward Krudyd  15.0  894419091.0   \n",
              "79999   73558        15294      5              Neilp  30.0   17531609.0   \n",
              "\n",
              "          Occupation  Annual_Income  Monthly_Inhand_Salary  Num_Bank_Accounts  \\\n",
              "0         Accountant       97384.44            8167.370000                1.0   \n",
              "1             Writer       31369.58            2607.131667                8.0   \n",
              "2             Writer       30171.86            2772.321667                6.0   \n",
              "3             Doctor       13100.02            1246.668333                7.0   \n",
              "4             Doctor       62313.54            5120.795000                6.0   \n",
              "...              ...            ...                    ...                ...   \n",
              "79995  Media_Manager      107761.29            9047.107500                4.0   \n",
              "79996      Scientist       16218.32            1098.526667                6.0   \n",
              "79997       Engineer       29374.77            2377.897500                3.0   \n",
              "79998        Manager       43782.45            3543.537500                6.0   \n",
              "79999         Lawyer      102215.61            8482.967500                2.0   \n",
              "\n",
              "       ...  Credit_Mix  Outstanding_Debt  Credit_Utilization_Ratio  \\\n",
              "0      ...        Good            405.45                 32.643281   \n",
              "1      ...         Bad           4259.91                 39.375507   \n",
              "2      ...         Bad           3406.51                 34.039021   \n",
              "3      ...    Standard            727.29                 34.747262   \n",
              "4      ...    Standard            817.64                 24.545394   \n",
              "...    ...         ...               ...                       ...   \n",
              "79995  ...    Standard             34.09                 41.899992   \n",
              "79996  ...         Bad           4466.33                 24.275710   \n",
              "79997  ...    Standard           1189.37                 38.439021   \n",
              "79998  ...         Bad           3468.25                 24.233841   \n",
              "79999  ...        Good             79.67                 27.903216   \n",
              "\n",
              "      Credit_History_Age  Payment_of_Min_Amount  Total_EMI_per_month  \\\n",
              "0                  336.0                     No            77.284943   \n",
              "1                  144.0                    Yes           171.748418   \n",
              "2                  123.0                    Yes           205.403926   \n",
              "3                  129.0                    Yes            41.177132   \n",
              "4                  122.0                     NM           196.679642   \n",
              "...                  ...                    ...                  ...   \n",
              "79995              211.0                    Yes             0.000000   \n",
              "79996               98.0                     NM            64.533114   \n",
              "79997              241.0                     NM            40.264074   \n",
              "79998               85.0                    Yes           240.664739   \n",
              "79999              366.0                     No            60.567361   \n",
              "\n",
              "       Amount_invested_monthly                 Payment_Behaviour  \\\n",
              "0                    53.714219   High_spent_Large_value_payments   \n",
              "1                    44.990811   High_spent_Large_value_payments   \n",
              "2                    40.781489   High_spent_Large_value_payments   \n",
              "3                    23.005463    Low_spent_Large_value_payments   \n",
              "4                    63.346750   Low_spent_Medium_value_payments   \n",
              "...                        ...                               ...   \n",
              "79995               150.220682   High_spent_Large_value_payments   \n",
              "79996                34.457893   High_spent_Small_value_payments   \n",
              "79997                22.234178  High_spent_Medium_value_payments   \n",
              "79998                42.839562    Low_spent_Large_value_payments   \n",
              "79999                60.971467   Low_spent_Medium_value_payments   \n",
              "\n",
              "      Monthly_Balance  Credit_Score  \n",
              "0          847.172909      Standard  \n",
              "1          280.855383      Standard  \n",
              "2          247.322615      Standard  \n",
              "3          298.156832      Standard  \n",
              "4          152.669902      Standard  \n",
              "...               ...           ...  \n",
              "79995      984.123010      Standard  \n",
              "79996      260.523798          Poor  \n",
              "79997      403.980355      Standard  \n",
              "79998      146.741586          Poor  \n",
              "79999      355.384222          Good  \n",
              "\n",
              "[80000 rows x 28 columns]"
            ],
            "text/html": [
              "\n",
              "  <div id=\"df-674b428f-4cdb-496c-bc82-e63894f88177\">\n",
              "    <div class=\"colab-df-container\">\n",
              "      <div>\n",
              "<style scoped>\n",
              "    .dataframe tbody tr th:only-of-type {\n",
              "        vertical-align: middle;\n",
              "    }\n",
              "\n",
              "    .dataframe tbody tr th {\n",
              "        vertical-align: top;\n",
              "    }\n",
              "\n",
              "    .dataframe thead th {\n",
              "        text-align: right;\n",
              "    }\n",
              "</style>\n",
              "<table border=\"1\" class=\"dataframe\">\n",
              "  <thead>\n",
              "    <tr style=\"text-align: right;\">\n",
              "      <th></th>\n",
              "      <th>ID</th>\n",
              "      <th>Customer_ID</th>\n",
              "      <th>Month</th>\n",
              "      <th>Name</th>\n",
              "      <th>Age</th>\n",
              "      <th>SSN</th>\n",
              "      <th>Occupation</th>\n",
              "      <th>Annual_Income</th>\n",
              "      <th>Monthly_Inhand_Salary</th>\n",
              "      <th>Num_Bank_Accounts</th>\n",
              "      <th>...</th>\n",
              "      <th>Credit_Mix</th>\n",
              "      <th>Outstanding_Debt</th>\n",
              "      <th>Credit_Utilization_Ratio</th>\n",
              "      <th>Credit_History_Age</th>\n",
              "      <th>Payment_of_Min_Amount</th>\n",
              "      <th>Total_EMI_per_month</th>\n",
              "      <th>Amount_invested_monthly</th>\n",
              "      <th>Payment_Behaviour</th>\n",
              "      <th>Monthly_Balance</th>\n",
              "      <th>Credit_Score</th>\n",
              "    </tr>\n",
              "  </thead>\n",
              "  <tbody>\n",
              "    <tr>\n",
              "      <th>0</th>\n",
              "      <td>43161</td>\n",
              "      <td>3985</td>\n",
              "      <td>4</td>\n",
              "      <td>Lawrencez</td>\n",
              "      <td>40.0</td>\n",
              "      <td>856431180.0</td>\n",
              "      <td>Accountant</td>\n",
              "      <td>97384.44</td>\n",
              "      <td>8167.370000</td>\n",
              "      <td>1.0</td>\n",
              "      <td>...</td>\n",
              "      <td>Good</td>\n",
              "      <td>405.45</td>\n",
              "      <td>32.643281</td>\n",
              "      <td>336.0</td>\n",
              "      <td>No</td>\n",
              "      <td>77.284943</td>\n",
              "      <td>53.714219</td>\n",
              "      <td>High_spent_Large_value_payments</td>\n",
              "      <td>847.172909</td>\n",
              "      <td>Standard</td>\n",
              "    </tr>\n",
              "    <tr>\n",
              "      <th>1</th>\n",
              "      <td>40663</td>\n",
              "      <td>49494</td>\n",
              "      <td>2</td>\n",
              "      <td>Mohammedr</td>\n",
              "      <td>39.0</td>\n",
              "      <td>417453942.0</td>\n",
              "      <td>Writer</td>\n",
              "      <td>31369.58</td>\n",
              "      <td>2607.131667</td>\n",
              "      <td>8.0</td>\n",
              "      <td>...</td>\n",
              "      <td>Bad</td>\n",
              "      <td>4259.91</td>\n",
              "      <td>39.375507</td>\n",
              "      <td>144.0</td>\n",
              "      <td>Yes</td>\n",
              "      <td>171.748418</td>\n",
              "      <td>44.990811</td>\n",
              "      <td>High_spent_Large_value_payments</td>\n",
              "      <td>280.855383</td>\n",
              "      <td>Standard</td>\n",
              "    </tr>\n",
              "    <tr>\n",
              "      <th>2</th>\n",
              "      <td>111059</td>\n",
              "      <td>2925</td>\n",
              "      <td>6</td>\n",
              "      <td>Alistairn</td>\n",
              "      <td>17.0</td>\n",
              "      <td>499528888.0</td>\n",
              "      <td>Writer</td>\n",
              "      <td>30171.86</td>\n",
              "      <td>2772.321667</td>\n",
              "      <td>6.0</td>\n",
              "      <td>...</td>\n",
              "      <td>Bad</td>\n",
              "      <td>3406.51</td>\n",
              "      <td>34.039021</td>\n",
              "      <td>123.0</td>\n",
              "      <td>Yes</td>\n",
              "      <td>205.403926</td>\n",
              "      <td>40.781489</td>\n",
              "      <td>High_spent_Large_value_payments</td>\n",
              "      <td>247.322615</td>\n",
              "      <td>Standard</td>\n",
              "    </tr>\n",
              "    <tr>\n",
              "      <th>3</th>\n",
              "      <td>72139</td>\n",
              "      <td>21358</td>\n",
              "      <td>2</td>\n",
              "      <td>Dinesh Naire</td>\n",
              "      <td>22.0</td>\n",
              "      <td>859449371.0</td>\n",
              "      <td>Doctor</td>\n",
              "      <td>13100.02</td>\n",
              "      <td>1246.668333</td>\n",
              "      <td>7.0</td>\n",
              "      <td>...</td>\n",
              "      <td>Standard</td>\n",
              "      <td>727.29</td>\n",
              "      <td>34.747262</td>\n",
              "      <td>129.0</td>\n",
              "      <td>Yes</td>\n",
              "      <td>41.177132</td>\n",
              "      <td>23.005463</td>\n",
              "      <td>Low_spent_Large_value_payments</td>\n",
              "      <td>298.156832</td>\n",
              "      <td>Standard</td>\n",
              "    </tr>\n",
              "    <tr>\n",
              "      <th>4</th>\n",
              "      <td>119841</td>\n",
              "      <td>21221</td>\n",
              "      <td>4</td>\n",
              "      <td>Bakerg</td>\n",
              "      <td>26.0</td>\n",
              "      <td>485239890.0</td>\n",
              "      <td>Doctor</td>\n",
              "      <td>62313.54</td>\n",
              "      <td>5120.795000</td>\n",
              "      <td>6.0</td>\n",
              "      <td>...</td>\n",
              "      <td>Standard</td>\n",
              "      <td>817.64</td>\n",
              "      <td>24.545394</td>\n",
              "      <td>122.0</td>\n",
              "      <td>NM</td>\n",
              "      <td>196.679642</td>\n",
              "      <td>63.346750</td>\n",
              "      <td>Low_spent_Medium_value_payments</td>\n",
              "      <td>152.669902</td>\n",
              "      <td>Standard</td>\n",
              "    </tr>\n",
              "    <tr>\n",
              "      <th>...</th>\n",
              "      <td>...</td>\n",
              "      <td>...</td>\n",
              "      <td>...</td>\n",
              "      <td>...</td>\n",
              "      <td>...</td>\n",
              "      <td>...</td>\n",
              "      <td>...</td>\n",
              "      <td>...</td>\n",
              "      <td>...</td>\n",
              "      <td>...</td>\n",
              "      <td>...</td>\n",
              "      <td>...</td>\n",
              "      <td>...</td>\n",
              "      <td>...</td>\n",
              "      <td>...</td>\n",
              "      <td>...</td>\n",
              "      <td>...</td>\n",
              "      <td>...</td>\n",
              "      <td>...</td>\n",
              "      <td>...</td>\n",
              "      <td>...</td>\n",
              "    </tr>\n",
              "    <tr>\n",
              "      <th>79995</th>\n",
              "      <td>42636</td>\n",
              "      <td>39869</td>\n",
              "      <td>7</td>\n",
              "      <td>Hendrik Sackmannb</td>\n",
              "      <td>50.0</td>\n",
              "      <td>217529489.0</td>\n",
              "      <td>Media_Manager</td>\n",
              "      <td>107761.29</td>\n",
              "      <td>9047.107500</td>\n",
              "      <td>4.0</td>\n",
              "      <td>...</td>\n",
              "      <td>Standard</td>\n",
              "      <td>34.09</td>\n",
              "      <td>41.899992</td>\n",
              "      <td>211.0</td>\n",
              "      <td>Yes</td>\n",
              "      <td>0.000000</td>\n",
              "      <td>150.220682</td>\n",
              "      <td>High_spent_Large_value_payments</td>\n",
              "      <td>984.123010</td>\n",
              "      <td>Standard</td>\n",
              "    </tr>\n",
              "    <tr>\n",
              "      <th>79996</th>\n",
              "      <td>114031</td>\n",
              "      <td>38305</td>\n",
              "      <td>2</td>\n",
              "      <td>Alexj</td>\n",
              "      <td>33.0</td>\n",
              "      <td>98861902.0</td>\n",
              "      <td>Scientist</td>\n",
              "      <td>16218.32</td>\n",
              "      <td>1098.526667</td>\n",
              "      <td>6.0</td>\n",
              "      <td>...</td>\n",
              "      <td>Bad</td>\n",
              "      <td>4466.33</td>\n",
              "      <td>24.275710</td>\n",
              "      <td>98.0</td>\n",
              "      <td>NM</td>\n",
              "      <td>64.533114</td>\n",
              "      <td>34.457893</td>\n",
              "      <td>High_spent_Small_value_payments</td>\n",
              "      <td>260.523798</td>\n",
              "      <td>Poor</td>\n",
              "    </tr>\n",
              "    <tr>\n",
              "      <th>79997</th>\n",
              "      <td>85991</td>\n",
              "      <td>9976</td>\n",
              "      <td>6</td>\n",
              "      <td>Luciana Lopezi</td>\n",
              "      <td>25.0</td>\n",
              "      <td>745835485.0</td>\n",
              "      <td>Engineer</td>\n",
              "      <td>29374.77</td>\n",
              "      <td>2377.897500</td>\n",
              "      <td>3.0</td>\n",
              "      <td>...</td>\n",
              "      <td>Standard</td>\n",
              "      <td>1189.37</td>\n",
              "      <td>38.439021</td>\n",
              "      <td>241.0</td>\n",
              "      <td>NM</td>\n",
              "      <td>40.264074</td>\n",
              "      <td>22.234178</td>\n",
              "      <td>High_spent_Medium_value_payments</td>\n",
              "      <td>403.980355</td>\n",
              "      <td>Standard</td>\n",
              "    </tr>\n",
              "    <tr>\n",
              "      <th>79998</th>\n",
              "      <td>21240</td>\n",
              "      <td>13193</td>\n",
              "      <td>7</td>\n",
              "      <td>Edward Krudyd</td>\n",
              "      <td>15.0</td>\n",
              "      <td>894419091.0</td>\n",
              "      <td>Manager</td>\n",
              "      <td>43782.45</td>\n",
              "      <td>3543.537500</td>\n",
              "      <td>6.0</td>\n",
              "      <td>...</td>\n",
              "      <td>Bad</td>\n",
              "      <td>3468.25</td>\n",
              "      <td>24.233841</td>\n",
              "      <td>85.0</td>\n",
              "      <td>Yes</td>\n",
              "      <td>240.664739</td>\n",
              "      <td>42.839562</td>\n",
              "      <td>Low_spent_Large_value_payments</td>\n",
              "      <td>146.741586</td>\n",
              "      <td>Poor</td>\n",
              "    </tr>\n",
              "    <tr>\n",
              "      <th>79999</th>\n",
              "      <td>73558</td>\n",
              "      <td>15294</td>\n",
              "      <td>5</td>\n",
              "      <td>Neilp</td>\n",
              "      <td>30.0</td>\n",
              "      <td>17531609.0</td>\n",
              "      <td>Lawyer</td>\n",
              "      <td>102215.61</td>\n",
              "      <td>8482.967500</td>\n",
              "      <td>2.0</td>\n",
              "      <td>...</td>\n",
              "      <td>Good</td>\n",
              "      <td>79.67</td>\n",
              "      <td>27.903216</td>\n",
              "      <td>366.0</td>\n",
              "      <td>No</td>\n",
              "      <td>60.567361</td>\n",
              "      <td>60.971467</td>\n",
              "      <td>Low_spent_Medium_value_payments</td>\n",
              "      <td>355.384222</td>\n",
              "      <td>Good</td>\n",
              "    </tr>\n",
              "  </tbody>\n",
              "</table>\n",
              "<p>80000 rows × 28 columns</p>\n",
              "</div>\n",
              "      <button class=\"colab-df-convert\" onclick=\"convertToInteractive('df-674b428f-4cdb-496c-bc82-e63894f88177')\"\n",
              "              title=\"Convert this dataframe to an interactive table.\"\n",
              "              style=\"display:none;\">\n",
              "        \n",
              "  <svg xmlns=\"http://www.w3.org/2000/svg\" height=\"24px\"viewBox=\"0 0 24 24\"\n",
              "       width=\"24px\">\n",
              "    <path d=\"M0 0h24v24H0V0z\" fill=\"none\"/>\n",
              "    <path d=\"M18.56 5.44l.94 2.06.94-2.06 2.06-.94-2.06-.94-.94-2.06-.94 2.06-2.06.94zm-11 1L8.5 8.5l.94-2.06 2.06-.94-2.06-.94L8.5 2.5l-.94 2.06-2.06.94zm10 10l.94 2.06.94-2.06 2.06-.94-2.06-.94-.94-2.06-.94 2.06-2.06.94z\"/><path d=\"M17.41 7.96l-1.37-1.37c-.4-.4-.92-.59-1.43-.59-.52 0-1.04.2-1.43.59L10.3 9.45l-7.72 7.72c-.78.78-.78 2.05 0 2.83L4 21.41c.39.39.9.59 1.41.59.51 0 1.02-.2 1.41-.59l7.78-7.78 2.81-2.81c.8-.78.8-2.07 0-2.86zM5.41 20L4 18.59l7.72-7.72 1.47 1.35L5.41 20z\"/>\n",
              "  </svg>\n",
              "      </button>\n",
              "      \n",
              "  <style>\n",
              "    .colab-df-container {\n",
              "      display:flex;\n",
              "      flex-wrap:wrap;\n",
              "      gap: 12px;\n",
              "    }\n",
              "\n",
              "    .colab-df-convert {\n",
              "      background-color: #E8F0FE;\n",
              "      border: none;\n",
              "      border-radius: 50%;\n",
              "      cursor: pointer;\n",
              "      display: none;\n",
              "      fill: #1967D2;\n",
              "      height: 32px;\n",
              "      padding: 0 0 0 0;\n",
              "      width: 32px;\n",
              "    }\n",
              "\n",
              "    .colab-df-convert:hover {\n",
              "      background-color: #E2EBFA;\n",
              "      box-shadow: 0px 1px 2px rgba(60, 64, 67, 0.3), 0px 1px 3px 1px rgba(60, 64, 67, 0.15);\n",
              "      fill: #174EA6;\n",
              "    }\n",
              "\n",
              "    [theme=dark] .colab-df-convert {\n",
              "      background-color: #3B4455;\n",
              "      fill: #D2E3FC;\n",
              "    }\n",
              "\n",
              "    [theme=dark] .colab-df-convert:hover {\n",
              "      background-color: #434B5C;\n",
              "      box-shadow: 0px 1px 3px 1px rgba(0, 0, 0, 0.15);\n",
              "      filter: drop-shadow(0px 1px 2px rgba(0, 0, 0, 0.3));\n",
              "      fill: #FFFFFF;\n",
              "    }\n",
              "  </style>\n",
              "\n",
              "      <script>\n",
              "        const buttonEl =\n",
              "          document.querySelector('#df-674b428f-4cdb-496c-bc82-e63894f88177 button.colab-df-convert');\n",
              "        buttonEl.style.display =\n",
              "          google.colab.kernel.accessAllowed ? 'block' : 'none';\n",
              "\n",
              "        async function convertToInteractive(key) {\n",
              "          const element = document.querySelector('#df-674b428f-4cdb-496c-bc82-e63894f88177');\n",
              "          const dataTable =\n",
              "            await google.colab.kernel.invokeFunction('convertToInteractive',\n",
              "                                                     [key], {});\n",
              "          if (!dataTable) return;\n",
              "\n",
              "          const docLinkHtml = 'Like what you see? Visit the ' +\n",
              "            '<a target=\"_blank\" href=https://colab.research.google.com/notebooks/data_table.ipynb>data table notebook</a>'\n",
              "            + ' to learn more about interactive tables.';\n",
              "          element.innerHTML = '';\n",
              "          dataTable['output_type'] = 'display_data';\n",
              "          await google.colab.output.renderOutput(dataTable, element);\n",
              "          const docLink = document.createElement('div');\n",
              "          docLink.innerHTML = docLinkHtml;\n",
              "          element.appendChild(docLink);\n",
              "        }\n",
              "      </script>\n",
              "    </div>\n",
              "  </div>\n",
              "  "
            ]
          },
          "metadata": {},
          "execution_count": 3
        }
      ],
      "source": [
        "import pandas as pd\n",
        "train_dataframe = pd.read_csv(\"https://raw.githubusercontent.com/samuelrodriguezgil/PracticaClasificacion/main/train.csv\");\n",
        "train_dataframe"
      ]
    },
    {
      "cell_type": "markdown",
      "source": [
        "Analizar variables"
      ],
      "metadata": {
        "id": "nSjPVdemfPUJ"
      }
    },
    {
      "cell_type": "code",
      "source": [
        "import matplotlib.pyplot as plt\n",
        "plt.hist(train_dataframe.Annual_Income)#Sueldo anual\n",
        "train_dataframe.Annual_Income.describe()"
      ],
      "metadata": {
        "id": "6BhRCANNJ6SO",
        "outputId": "7459c58e-3332-4305-ad34-8f07c1fcc7ac",
        "colab": {
          "base_uri": "https://localhost:8080/",
          "height": 421
        }
      },
      "execution_count": null,
      "outputs": [
        {
          "output_type": "execute_result",
          "data": {
            "text/plain": [
              "count     80000.000000\n",
              "mean      50585.799411\n",
              "std       38395.227743\n",
              "min        7005.930000\n",
              "25%       19339.080000\n",
              "50%       37071.200000\n",
              "75%       71716.600000\n",
              "max      179987.280000\n",
              "Name: Annual_Income, dtype: float64"
            ]
          },
          "metadata": {},
          "execution_count": 4
        },
        {
          "output_type": "display_data",
          "data": {
            "text/plain": [
              "<Figure size 432x288 with 1 Axes>"
            ],
            "image/png": "[encoded data removed]"
          },
          "metadata": {
            "needs_background": "light"
          }
        }
      ]
    },
    {
      "cell_type": "markdown",
      "source": [
        "Clustering"
      ],
      "metadata": {
        "id": "8FIgMM4ZfaU6"
      }
    },
    {
      "cell_type": "code",
      "source": [
        "from sklearn.cluster import AgglomerativeClustering\n",
        "\n",
        "train_dataframe[\"AnnualIncome\"] = AgglomerativeClustering(n_clusters=10, affinity='cosine', linkage='single')\n",
        "train_dataframe.Annual_Income.describe()\n",
        "\n",
        "#no se por que no cambia nada\n",
        "\n",
        "#plt.hist(train_dataframe.Annual_Income)\n",
        "#train_dataframe\n"
      ],
      "metadata": {
        "id": "Bfjmo9xGPTQA",
        "colab": {
          "base_uri": "https://localhost:8080/"
        },
        "outputId": "53dabcb7-c68f-41f4-d64e-d3f801dbf53b"
      },
      "execution_count": null,
      "outputs": [
        {
          "output_type": "execute_result",
          "data": {
            "text/plain": [
              "count     80000.000000\n",
              "mean      50585.799411\n",
              "std       38395.227743\n",
              "min        7005.930000\n",
              "25%       19339.080000\n",
              "50%       37071.200000\n",
              "75%       71716.600000\n",
              "max      179987.280000\n",
              "Name: Annual_Income, dtype: float64"
            ]
          },
          "metadata": {},
          "execution_count": 18
        }
      ]
    },
    {
      "cell_type": "code",
      "source": [
        "plt.hist(train_dataframe.Monthly_Inhand_Salary)# Salario mensual"
      ],
      "metadata": {
        "id": "tuKjayfRO13A",
        "outputId": "39075b55-2f9e-4fca-ee71-abda5c47a449",
        "colab": {
          "base_uri": "https://localhost:8080/",
          "height": 369
        }
      },
      "execution_count": null,
      "outputs": [
        {
          "output_type": "execute_result",
          "data": {
            "text/plain": [
              "(array([23473., 18510.,  9942.,  9835.,  6353.,  4233.,  3465.,  2289.,\n",
              "          998.,   902.]),\n",
              " array([  303.64541667,  1793.74420833,  3283.843     ,  4773.94179167,\n",
              "         6264.04058333,  7754.139375  ,  9244.23816667, 10734.33695833,\n",
              "        12224.43575   , 13714.53454167, 15204.63333333]),\n",
              " <a list of 10 Patch objects>)"
            ]
          },
          "metadata": {},
          "execution_count": 4
        },
        {
          "output_type": "display_data",
          "data": {
            "text/plain": [
              "<Figure size 432x288 with 1 Axes>"
            ],
            "image/png": "[encoded data removed]"
          },
          "metadata": {
            "needs_background": "light"
          }
        }
      ]
    },
    {
      "cell_type": "code",
      "source": [
        "plt.hist(train_dataframe.Num_Bank_Accounts)#numero de cuentas en el banco"
      ],
      "metadata": {
        "id": "hBAwXKn5PD03",
        "outputId": "656cca32-41a3-4f49-eea1-27ae153596d2",
        "colab": {
          "base_uri": "https://localhost:8080/",
          "height": 334
        }
      },
      "execution_count": null,
      "outputs": [
        {
          "output_type": "execute_result",
          "data": {
            "text/plain": [
              "(array([ 7221.,  3508.,  9751.,  9855.,  9753., 10482., 10352., 10435.,\n",
              "         4373.,  4270.]),\n",
              " array([ 0. ,  1.1,  2.2,  3.3,  4.4,  5.5,  6.6,  7.7,  8.8,  9.9, 11. ]),\n",
              " <a list of 10 Patch objects>)"
            ]
          },
          "metadata": {},
          "execution_count": 5
        },
        {
          "output_type": "display_data",
          "data": {
            "text/plain": [
              "<Figure size 432x288 with 1 Axes>"
            ],
            "image/png": "[encoded data removed]"
          },
          "metadata": {
            "needs_background": "light"
          }
        }
      ]
    },
    {
      "cell_type": "code",
      "source": [
        "plt.hist(train_dataframe.Outstanding_Debt)#Deuda por pagar"
      ],
      "metadata": {
        "id": "8JQqFq6ePXdy",
        "outputId": "4358ab3e-4ea2-4a47-bf15-50a4a6823966",
        "colab": {
          "base_uri": "https://localhost:8080/",
          "height": 369
        }
      },
      "execution_count": null,
      "outputs": [
        {
          "output_type": "execute_result",
          "data": {
            "text/plain": [
              "(array([17629., 16813., 20265.,  6060.,  5772.,  4709.,  2169.,  2354.,\n",
              "         2051.,  2178.]),\n",
              " array([2.300000e-01, 5.000140e+02, 9.997980e+02, 1.499582e+03,\n",
              "        1.999366e+03, 2.499150e+03, 2.998934e+03, 3.498718e+03,\n",
              "        3.998502e+03, 4.498286e+03, 4.998070e+03]),\n",
              " <a list of 10 Patch objects>)"
            ]
          },
          "metadata": {},
          "execution_count": 6
        },
        {
          "output_type": "display_data",
          "data": {
            "text/plain": [
              "<Figure size 432x288 with 1 Axes>"
            ],
            "image/png": "[encoded data removed]"
          },
          "metadata": {
            "needs_background": "light"
          }
        }
      ]
    },
    {
      "cell_type": "code",
      "source": [
        "plt.hist(train_dataframe.Monthly_Balance)# Balance mensual"
      ],
      "metadata": {
        "id": "zp19kxHoPXVS",
        "outputId": "a74771f2-d069-4ffb-e4b5-07929363f1ca",
        "colab": {
          "base_uri": "https://localhost:8080/",
          "height": 369
        }
      },
      "execution_count": null,
      "outputs": [
        {
          "output_type": "execute_result",
          "data": {
            "text/plain": [
              "(array([ 2294.,  9496., 32903., 16225.,  7162.,  4558.,  3204.,  2110.,\n",
              "         1328.,   720.]),\n",
              " array([1.31135651e-01, 1.18511092e+02, 2.36891048e+02, 3.55271004e+02,\n",
              "        4.73650960e+02, 5.92030916e+02, 7.10410872e+02, 8.28790828e+02,\n",
              "        9.47170784e+02, 1.06555074e+03, 1.18393070e+03]),\n",
              " <a list of 10 Patch objects>)"
            ]
          },
          "metadata": {},
          "execution_count": 7
        },
        {
          "output_type": "display_data",
          "data": {
            "text/plain": [
              "<Figure size 432x288 with 1 Axes>"
            ],
            "image/png": "[encoded data removed]"
          },
          "metadata": {
            "needs_background": "light"
          }
        }
      ]
    },
    {
      "cell_type": "code",
      "source": [
        "plt.hist(train_dataframe.Total_EMI_per_month)#Lo que paga cada prestado al mes."
      ],
      "metadata": {
        "id": "Osqj4MJYPXN6",
        "outputId": "b04c2a3f-c7dd-4379-ccea-1d7246a81a0f",
        "colab": {
          "base_uri": "https://localhost:8080/",
          "height": 369
        }
      },
      "execution_count": null,
      "outputs": [
        {
          "output_type": "execute_result",
          "data": {
            "text/plain": [
              "(array([6.4466e+04, 1.2413e+04, 2.0790e+03, 4.9800e+02, 1.9700e+02,\n",
              "        1.3400e+02, 8.9000e+01, 4.1000e+01, 3.0000e+01, 5.3000e+01]),\n",
              " array([   0.        ,  177.91032538,  355.82065077,  533.73097615,\n",
              "         711.64130153,  889.55162691, 1067.4619523 , 1245.37227768,\n",
              "        1423.28260306, 1601.19292844, 1779.10325383]),\n",
              " <a list of 10 Patch objects>)"
            ]
          },
          "metadata": {},
          "execution_count": 8
        },
        {
          "output_type": "display_data",
          "data": {
            "text/plain": [
              "<Figure size 432x288 with 1 Axes>"
            ],
            "image/png": "[encoded data removed]"
          },
          "metadata": {
            "needs_background": "light"
          }
        }
      ]
    },
    {
      "cell_type": "code",
      "source": [
        "plt.hist(train_dataframe.Age)"
      ],
      "metadata": {
        "id": "kDdDG-LKPXDi",
        "outputId": "a54a7455-988b-401c-ee49-32bb3c5552e0",
        "colab": {
          "base_uri": "https://localhost:8080/",
          "height": 334
        }
      },
      "execution_count": null,
      "outputs": [
        {
          "output_type": "execute_result",
          "data": {
            "text/plain": [
              "(array([ 6621.,  9107.,  9172.,  9332.,  9248., 11776.,  8811.,  6851.,\n",
              "         4381.,  4701.]),\n",
              " array([14. , 18.2, 22.4, 26.6, 30.8, 35. , 39.2, 43.4, 47.6, 51.8, 56. ]),\n",
              " <a list of 10 Patch objects>)"
            ]
          },
          "metadata": {},
          "execution_count": 9
        },
        {
          "output_type": "display_data",
          "data": {
            "text/plain": [
              "<Figure size 432x288 with 1 Axes>"
            ],
            "image/png": "[encoded data removed]"
          },
          "metadata": {
            "needs_background": "light"
          }
        }
      ]
    },
    {
      "cell_type": "code",
      "source": [
        "plt.hist(train_dataframe.Occupation)\n",
        "train_dataframe.Occupation.describe()\n",
        "#ONEHOTENCODER"
      ],
      "metadata": {
        "id": "0cM8hTnjUcGr",
        "outputId": "7effdcee-3815-40c2-f170-5c69482ca0f9",
        "colab": {
          "base_uri": "https://localhost:8080/",
          "height": 353
        }
      },
      "execution_count": null,
      "outputs": [
        {
          "output_type": "execute_result",
          "data": {
            "text/plain": [
              "count      80000\n",
              "unique        15\n",
              "top       Lawyer\n",
              "freq        5682\n",
              "Name: Occupation, dtype: object"
            ]
          },
          "metadata": {},
          "execution_count": 28
        },
        {
          "output_type": "display_data",
          "data": {
            "text/plain": [
              "<Figure size 432x288 with 1 Axes>"
            ],
            "image/png": "[encoded data removed]"
          },
          "metadata": {
            "needs_background": "light"
          }
        }
      ]
    },
    {
      "cell_type": "markdown",
      "source": [
        "Num_Credit_Card\tInterest_Rate\tNum_of_Loan\tType_of_Loan\tDelay_from_due_date\tNum_of_Delayed_Payment\tChanged_Credit_Limit\tNum_Credit_Inquiries\tCredit_Mix\t\n",
        "Tratarlas, en principio Onehot."
      ],
      "metadata": {
        "id": "q2dzOetBXre_"
      }
    },
    {
      "cell_type": "code",
      "source": [
        "#plt.hist(train_dataframe.Type_of_Loan)\n",
        "train_dataframe.Type_of_Loan.describe()\n",
        "#ORDINAL"
      ],
      "metadata": {
        "colab": {
          "base_uri": "https://localhost:8080/"
        },
        "id": "HDx4cxYRi2Tu",
        "outputId": "c3b3e380-2a7d-4863-bc88-bc8316098678"
      },
      "execution_count": null,
      "outputs": [
        {
          "output_type": "execute_result",
          "data": {
            "text/plain": [
              "count       80000\n",
              "unique       6261\n",
              "top       No Data\n",
              "freq         9124\n",
              "Name: Type_of_Loan, dtype: object"
            ]
          },
          "metadata": {},
          "execution_count": 21
        }
      ]
    },
    {
      "cell_type": "code",
      "source": [
        "plt.hist(train_dataframe.Delay_from_due_date)"
      ],
      "metadata": {
        "colab": {
          "base_uri": "https://localhost:8080/",
          "height": 334
        },
        "id": "pgV8-Qytjx6p",
        "outputId": "4e960f94-05f2-41fa-add7-b32015dffad4"
      },
      "execution_count": null,
      "outputs": [
        {
          "output_type": "execute_result",
          "data": {
            "text/plain": [
              "(array([11266., 15618., 14448., 11853., 11602.,  3796.,  2693.,  2729.,\n",
              "         2816.,  3179.]),\n",
              " array([ 0. ,  6.2, 12.4, 18.6, 24.8, 31. , 37.2, 43.4, 49.6, 55.8, 62. ]),\n",
              " <a list of 10 Patch objects>)"
            ]
          },
          "metadata": {},
          "execution_count": 23
        },
        {
          "output_type": "display_data",
          "data": {
            "text/plain": [
              "<Figure size 432x288 with 1 Axes>"
            ],
            "image/png": "[encoded data removed]"
          },
          "metadata": {
            "needs_background": "light"
          }
        }
      ]
    },
    {
      "cell_type": "code",
      "source": [
        "plt.hist(train_dataframe.Changed_Credit_Limit)"
      ],
      "metadata": {
        "colab": {
          "base_uri": "https://localhost:8080/",
          "height": 352
        },
        "id": "gv2x2xBGkJEp",
        "outputId": "a705ce03-1548-4e39-d3de-6c2a2dbe79bd"
      },
      "execution_count": null,
      "outputs": [
        {
          "output_type": "execute_result",
          "data": {
            "text/plain": [
              "(array([12060., 12034., 15516., 14335.,  6939.,  8061.,  5318.,  2074.,\n",
              "         1989.,  1674.]),\n",
              " array([ 0.5  ,  3.448,  6.396,  9.344, 12.292, 15.24 , 18.188, 21.136,\n",
              "        24.084, 27.032, 29.98 ]),\n",
              " <a list of 10 Patch objects>)"
            ]
          },
          "metadata": {},
          "execution_count": 24
        },
        {
          "output_type": "display_data",
          "data": {
            "text/plain": [
              "<Figure size 432x288 with 1 Axes>"
            ],
            "image/png": "[encoded data removed]"
          },
          "metadata": {
            "needs_background": "light"
          }
        }
      ]
    },
    {
      "cell_type": "code",
      "source": [
        "plt.hist(train_dataframe.Credit_Mix)\n",
        "#ORDINAL"
      ],
      "metadata": {
        "colab": {
          "base_uri": "https://localhost:8080/",
          "height": 334
        },
        "id": "Fug6nu5DkWDz",
        "outputId": "23354db8-db45-42f0-f2a9-33de0c9ed495"
      },
      "execution_count": null,
      "outputs": [
        {
          "output_type": "execute_result",
          "data": {
            "text/plain": [
              "(array([24339.,     0.,     0.,     0.,     0., 18918.,     0.,     0.,\n",
              "            0., 36743.]),\n",
              " array([0. , 0.2, 0.4, 0.6, 0.8, 1. , 1.2, 1.4, 1.6, 1.8, 2. ]),\n",
              " <a list of 10 Patch objects>)"
            ]
          },
          "metadata": {},
          "execution_count": 25
        },
        {
          "output_type": "display_data",
          "data": {
            "text/plain": [
              "<Figure size 432x288 with 1 Axes>"
            ],
            "image/png": "[encoded data removed]"
          },
          "metadata": {
            "needs_background": "light"
          }
        }
      ]
    },
    {
      "cell_type": "code",
      "source": [
        "plt.hist(train_dataframe.Credit_Utilization_Ratio)\n",
        "#clusterizar"
      ],
      "metadata": {
        "colab": {
          "base_uri": "https://localhost:8080/",
          "height": 334
        },
        "id": "SxemgingkrlG",
        "outputId": "01c37e0f-1c71-483e-d162-77b82f87247b"
      },
      "execution_count": null,
      "outputs": [
        {
          "output_type": "execute_result",
          "data": {
            "text/plain": [
              "(array([ 1162.,  9624., 13638., 14042., 14331., 14354., 10569.,  2004.,\n",
              "          249.,    27.]),\n",
              " array([20., 23., 26., 29., 32., 35., 38., 41., 44., 47., 50.]),\n",
              " <a list of 10 Patch objects>)"
            ]
          },
          "metadata": {},
          "execution_count": 26
        },
        {
          "output_type": "display_data",
          "data": {
            "text/plain": [
              "<Figure size 432x288 with 1 Axes>"
            ],
            "image/png": "[encoded data removed]"
          },
          "metadata": {
            "needs_background": "light"
          }
        }
      ]
    },
    {
      "cell_type": "code",
      "source": [
        "plt.hist(train_dataframe.Credit_History_Age)"
      ],
      "metadata": {
        "colab": {
          "base_uri": "https://localhost:8080/",
          "height": 352
        },
        "id": "a6s8cfXZlDjj",
        "outputId": "6d75fa6c-f524-4313-fd3d-3c397c00a5b7"
      },
      "execution_count": null,
      "outputs": [
        {
          "output_type": "execute_result",
          "data": {
            "text/plain": [
              "(array([ 2491.,  5028.,  7895.,  8314., 10289., 13788.,  8426.,  7930.,\n",
              "         8122.,  7717.]),\n",
              " array([  1. ,  41.3,  81.6, 121.9, 162.2, 202.5, 242.8, 283.1, 323.4,\n",
              "        363.7, 404. ]),\n",
              " <a list of 10 Patch objects>)"
            ]
          },
          "metadata": {},
          "execution_count": 27
        },
        {
          "output_type": "display_data",
          "data": {
            "text/plain": [
              "<Figure size 432x288 with 1 Axes>"
            ],
            "image/png": "[encoded data removed]"
          },
          "metadata": {
            "needs_background": "light"
          }
        }
      ]
    },
    {
      "cell_type": "code",
      "source": [
        "import sklearn.compose\n",
        "colum_transformer = sklearn.compose.ColumnTransformer(transformers=[\n",
        "    (\"ID\" , \"drop\", [0]),\n",
        "    (\"Customer_ID\" , \"drop\", [1]),\n",
        "    (\"Month\" , \"passthrough\", [2]),\n",
        "    (\"Name\" , \"drop\", [3]),\n",
        "    (\"Age\" , \"passthrough\", [4]),\n",
        "    (\"SSN\" , \"drop\", [5]),\n",
        "    (\"Occupation\" , \"\", [6]), #ordinal encoder\n",
        "    (\"Annual_Income\" , \"passthrough\", [7]),\n",
        "    (\"Monthly_Inhand_Salary\" , \"passthrough\", [8]),\n",
        "    (\"Num_Bank_Accounts\" , \"passthrough\", [9]),\n",
        "    (\"Num_Credit_Card\" , \"passthrough\", [9]),\n",
        "    (\"Interest_Rate\" , \"passthrough\", [11]),\n",
        "    (\"Num_of_Loan\" , \"passthrough\", [12]),\n",
        "    (\"Type_of_Loan\", \"\" , [13]), #ordinal encoder\n",
        "    (\"Delay_from_due_date\", \"passthrough\", [14]), \n",
        "    (\"Num_of_Delayed_Payment\", \"passthrough\", [15]),\n",
        "    (\"Changed_Credit_Limit\", \"passthrough\", [16]),\n",
        "    (\"Num_Credit_Inquiries\", \"passthrough\", [17]),\n",
        "    (\"Credit_Mix\", \"\", [18]), #ordinal encoder\n",
        "    (\"Outstanding_Debt\", \"passthrough\", [19]),\n",
        "    (\"Credit_Utilization_Ratio\", \"\", [20]),#clusterizar\n",
        "    (\"Credit_History_Age\", \"passthrough\", [21]),\n",
        "    (\"Payment_of_Min_Amount\", \"\", [22]), #onehot\n",
        "    (\"Total_EMI_per_month\", \"passthrough\", [23]),\n",
        "    (\"Amount_invested_monthly\", \"passthrough\", [24]),\n",
        "    (\"Payment_Behaviour\", \"\", [25]), #onehot\n",
        "    (\"Monthly_Balance\", \"passthrough\", [26]),\n",
        "    (\"Credit_Score\", \"drop\", [27]),\n",
        "    ]);\n",
        "\n",
        "train_dataframe_transform = colum_transformer.fit_transform(train_dataframe)\n",
        "train_dataframe_transform"
      ],
      "metadata": {
        "id": "UKBw7n4ufO45",
        "colab": {
          "base_uri": "https://localhost:8080/",
          "height": 363
        },
        "outputId": "5caa8a31-cec8-43f2-8807-1f63fe24d2e7"
      },
      "execution_count": null,
      "outputs": [
        {
          "output_type": "error",
          "ename": "TypeError",
          "evalue": "ignored",
          "traceback": [
            "\u001b[0;31m---------------------------------------------------------------------------\u001b[0m",
            "\u001b[0;31mTypeError\u001b[0m                                 Traceback (most recent call last)",
            "\u001b[0;32m<ipython-input-11-605e8974d91e>\u001b[0m in \u001b[0;36m<module>\u001b[0;34m\u001b[0m\n\u001b[1;32m     31\u001b[0m     ]);\n\u001b[1;32m     32\u001b[0m \u001b[0;34m\u001b[0m\u001b[0m\n\u001b[0;32m---> 33\u001b[0;31m \u001b[0mtrain_dataframe_transform\u001b[0m \u001b[0;34m=\u001b[0m \u001b[0mcolum_transformer\u001b[0m\u001b[0;34m.\u001b[0m\u001b[0mfit_transform\u001b[0m\u001b[0;34m(\u001b[0m\u001b[0mtrain_dataframe\u001b[0m\u001b[0;34m)\u001b[0m\u001b[0;34m\u001b[0m\u001b[0;34m\u001b[0m\u001b[0m\n\u001b[0m\u001b[1;32m     34\u001b[0m \u001b[0mtrain_dataframe_transform\u001b[0m\u001b[0;34m\u001b[0m\u001b[0;34m\u001b[0m\u001b[0m\n",
            "\u001b[0;32m/usr/local/lib/python3.7/dist-packages/sklearn/compose/_column_transformer.py\u001b[0m in \u001b[0;36mfit_transform\u001b[0;34m(self, X, y)\u001b[0m\n\u001b[1;32m    669\u001b[0m         \u001b[0;31m# set n_features_in_ attribute\u001b[0m\u001b[0;34m\u001b[0m\u001b[0;34m\u001b[0m\u001b[0;34m\u001b[0m\u001b[0m\n\u001b[1;32m    670\u001b[0m         \u001b[0mself\u001b[0m\u001b[0;34m.\u001b[0m\u001b[0m_check_n_features\u001b[0m\u001b[0;34m(\u001b[0m\u001b[0mX\u001b[0m\u001b[0;34m,\u001b[0m \u001b[0mreset\u001b[0m\u001b[0;34m=\u001b[0m\u001b[0;32mTrue\u001b[0m\u001b[0;34m)\u001b[0m\u001b[0;34m\u001b[0m\u001b[0;34m\u001b[0m\u001b[0m\n\u001b[0;32m--> 671\u001b[0;31m         \u001b[0mself\u001b[0m\u001b[0;34m.\u001b[0m\u001b[0m_validate_transformers\u001b[0m\u001b[0;34m(\u001b[0m\u001b[0;34m)\u001b[0m\u001b[0;34m\u001b[0m\u001b[0;34m\u001b[0m\u001b[0m\n\u001b[0m\u001b[1;32m    672\u001b[0m         \u001b[0mself\u001b[0m\u001b[0;34m.\u001b[0m\u001b[0m_validate_column_callables\u001b[0m\u001b[0;34m(\u001b[0m\u001b[0mX\u001b[0m\u001b[0;34m)\u001b[0m\u001b[0;34m\u001b[0m\u001b[0;34m\u001b[0m\u001b[0m\n\u001b[1;32m    673\u001b[0m         \u001b[0mself\u001b[0m\u001b[0;34m.\u001b[0m\u001b[0m_validate_remainder\u001b[0m\u001b[0;34m(\u001b[0m\u001b[0mX\u001b[0m\u001b[0;34m)\u001b[0m\u001b[0;34m\u001b[0m\u001b[0;34m\u001b[0m\u001b[0m\n",
            "\u001b[0;32m/usr/local/lib/python3.7/dist-packages/sklearn/compose/_column_transformer.py\u001b[0m in \u001b[0;36m_validate_transformers\u001b[0;34m(self)\u001b[0m\n\u001b[1;32m    337\u001b[0m                     \u001b[0;34m\"All estimators should implement fit and \"\u001b[0m\u001b[0;34m\u001b[0m\u001b[0;34m\u001b[0m\u001b[0m\n\u001b[1;32m    338\u001b[0m                     \u001b[0;34m\"transform, or can be 'drop' or 'passthrough' \"\u001b[0m\u001b[0;34m\u001b[0m\u001b[0;34m\u001b[0m\u001b[0m\n\u001b[0;32m--> 339\u001b[0;31m                     \u001b[0;34m\"specifiers. '%s' (type %s) doesn't.\"\u001b[0m \u001b[0;34m%\u001b[0m \u001b[0;34m(\u001b[0m\u001b[0mt\u001b[0m\u001b[0;34m,\u001b[0m \u001b[0mtype\u001b[0m\u001b[0;34m(\u001b[0m\u001b[0mt\u001b[0m\u001b[0;34m)\u001b[0m\u001b[0;34m)\u001b[0m\u001b[0;34m\u001b[0m\u001b[0;34m\u001b[0m\u001b[0m\n\u001b[0m\u001b[1;32m    340\u001b[0m                 )\n\u001b[1;32m    341\u001b[0m \u001b[0;34m\u001b[0m\u001b[0m\n",
            "\u001b[0;31mTypeError\u001b[0m: All estimators should implement fit and transform, or can be 'drop' or 'passthrough' specifiers. '' (type <class 'str'>) doesn't."
          ]
        }
      ]
    }
  ]
}