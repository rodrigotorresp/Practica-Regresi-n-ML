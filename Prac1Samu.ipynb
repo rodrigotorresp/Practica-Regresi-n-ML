{
  "nbformat": 4,
  "nbformat_minor": 0,
  "metadata": {
    "colab": {
      "provenance": [],
      "collapsed_sections": [],
      "include_colab_link": true
    },
    "kernelspec": {
      "name": "python3",
      "display_name": "Python 3"
    },
    "language_info": {
      "name": "python"
    }
  },
  "cells": [
    {
      "cell_type": "markdown",
      "metadata": {
        "id": "view-in-github",
        "colab_type": "text"
      },
      "source": [
        "<a href=\"https://colab.research.google.com/github/rodrigotorresp/Practica-Regresi-n-ML/blob/main/Prac1Samu.ipynb\" target=\"_parent\"><img src=\"https://colab.research.google.com/assets/colab-badge.svg\" alt=\"Open In Colab\"/></a>"
      ]
    },
    {
      "cell_type": "code",
      "execution_count": 158,
      "metadata": {
        "id": "1eo-Yo3nMkJy",
        "colab": {
          "base_uri": "https://localhost:8080/",
          "height": 641
        },
        "outputId": "d5e95b9f-308e-4b0b-c3ef-a5102a0da4a4"
      },
      "outputs": [
        {
          "output_type": "execute_result",
          "data": {
            "text/plain": [
              "     LaptopId  Company                            Product            TypeName  \\\n",
              "0         981  Toshiba                  Portege Z30-C-1CV            Notebook   \n",
              "1         996       HP                  Spectre 13-V111dx           Ultrabook   \n",
              "2          77     Dell                      Inspiron 5570            Notebook   \n",
              "3         103       HP                     Envy 13-ad009n           Ultrabook   \n",
              "4         946     Dell                      Latitude 7280           Ultrabook   \n",
              "..        ...      ...                                ...                 ...   \n",
              "907       994     Dell                      Inspiron 5378  2 in 1 Convertible   \n",
              "908       615     Asus  FX753VD-GC007T (i7-7700HQ/8GB/1TB              Gaming   \n",
              "909      1063     Dell                      Inspiron 5567            Notebook   \n",
              "910        96     Dell                      Inspiron 3567            Notebook   \n",
              "911       539   Lenovo                      Thinkpad E470            Notebook   \n",
              "\n",
              "     Inches                           ScreenResolution  \\\n",
              "0      13.3                          Full HD 1920x1080   \n",
              "1      13.3  IPS Panel Full HD / Touchscreen 1920x1080   \n",
              "2      15.6                          Full HD 1920x1080   \n",
              "3      13.3                IPS Panel Full HD 1920x1080   \n",
              "4      12.5            Full HD / Touchscreen 1920x1080   \n",
              "..      ...                                        ...   \n",
              "907    13.3            Full HD / Touchscreen 1920x1080   \n",
              "908    17.3                          Full HD 1920x1080   \n",
              "909    15.6                          Full HD 1920x1080   \n",
              "910    15.6                          Full HD 1920x1080   \n",
              "911    14.0                IPS Panel Full HD 1920x1080   \n",
              "\n",
              "                             Cpu   Ram                Memory  \\\n",
              "0     Intel Core i5 6200U 2.3GHz   4GB             128GB SSD   \n",
              "1     Intel Core i7 7500U 2.7GHz   8GB             256GB SSD   \n",
              "2     Intel Core i7 8550U 1.8GHz   8GB  128GB SSD +  1TB HDD   \n",
              "3     Intel Core i7 7500U 2.7GHz   8GB             256GB SSD   \n",
              "4     Intel Core i5 7200U 2.5GHz   8GB             256GB SSD   \n",
              "..                           ...   ...                   ...   \n",
              "907   Intel Core i5 7200U 2.5GHz   8GB             256GB SSD   \n",
              "908  Intel Core i7 7700HQ 2.8GHz   8GB  128GB SSD +  1TB HDD   \n",
              "909   Intel Core i7 7500U 2.7GHz  16GB               2TB HDD   \n",
              "910   Intel Core i7 7500U 2.7GHz   8GB               1TB HDD   \n",
              "911   Intel Core i7 7500U 2.7GHz   8GB             256GB SSD   \n",
              "\n",
              "                         Gpu       OpSys  Weight    Price  \n",
              "0      Intel HD Graphics 520   Windows 7   1.2kg  1195.00  \n",
              "1      Intel HD Graphics 620  Windows 10  1.11kg  1349.00  \n",
              "2     Intel UHD Graphics 620  Windows 10  2.02kg   855.00  \n",
              "3       Nvidia GeForce MX150  Windows 10  1.38kg  1119.00  \n",
              "4          Intel HD Graphics  Windows 10  1.36kg  1472.20  \n",
              "..                       ...         ...     ...      ...  \n",
              "907    Intel HD Graphics 620  Windows 10  1.68kg   889.00  \n",
              "908  Nvidia GeForce GTX 1050  Windows 10     3kg  1168.00  \n",
              "909       AMD Radeon R7 M445  Windows 10  2.32kg   989.99  \n",
              "910       AMD Radeon R5 M430       Linux   2.2kg   599.90  \n",
              "911     Nvidia GeForce 940MX  Windows 10  1.87kg   859.00  \n",
              "\n",
              "[912 rows x 13 columns]"
            ],
            "text/html": [
              "\n",
              "  <div id=\"df-021e02cc-e06e-4ead-84ea-62206ca96d2e\">\n",
              "    <div class=\"colab-df-container\">\n",
              "      <div>\n",
              "<style scoped>\n",
              "    .dataframe tbody tr th:only-of-type {\n",
              "        vertical-align: middle;\n",
              "    }\n",
              "\n",
              "    .dataframe tbody tr th {\n",
              "        vertical-align: top;\n",
              "    }\n",
              "\n",
              "    .dataframe thead th {\n",
              "        text-align: right;\n",
              "    }\n",
              "</style>\n",
              "<table border=\"1\" class=\"dataframe\">\n",
              "  <thead>\n",
              "    <tr style=\"text-align: right;\">\n",
              "      <th></th>\n",
              "      <th>LaptopId</th>\n",
              "      <th>Company</th>\n",
              "      <th>Product</th>\n",
              "      <th>TypeName</th>\n",
              "      <th>Inches</th>\n",
              "      <th>ScreenResolution</th>\n",
              "      <th>Cpu</th>\n",
              "      <th>Ram</th>\n",
              "      <th>Memory</th>\n",
              "      <th>Gpu</th>\n",
              "      <th>OpSys</th>\n",
              "      <th>Weight</th>\n",
              "      <th>Price</th>\n",
              "    </tr>\n",
              "  </thead>\n",
              "  <tbody>\n",
              "    <tr>\n",
              "      <th>0</th>\n",
              "      <td>981</td>\n",
              "      <td>Toshiba</td>\n",
              "      <td>Portege Z30-C-1CV</td>\n",
              "      <td>Notebook</td>\n",
              "      <td>13.3</td>\n",
              "      <td>Full HD 1920x1080</td>\n",
              "      <td>Intel Core i5 6200U 2.3GHz</td>\n",
              "      <td>4GB</td>\n",
              "      <td>128GB SSD</td>\n",
              "      <td>Intel HD Graphics 520</td>\n",
              "      <td>Windows 7</td>\n",
              "      <td>1.2kg</td>\n",
              "      <td>1195.00</td>\n",
              "    </tr>\n",
              "    <tr>\n",
              "      <th>1</th>\n",
              "      <td>996</td>\n",
              "      <td>HP</td>\n",
              "      <td>Spectre 13-V111dx</td>\n",
              "      <td>Ultrabook</td>\n",
              "      <td>13.3</td>\n",
              "      <td>IPS Panel Full HD / Touchscreen 1920x1080</td>\n",
              "      <td>Intel Core i7 7500U 2.7GHz</td>\n",
              "      <td>8GB</td>\n",
              "      <td>256GB SSD</td>\n",
              "      <td>Intel HD Graphics 620</td>\n",
              "      <td>Windows 10</td>\n",
              "      <td>1.11kg</td>\n",
              "      <td>1349.00</td>\n",
              "    </tr>\n",
              "    <tr>\n",
              "      <th>2</th>\n",
              "      <td>77</td>\n",
              "      <td>Dell</td>\n",
              "      <td>Inspiron 5570</td>\n",
              "      <td>Notebook</td>\n",
              "      <td>15.6</td>\n",
              "      <td>Full HD 1920x1080</td>\n",
              "      <td>Intel Core i7 8550U 1.8GHz</td>\n",
              "      <td>8GB</td>\n",
              "      <td>128GB SSD +  1TB HDD</td>\n",
              "      <td>Intel UHD Graphics 620</td>\n",
              "      <td>Windows 10</td>\n",
              "      <td>2.02kg</td>\n",
              "      <td>855.00</td>\n",
              "    </tr>\n",
              "    <tr>\n",
              "      <th>3</th>\n",
              "      <td>103</td>\n",
              "      <td>HP</td>\n",
              "      <td>Envy 13-ad009n</td>\n",
              "      <td>Ultrabook</td>\n",
              "      <td>13.3</td>\n",
              "      <td>IPS Panel Full HD 1920x1080</td>\n",
              "      <td>Intel Core i7 7500U 2.7GHz</td>\n",
              "      <td>8GB</td>\n",
              "      <td>256GB SSD</td>\n",
              "      <td>Nvidia GeForce MX150</td>\n",
              "      <td>Windows 10</td>\n",
              "      <td>1.38kg</td>\n",
              "      <td>1119.00</td>\n",
              "    </tr>\n",
              "    <tr>\n",
              "      <th>4</th>\n",
              "      <td>946</td>\n",
              "      <td>Dell</td>\n",
              "      <td>Latitude 7280</td>\n",
              "      <td>Ultrabook</td>\n",
              "      <td>12.5</td>\n",
              "      <td>Full HD / Touchscreen 1920x1080</td>\n",
              "      <td>Intel Core i5 7200U 2.5GHz</td>\n",
              "      <td>8GB</td>\n",
              "      <td>256GB SSD</td>\n",
              "      <td>Intel HD Graphics</td>\n",
              "      <td>Windows 10</td>\n",
              "      <td>1.36kg</td>\n",
              "      <td>1472.20</td>\n",
              "    </tr>\n",
              "    <tr>\n",
              "      <th>...</th>\n",
              "      <td>...</td>\n",
              "      <td>...</td>\n",
              "      <td>...</td>\n",
              "      <td>...</td>\n",
              "      <td>...</td>\n",
              "      <td>...</td>\n",
              "      <td>...</td>\n",
              "      <td>...</td>\n",
              "      <td>...</td>\n",
              "      <td>...</td>\n",
              "      <td>...</td>\n",
              "      <td>...</td>\n",
              "      <td>...</td>\n",
              "    </tr>\n",
              "    <tr>\n",
              "      <th>907</th>\n",
              "      <td>994</td>\n",
              "      <td>Dell</td>\n",
              "      <td>Inspiron 5378</td>\n",
              "      <td>2 in 1 Convertible</td>\n",
              "      <td>13.3</td>\n",
              "      <td>Full HD / Touchscreen 1920x1080</td>\n",
              "      <td>Intel Core i5 7200U 2.5GHz</td>\n",
              "      <td>8GB</td>\n",
              "      <td>256GB SSD</td>\n",
              "      <td>Intel HD Graphics 620</td>\n",
              "      <td>Windows 10</td>\n",
              "      <td>1.68kg</td>\n",
              "      <td>889.00</td>\n",
              "    </tr>\n",
              "    <tr>\n",
              "      <th>908</th>\n",
              "      <td>615</td>\n",
              "      <td>Asus</td>\n",
              "      <td>FX753VD-GC007T (i7-7700HQ/8GB/1TB</td>\n",
              "      <td>Gaming</td>\n",
              "      <td>17.3</td>\n",
              "      <td>Full HD 1920x1080</td>\n",
              "      <td>Intel Core i7 7700HQ 2.8GHz</td>\n",
              "      <td>8GB</td>\n",
              "      <td>128GB SSD +  1TB HDD</td>\n",
              "      <td>Nvidia GeForce GTX 1050</td>\n",
              "      <td>Windows 10</td>\n",
              "      <td>3kg</td>\n",
              "      <td>1168.00</td>\n",
              "    </tr>\n",
              "    <tr>\n",
              "      <th>909</th>\n",
              "      <td>1063</td>\n",
              "      <td>Dell</td>\n",
              "      <td>Inspiron 5567</td>\n",
              "      <td>Notebook</td>\n",
              "      <td>15.6</td>\n",
              "      <td>Full HD 1920x1080</td>\n",
              "      <td>Intel Core i7 7500U 2.7GHz</td>\n",
              "      <td>16GB</td>\n",
              "      <td>2TB HDD</td>\n",
              "      <td>AMD Radeon R7 M445</td>\n",
              "      <td>Windows 10</td>\n",
              "      <td>2.32kg</td>\n",
              "      <td>989.99</td>\n",
              "    </tr>\n",
              "    <tr>\n",
              "      <th>910</th>\n",
              "      <td>96</td>\n",
              "      <td>Dell</td>\n",
              "      <td>Inspiron 3567</td>\n",
              "      <td>Notebook</td>\n",
              "      <td>15.6</td>\n",
              "      <td>Full HD 1920x1080</td>\n",
              "      <td>Intel Core i7 7500U 2.7GHz</td>\n",
              "      <td>8GB</td>\n",
              "      <td>1TB HDD</td>\n",
              "      <td>AMD Radeon R5 M430</td>\n",
              "      <td>Linux</td>\n",
              "      <td>2.2kg</td>\n",
              "      <td>599.90</td>\n",
              "    </tr>\n",
              "    <tr>\n",
              "      <th>911</th>\n",
              "      <td>539</td>\n",
              "      <td>Lenovo</td>\n",
              "      <td>Thinkpad E470</td>\n",
              "      <td>Notebook</td>\n",
              "      <td>14.0</td>\n",
              "      <td>IPS Panel Full HD 1920x1080</td>\n",
              "      <td>Intel Core i7 7500U 2.7GHz</td>\n",
              "      <td>8GB</td>\n",
              "      <td>256GB SSD</td>\n",
              "      <td>Nvidia GeForce 940MX</td>\n",
              "      <td>Windows 10</td>\n",
              "      <td>1.87kg</td>\n",
              "      <td>859.00</td>\n",
              "    </tr>\n",
              "  </tbody>\n",
              "</table>\n",
              "<p>912 rows × 13 columns</p>\n",
              "</div>\n",
              "      <button class=\"colab-df-convert\" onclick=\"convertToInteractive('df-021e02cc-e06e-4ead-84ea-62206ca96d2e')\"\n",
              "              title=\"Convert this dataframe to an interactive table.\"\n",
              "              style=\"display:none;\">\n",
              "        \n",
              "  <svg xmlns=\"http://www.w3.org/2000/svg\" height=\"24px\"viewBox=\"0 0 24 24\"\n",
              "       width=\"24px\">\n",
              "    <path d=\"M0 0h24v24H0V0z\" fill=\"none\"/>\n",
              "    <path d=\"M18.56 5.44l.94 2.06.94-2.06 2.06-.94-2.06-.94-.94-2.06-.94 2.06-2.06.94zm-11 1L8.5 8.5l.94-2.06 2.06-.94-2.06-.94L8.5 2.5l-.94 2.06-2.06.94zm10 10l.94 2.06.94-2.06 2.06-.94-2.06-.94-.94-2.06-.94 2.06-2.06.94z\"/><path d=\"M17.41 7.96l-1.37-1.37c-.4-.4-.92-.59-1.43-.59-.52 0-1.04.2-1.43.59L10.3 9.45l-7.72 7.72c-.78.78-.78 2.05 0 2.83L4 21.41c.39.39.9.59 1.41.59.51 0 1.02-.2 1.41-.59l7.78-7.78 2.81-2.81c.8-.78.8-2.07 0-2.86zM5.41 20L4 18.59l7.72-7.72 1.47 1.35L5.41 20z\"/>\n",
              "  </svg>\n",
              "      </button>\n",
              "      \n",
              "  <style>\n",
              "    .colab-df-container {\n",
              "      display:flex;\n",
              "      flex-wrap:wrap;\n",
              "      gap: 12px;\n",
              "    }\n",
              "\n",
              "    .colab-df-convert {\n",
              "      background-color: #E8F0FE;\n",
              "      border: none;\n",
              "      border-radius: 50%;\n",
              "      cursor: pointer;\n",
              "      display: none;\n",
              "      fill: #1967D2;\n",
              "      height: 32px;\n",
              "      padding: 0 0 0 0;\n",
              "      width: 32px;\n",
              "    }\n",
              "\n",
              "    .colab-df-convert:hover {\n",
              "      background-color: #E2EBFA;\n",
              "      box-shadow: 0px 1px 2px rgba(60, 64, 67, 0.3), 0px 1px 3px 1px rgba(60, 64, 67, 0.15);\n",
              "      fill: #174EA6;\n",
              "    }\n",
              "\n",
              "    [theme=dark] .colab-df-convert {\n",
              "      background-color: #3B4455;\n",
              "      fill: #D2E3FC;\n",
              "    }\n",
              "\n",
              "    [theme=dark] .colab-df-convert:hover {\n",
              "      background-color: #434B5C;\n",
              "      box-shadow: 0px 1px 3px 1px rgba(0, 0, 0, 0.15);\n",
              "      filter: drop-shadow(0px 1px 2px rgba(0, 0, 0, 0.3));\n",
              "      fill: #FFFFFF;\n",
              "    }\n",
              "  </style>\n",
              "\n",
              "      <script>\n",
              "        const buttonEl =\n",
              "          document.querySelector('#df-021e02cc-e06e-4ead-84ea-62206ca96d2e button.colab-df-convert');\n",
              "        buttonEl.style.display =\n",
              "          google.colab.kernel.accessAllowed ? 'block' : 'none';\n",
              "\n",
              "        async function convertToInteractive(key) {\n",
              "          const element = document.querySelector('#df-021e02cc-e06e-4ead-84ea-62206ca96d2e');\n",
              "          const dataTable =\n",
              "            await google.colab.kernel.invokeFunction('convertToInteractive',\n",
              "                                                     [key], {});\n",
              "          if (!dataTable) return;\n",
              "\n",
              "          const docLinkHtml = 'Like what you see? Visit the ' +\n",
              "            '<a target=\"_blank\" href=https://colab.research.google.com/notebooks/data_table.ipynb>data table notebook</a>'\n",
              "            + ' to learn more about interactive tables.';\n",
              "          element.innerHTML = '';\n",
              "          dataTable['output_type'] = 'display_data';\n",
              "          await google.colab.output.renderOutput(dataTable, element);\n",
              "          const docLink = document.createElement('div');\n",
              "          docLink.innerHTML = docLinkHtml;\n",
              "          element.appendChild(docLink);\n",
              "        }\n",
              "      </script>\n",
              "    </div>\n",
              "  </div>\n",
              "  "
            ]
          },
          "metadata": {},
          "execution_count": 158
        }
      ],
      "source": [
        "import pandas as pd\n",
        "train_dataframe= pd.read_csv(\"https://raw.githubusercontent.com/rodrigotorresp/Practica-Regresi-n-ML/main/train.csv\");\n",
        "train_dataframe"
      ]
    },
    {
      "cell_type": "markdown",
      "source": [
        "Uno de los problemas que existen con el tratamiento de estos datos es la existencia en algunas columnas de las medidas, es decir, cuando hablamos de peso el string \"kg\" está presente en todos los valores del dataset, de manera que es imprescindible eliminarlo de primeras"
      ],
      "metadata": {
        "id": "JwaMBmukTUo0"
      }
    },
    {
      "cell_type": "code",
      "source": [
        "train_dataframe['Weight'] = train_dataframe['Weight'].str.replace('kg$', '')\n",
        "\n",
        "train_dataframe['CPU2'] = train_dataframe['Cpu'].str.replace('\\s', '@')\n",
        "cpu = train_dataframe['CPU2'].str.split('[.@]',expand=True)\n",
        "\n",
        "train_dataframe=pd.concat([train_dataframe, cpu], axis=1)\n",
        "\n",
        "##memory = train_dataframe['Memory'].str.split(expand=True)\n",
        "##memory.columns = ['SSD-Memory', 'SSD', '+', 'HDD', 'HDD-Memory']\n",
        "\n",
        "##for i in train_dataframe:\n",
        "##  if train_dataframe[\"Memory\"]=='\\*SSD\\*':\n",
        " ##   train_dataframe['SSD'] = '1'\n",
        "  \n",
        "##train_dataframe['HDD'] = train_dataframe['Memory'].str.replace('.B HDD', '')\n",
        "\n",
        "#No hemos conseguido nada, yujuuuh\n",
        "\n",
        "##train_dataframe['SSD'] = train_dataframe['Memory'].str.replace('^\\*SSD\\*', '1')\n",
        "##train_dataframe['SSD'] = train_dataframe['Memory'].replace({'Memory': r'^\\*SSD\\*.$'}, {'SSD': '1'}, regex=True)\n",
        "##train_dataframe['ScreenResolution'] = train_dataframe['ScreenResolution'].replace(to_replace=r'Full HD', value='', regex=True)\n",
        "##train_dataframe['ScreenResolution'] = train_dataframe['ScreenResolution'].replace(to_replace=r'IPS Panel', value='', regex=True)\n",
        "##train_dataframe['ScreenResolution'] = train_dataframe['ScreenResolution'].replace(to_replace=r'/ Touchscreen', value='', regex=True)\n",
        "##train_dataframe['ScreenResolution'] = train_dataframe['ScreenResolution'].replace(to_replace=r'\\*Touchscreen\\*', value='', regex=True)\n",
        "##train_dataframe['ScreenResolution'] = train_dataframe['ScreenResolution'].replace(to_replace=r'/', value='', regex=True)\n",
        "##train_dataframe['ScreenResolution'] = train_dataframe['ScreenResolution'].replace(to_replace=r'4K Ultra HD', value='', regex=True)\n",
        "##train_dataframe['ScreenResolution'] = train_dataframe['ScreenResolution'].replace(to_replace=r'\\*\"+\"\\*', value='', regex=True)\n",
        "##train_dataframe['ScreenResolution'] = train_dataframe['ScreenResolution'].replace(to_replace=r'Quad HD+', value='', regex=True)\n",
        "##train_dataframe['ScreenResolution'] = train_dataframe['ScreenResolution'].replace(to_replace=r'\\*Retina Display', value='', regex=True)\n",
        "##La idea de esto es eliminar el texto y dejar solo el 1920x1080 o 2560 × 1440 o 4096 × 2160 para luego hacer un original encoder pero no furula\n",
        "##Tenía pensado hacer algo parecido con la cpu pero viendo que no funciona como quiero xd\n",
        "\n",
        "\n",
        "train_dataframe"
      ],
      "metadata": {
        "id": "xfigdjRyST2k",
        "colab": {
          "base_uri": "https://localhost:8080/",
          "height": 1000
        },
        "outputId": "e1dc6cf4-04ee-4898-8527-a4005af0efd2"
      },
      "execution_count": 160,
      "outputs": [
        {
          "output_type": "stream",
          "name": "stderr",
          "text": [
            "/usr/local/lib/python3.7/dist-packages/ipykernel_launcher.py:1: FutureWarning: The default value of regex will change from True to False in a future version.\n",
            "  \"\"\"Entry point for launching an IPython kernel.\n",
            "/usr/local/lib/python3.7/dist-packages/ipykernel_launcher.py:3: FutureWarning: The default value of regex will change from True to False in a future version.\n",
            "  This is separate from the ipykernel package so we can avoid doing imports until\n"
          ]
        },
        {
          "output_type": "execute_result",
          "data": {
            "text/plain": [
              "     LaptopId  Company                            Product            TypeName  \\\n",
              "0         981  Toshiba                  Portege Z30-C-1CV            Notebook   \n",
              "1         996       HP                  Spectre 13-V111dx           Ultrabook   \n",
              "2          77     Dell                      Inspiron 5570            Notebook   \n",
              "3         103       HP                     Envy 13-ad009n           Ultrabook   \n",
              "4         946     Dell                      Latitude 7280           Ultrabook   \n",
              "..        ...      ...                                ...                 ...   \n",
              "907       994     Dell                      Inspiron 5378  2 in 1 Convertible   \n",
              "908       615     Asus  FX753VD-GC007T (i7-7700HQ/8GB/1TB              Gaming   \n",
              "909      1063     Dell                      Inspiron 5567            Notebook   \n",
              "910        96     Dell                      Inspiron 3567            Notebook   \n",
              "911       539   Lenovo                      Thinkpad E470            Notebook   \n",
              "\n",
              "     Inches                           ScreenResolution  \\\n",
              "0      13.3                          Full HD 1920x1080   \n",
              "1      13.3  IPS Panel Full HD / Touchscreen 1920x1080   \n",
              "2      15.6                          Full HD 1920x1080   \n",
              "3      13.3                IPS Panel Full HD 1920x1080   \n",
              "4      12.5            Full HD / Touchscreen 1920x1080   \n",
              "..      ...                                        ...   \n",
              "907    13.3            Full HD / Touchscreen 1920x1080   \n",
              "908    17.3                          Full HD 1920x1080   \n",
              "909    15.6                          Full HD 1920x1080   \n",
              "910    15.6                          Full HD 1920x1080   \n",
              "911    14.0                IPS Panel Full HD 1920x1080   \n",
              "\n",
              "                             Cpu   Ram                Memory  \\\n",
              "0     Intel Core i5 6200U 2.3GHz   4GB             128GB SSD   \n",
              "1     Intel Core i7 7500U 2.7GHz   8GB             256GB SSD   \n",
              "2     Intel Core i7 8550U 1.8GHz   8GB  128GB SSD +  1TB HDD   \n",
              "3     Intel Core i7 7500U 2.7GHz   8GB             256GB SSD   \n",
              "4     Intel Core i5 7200U 2.5GHz   8GB             256GB SSD   \n",
              "..                           ...   ...                   ...   \n",
              "907   Intel Core i5 7200U 2.5GHz   8GB             256GB SSD   \n",
              "908  Intel Core i7 7700HQ 2.8GHz   8GB  128GB SSD +  1TB HDD   \n",
              "909   Intel Core i7 7500U 2.7GHz  16GB               2TB HDD   \n",
              "910   Intel Core i7 7500U 2.7GHz   8GB               1TB HDD   \n",
              "911   Intel Core i7 7500U 2.7GHz   8GB             256GB SSD   \n",
              "\n",
              "                         Gpu  ... Weight    Price  \\\n",
              "0      Intel HD Graphics 520  ...    1.2  1195.00   \n",
              "1      Intel HD Graphics 620  ...   1.11  1349.00   \n",
              "2     Intel UHD Graphics 620  ...   2.02   855.00   \n",
              "3       Nvidia GeForce MX150  ...   1.38  1119.00   \n",
              "4          Intel HD Graphics  ...   1.36  1472.20   \n",
              "..                       ...  ...    ...      ...   \n",
              "907    Intel HD Graphics 620  ...   1.68   889.00   \n",
              "908  Nvidia GeForce GTX 1050  ...      3  1168.00   \n",
              "909       AMD Radeon R7 M445  ...   2.32   989.99   \n",
              "910       AMD Radeon R5 M430  ...    2.2   599.90   \n",
              "911     Nvidia GeForce 940MX  ...   1.87   859.00   \n",
              "\n",
              "                            CPU2      0     1   2       3  4     5     6  \n",
              "0     Intel@Core@i5@6200U@2.3GHz  Intel  Core  i5   6200U  2  3GHz  None  \n",
              "1     Intel@Core@i7@7500U@2.7GHz  Intel  Core  i7   7500U  2  7GHz  None  \n",
              "2     Intel@Core@i7@8550U@1.8GHz  Intel  Core  i7   8550U  1  8GHz  None  \n",
              "3     Intel@Core@i7@7500U@2.7GHz  Intel  Core  i7   7500U  2  7GHz  None  \n",
              "4     Intel@Core@i5@7200U@2.5GHz  Intel  Core  i5   7200U  2  5GHz  None  \n",
              "..                           ...    ...   ...  ..     ... ..   ...   ...  \n",
              "907   Intel@Core@i5@7200U@2.5GHz  Intel  Core  i5   7200U  2  5GHz  None  \n",
              "908  Intel@Core@i7@7700HQ@2.8GHz  Intel  Core  i7  7700HQ  2  8GHz  None  \n",
              "909   Intel@Core@i7@7500U@2.7GHz  Intel  Core  i7   7500U  2  7GHz  None  \n",
              "910   Intel@Core@i7@7500U@2.7GHz  Intel  Core  i7   7500U  2  7GHz  None  \n",
              "911   Intel@Core@i7@7500U@2.7GHz  Intel  Core  i7   7500U  2  7GHz  None  \n",
              "\n",
              "[912 rows x 21 columns]"
            ],
            "text/html": [
              "\n",
              "  <div id=\"df-361b1224-69e6-43e2-bd6b-819bc2476b9f\">\n",
              "    <div class=\"colab-df-container\">\n",
              "      <div>\n",
              "<style scoped>\n",
              "    .dataframe tbody tr th:only-of-type {\n",
              "        vertical-align: middle;\n",
              "    }\n",
              "\n",
              "    .dataframe tbody tr th {\n",
              "        vertical-align: top;\n",
              "    }\n",
              "\n",
              "    .dataframe thead th {\n",
              "        text-align: right;\n",
              "    }\n",
              "</style>\n",
              "<table border=\"1\" class=\"dataframe\">\n",
              "  <thead>\n",
              "    <tr style=\"text-align: right;\">\n",
              "      <th></th>\n",
              "      <th>LaptopId</th>\n",
              "      <th>Company</th>\n",
              "      <th>Product</th>\n",
              "      <th>TypeName</th>\n",
              "      <th>Inches</th>\n",
              "      <th>ScreenResolution</th>\n",
              "      <th>Cpu</th>\n",
              "      <th>Ram</th>\n",
              "      <th>Memory</th>\n",
              "      <th>Gpu</th>\n",
              "      <th>...</th>\n",
              "      <th>Weight</th>\n",
              "      <th>Price</th>\n",
              "      <th>CPU2</th>\n",
              "      <th>0</th>\n",
              "      <th>1</th>\n",
              "      <th>2</th>\n",
              "      <th>3</th>\n",
              "      <th>4</th>\n",
              "      <th>5</th>\n",
              "      <th>6</th>\n",
              "    </tr>\n",
              "  </thead>\n",
              "  <tbody>\n",
              "    <tr>\n",
              "      <th>0</th>\n",
              "      <td>981</td>\n",
              "      <td>Toshiba</td>\n",
              "      <td>Portege Z30-C-1CV</td>\n",
              "      <td>Notebook</td>\n",
              "      <td>13.3</td>\n",
              "      <td>Full HD 1920x1080</td>\n",
              "      <td>Intel Core i5 6200U 2.3GHz</td>\n",
              "      <td>4GB</td>\n",
              "      <td>128GB SSD</td>\n",
              "      <td>Intel HD Graphics 520</td>\n",
              "      <td>...</td>\n",
              "      <td>1.2</td>\n",
              "      <td>1195.00</td>\n",
              "      <td>Intel@Core@i5@6200U@2.3GHz</td>\n",
              "      <td>Intel</td>\n",
              "      <td>Core</td>\n",
              "      <td>i5</td>\n",
              "      <td>6200U</td>\n",
              "      <td>2</td>\n",
              "      <td>3GHz</td>\n",
              "      <td>None</td>\n",
              "    </tr>\n",
              "    <tr>\n",
              "      <th>1</th>\n",
              "      <td>996</td>\n",
              "      <td>HP</td>\n",
              "      <td>Spectre 13-V111dx</td>\n",
              "      <td>Ultrabook</td>\n",
              "      <td>13.3</td>\n",
              "      <td>IPS Panel Full HD / Touchscreen 1920x1080</td>\n",
              "      <td>Intel Core i7 7500U 2.7GHz</td>\n",
              "      <td>8GB</td>\n",
              "      <td>256GB SSD</td>\n",
              "      <td>Intel HD Graphics 620</td>\n",
              "      <td>...</td>\n",
              "      <td>1.11</td>\n",
              "      <td>1349.00</td>\n",
              "      <td>Intel@Core@i7@7500U@2.7GHz</td>\n",
              "      <td>Intel</td>\n",
              "      <td>Core</td>\n",
              "      <td>i7</td>\n",
              "      <td>7500U</td>\n",
              "      <td>2</td>\n",
              "      <td>7GHz</td>\n",
              "      <td>None</td>\n",
              "    </tr>\n",
              "    <tr>\n",
              "      <th>2</th>\n",
              "      <td>77</td>\n",
              "      <td>Dell</td>\n",
              "      <td>Inspiron 5570</td>\n",
              "      <td>Notebook</td>\n",
              "      <td>15.6</td>\n",
              "      <td>Full HD 1920x1080</td>\n",
              "      <td>Intel Core i7 8550U 1.8GHz</td>\n",
              "      <td>8GB</td>\n",
              "      <td>128GB SSD +  1TB HDD</td>\n",
              "      <td>Intel UHD Graphics 620</td>\n",
              "      <td>...</td>\n",
              "      <td>2.02</td>\n",
              "      <td>855.00</td>\n",
              "      <td>Intel@Core@i7@8550U@1.8GHz</td>\n",
              "      <td>Intel</td>\n",
              "      <td>Core</td>\n",
              "      <td>i7</td>\n",
              "      <td>8550U</td>\n",
              "      <td>1</td>\n",
              "      <td>8GHz</td>\n",
              "      <td>None</td>\n",
              "    </tr>\n",
              "    <tr>\n",
              "      <th>3</th>\n",
              "      <td>103</td>\n",
              "      <td>HP</td>\n",
              "      <td>Envy 13-ad009n</td>\n",
              "      <td>Ultrabook</td>\n",
              "      <td>13.3</td>\n",
              "      <td>IPS Panel Full HD 1920x1080</td>\n",
              "      <td>Intel Core i7 7500U 2.7GHz</td>\n",
              "      <td>8GB</td>\n",
              "      <td>256GB SSD</td>\n",
              "      <td>Nvidia GeForce MX150</td>\n",
              "      <td>...</td>\n",
              "      <td>1.38</td>\n",
              "      <td>1119.00</td>\n",
              "      <td>Intel@Core@i7@7500U@2.7GHz</td>\n",
              "      <td>Intel</td>\n",
              "      <td>Core</td>\n",
              "      <td>i7</td>\n",
              "      <td>7500U</td>\n",
              "      <td>2</td>\n",
              "      <td>7GHz</td>\n",
              "      <td>None</td>\n",
              "    </tr>\n",
              "    <tr>\n",
              "      <th>4</th>\n",
              "      <td>946</td>\n",
              "      <td>Dell</td>\n",
              "      <td>Latitude 7280</td>\n",
              "      <td>Ultrabook</td>\n",
              "      <td>12.5</td>\n",
              "      <td>Full HD / Touchscreen 1920x1080</td>\n",
              "      <td>Intel Core i5 7200U 2.5GHz</td>\n",
              "      <td>8GB</td>\n",
              "      <td>256GB SSD</td>\n",
              "      <td>Intel HD Graphics</td>\n",
              "      <td>...</td>\n",
              "      <td>1.36</td>\n",
              "      <td>1472.20</td>\n",
              "      <td>Intel@Core@i5@7200U@2.5GHz</td>\n",
              "      <td>Intel</td>\n",
              "      <td>Core</td>\n",
              "      <td>i5</td>\n",
              "      <td>7200U</td>\n",
              "      <td>2</td>\n",
              "      <td>5GHz</td>\n",
              "      <td>None</td>\n",
              "    </tr>\n",
              "    <tr>\n",
              "      <th>...</th>\n",
              "      <td>...</td>\n",
              "      <td>...</td>\n",
              "      <td>...</td>\n",
              "      <td>...</td>\n",
              "      <td>...</td>\n",
              "      <td>...</td>\n",
              "      <td>...</td>\n",
              "      <td>...</td>\n",
              "      <td>...</td>\n",
              "      <td>...</td>\n",
              "      <td>...</td>\n",
              "      <td>...</td>\n",
              "      <td>...</td>\n",
              "      <td>...</td>\n",
              "      <td>...</td>\n",
              "      <td>...</td>\n",
              "      <td>...</td>\n",
              "      <td>...</td>\n",
              "      <td>...</td>\n",
              "      <td>...</td>\n",
              "      <td>...</td>\n",
              "    </tr>\n",
              "    <tr>\n",
              "      <th>907</th>\n",
              "      <td>994</td>\n",
              "      <td>Dell</td>\n",
              "      <td>Inspiron 5378</td>\n",
              "      <td>2 in 1 Convertible</td>\n",
              "      <td>13.3</td>\n",
              "      <td>Full HD / Touchscreen 1920x1080</td>\n",
              "      <td>Intel Core i5 7200U 2.5GHz</td>\n",
              "      <td>8GB</td>\n",
              "      <td>256GB SSD</td>\n",
              "      <td>Intel HD Graphics 620</td>\n",
              "      <td>...</td>\n",
              "      <td>1.68</td>\n",
              "      <td>889.00</td>\n",
              "      <td>Intel@Core@i5@7200U@2.5GHz</td>\n",
              "      <td>Intel</td>\n",
              "      <td>Core</td>\n",
              "      <td>i5</td>\n",
              "      <td>7200U</td>\n",
              "      <td>2</td>\n",
              "      <td>5GHz</td>\n",
              "      <td>None</td>\n",
              "    </tr>\n",
              "    <tr>\n",
              "      <th>908</th>\n",
              "      <td>615</td>\n",
              "      <td>Asus</td>\n",
              "      <td>FX753VD-GC007T (i7-7700HQ/8GB/1TB</td>\n",
              "      <td>Gaming</td>\n",
              "      <td>17.3</td>\n",
              "      <td>Full HD 1920x1080</td>\n",
              "      <td>Intel Core i7 7700HQ 2.8GHz</td>\n",
              "      <td>8GB</td>\n",
              "      <td>128GB SSD +  1TB HDD</td>\n",
              "      <td>Nvidia GeForce GTX 1050</td>\n",
              "      <td>...</td>\n",
              "      <td>3</td>\n",
              "      <td>1168.00</td>\n",
              "      <td>Intel@Core@i7@7700HQ@2.8GHz</td>\n",
              "      <td>Intel</td>\n",
              "      <td>Core</td>\n",
              "      <td>i7</td>\n",
              "      <td>7700HQ</td>\n",
              "      <td>2</td>\n",
              "      <td>8GHz</td>\n",
              "      <td>None</td>\n",
              "    </tr>\n",
              "    <tr>\n",
              "      <th>909</th>\n",
              "      <td>1063</td>\n",
              "      <td>Dell</td>\n",
              "      <td>Inspiron 5567</td>\n",
              "      <td>Notebook</td>\n",
              "      <td>15.6</td>\n",
              "      <td>Full HD 1920x1080</td>\n",
              "      <td>Intel Core i7 7500U 2.7GHz</td>\n",
              "      <td>16GB</td>\n",
              "      <td>2TB HDD</td>\n",
              "      <td>AMD Radeon R7 M445</td>\n",
              "      <td>...</td>\n",
              "      <td>2.32</td>\n",
              "      <td>989.99</td>\n",
              "      <td>Intel@Core@i7@7500U@2.7GHz</td>\n",
              "      <td>Intel</td>\n",
              "      <td>Core</td>\n",
              "      <td>i7</td>\n",
              "      <td>7500U</td>\n",
              "      <td>2</td>\n",
              "      <td>7GHz</td>\n",
              "      <td>None</td>\n",
              "    </tr>\n",
              "    <tr>\n",
              "      <th>910</th>\n",
              "      <td>96</td>\n",
              "      <td>Dell</td>\n",
              "      <td>Inspiron 3567</td>\n",
              "      <td>Notebook</td>\n",
              "      <td>15.6</td>\n",
              "      <td>Full HD 1920x1080</td>\n",
              "      <td>Intel Core i7 7500U 2.7GHz</td>\n",
              "      <td>8GB</td>\n",
              "      <td>1TB HDD</td>\n",
              "      <td>AMD Radeon R5 M430</td>\n",
              "      <td>...</td>\n",
              "      <td>2.2</td>\n",
              "      <td>599.90</td>\n",
              "      <td>Intel@Core@i7@7500U@2.7GHz</td>\n",
              "      <td>Intel</td>\n",
              "      <td>Core</td>\n",
              "      <td>i7</td>\n",
              "      <td>7500U</td>\n",
              "      <td>2</td>\n",
              "      <td>7GHz</td>\n",
              "      <td>None</td>\n",
              "    </tr>\n",
              "    <tr>\n",
              "      <th>911</th>\n",
              "      <td>539</td>\n",
              "      <td>Lenovo</td>\n",
              "      <td>Thinkpad E470</td>\n",
              "      <td>Notebook</td>\n",
              "      <td>14.0</td>\n",
              "      <td>IPS Panel Full HD 1920x1080</td>\n",
              "      <td>Intel Core i7 7500U 2.7GHz</td>\n",
              "      <td>8GB</td>\n",
              "      <td>256GB SSD</td>\n",
              "      <td>Nvidia GeForce 940MX</td>\n",
              "      <td>...</td>\n",
              "      <td>1.87</td>\n",
              "      <td>859.00</td>\n",
              "      <td>Intel@Core@i7@7500U@2.7GHz</td>\n",
              "      <td>Intel</td>\n",
              "      <td>Core</td>\n",
              "      <td>i7</td>\n",
              "      <td>7500U</td>\n",
              "      <td>2</td>\n",
              "      <td>7GHz</td>\n",
              "      <td>None</td>\n",
              "    </tr>\n",
              "  </tbody>\n",
              "</table>\n",
              "<p>912 rows × 21 columns</p>\n",
              "</div>\n",
              "      <button class=\"colab-df-convert\" onclick=\"convertToInteractive('df-361b1224-69e6-43e2-bd6b-819bc2476b9f')\"\n",
              "              title=\"Convert this dataframe to an interactive table.\"\n",
              "              style=\"display:none;\">\n",
              "        \n",
              "  <svg xmlns=\"http://www.w3.org/2000/svg\" height=\"24px\"viewBox=\"0 0 24 24\"\n",
              "       width=\"24px\">\n",
              "    <path d=\"M0 0h24v24H0V0z\" fill=\"none\"/>\n",
              "    <path d=\"M18.56 5.44l.94 2.06.94-2.06 2.06-.94-2.06-.94-.94-2.06-.94 2.06-2.06.94zm-11 1L8.5 8.5l.94-2.06 2.06-.94-2.06-.94L8.5 2.5l-.94 2.06-2.06.94zm10 10l.94 2.06.94-2.06 2.06-.94-2.06-.94-.94-2.06-.94 2.06-2.06.94z\"/><path d=\"M17.41 7.96l-1.37-1.37c-.4-.4-.92-.59-1.43-.59-.52 0-1.04.2-1.43.59L10.3 9.45l-7.72 7.72c-.78.78-.78 2.05 0 2.83L4 21.41c.39.39.9.59 1.41.59.51 0 1.02-.2 1.41-.59l7.78-7.78 2.81-2.81c.8-.78.8-2.07 0-2.86zM5.41 20L4 18.59l7.72-7.72 1.47 1.35L5.41 20z\"/>\n",
              "  </svg>\n",
              "      </button>\n",
              "      \n",
              "  <style>\n",
              "    .colab-df-container {\n",
              "      display:flex;\n",
              "      flex-wrap:wrap;\n",
              "      gap: 12px;\n",
              "    }\n",
              "\n",
              "    .colab-df-convert {\n",
              "      background-color: #E8F0FE;\n",
              "      border: none;\n",
              "      border-radius: 50%;\n",
              "      cursor: pointer;\n",
              "      display: none;\n",
              "      fill: #1967D2;\n",
              "      height: 32px;\n",
              "      padding: 0 0 0 0;\n",
              "      width: 32px;\n",
              "    }\n",
              "\n",
              "    .colab-df-convert:hover {\n",
              "      background-color: #E2EBFA;\n",
              "      box-shadow: 0px 1px 2px rgba(60, 64, 67, 0.3), 0px 1px 3px 1px rgba(60, 64, 67, 0.15);\n",
              "      fill: #174EA6;\n",
              "    }\n",
              "\n",
              "    [theme=dark] .colab-df-convert {\n",
              "      background-color: #3B4455;\n",
              "      fill: #D2E3FC;\n",
              "    }\n",
              "\n",
              "    [theme=dark] .colab-df-convert:hover {\n",
              "      background-color: #434B5C;\n",
              "      box-shadow: 0px 1px 3px 1px rgba(0, 0, 0, 0.15);\n",
              "      filter: drop-shadow(0px 1px 2px rgba(0, 0, 0, 0.3));\n",
              "      fill: #FFFFFF;\n",
              "    }\n",
              "  </style>\n",
              "\n",
              "      <script>\n",
              "        const buttonEl =\n",
              "          document.querySelector('#df-361b1224-69e6-43e2-bd6b-819bc2476b9f button.colab-df-convert');\n",
              "        buttonEl.style.display =\n",
              "          google.colab.kernel.accessAllowed ? 'block' : 'none';\n",
              "\n",
              "        async function convertToInteractive(key) {\n",
              "          const element = document.querySelector('#df-361b1224-69e6-43e2-bd6b-819bc2476b9f');\n",
              "          const dataTable =\n",
              "            await google.colab.kernel.invokeFunction('convertToInteractive',\n",
              "                                                     [key], {});\n",
              "          if (!dataTable) return;\n",
              "\n",
              "          const docLinkHtml = 'Like what you see? Visit the ' +\n",
              "            '<a target=\"_blank\" href=https://colab.research.google.com/notebooks/data_table.ipynb>data table notebook</a>'\n",
              "            + ' to learn more about interactive tables.';\n",
              "          element.innerHTML = '';\n",
              "          dataTable['output_type'] = 'display_data';\n",
              "          await google.colab.output.renderOutput(dataTable, element);\n",
              "          const docLink = document.createElement('div');\n",
              "          docLink.innerHTML = docLinkHtml;\n",
              "          element.appendChild(docLink);\n",
              "        }\n",
              "      </script>\n",
              "    </div>\n",
              "  </div>\n",
              "  "
            ]
          },
          "metadata": {},
          "execution_count": 160
        }
      ]
    },
    {
      "cell_type": "markdown",
      "source": [],
      "metadata": {
        "id": "IyYElSGHMzMw"
      }
    },
    {
      "cell_type": "code",
      "source": [
        "import sklearn.compose\n",
        "colum_transformer = sklearn.compose.ColumnTransformer(transformers=[\n",
        "    (\"Laptop Id\" , \"drop\", [0]),\n",
        "    (\"Company\" , \"drop\", [1]),\n",
        "    (\"Product\" , \"drop\", [2]),\n",
        "    (\"TypeName\" , sklearn.preprocessing.OrdinalEncoder(categories=[['Netbook', 'Notebook', 'Ultrabook','Gaming','2 in 1 Convertible','Workstation']]), [3]),\n",
        "    (\"Inches\" , \"passthrough\", [4]),\n",
        "    (\"ScreenResolution\" , \"drop\", [5]),\n",
        "    (\"CPU\" , \"drop\", [6]),\n",
        "    (\"RAM\" , sklearn.preprocessing.OrdinalEncoder(categories=[['2GB','4GB', '6GB','8GB','12GB', '16GB', '24GB', '32GB', '64GB']]), [7]),\n",
        "    (\"Memory\" , \"drop\", [8]),\n",
        "    (\"GPU\" , \"drop\", [9]),\n",
        "    (\"OPSYS\" , \"drop\", [10]),\n",
        "    (\"Weight\" , \"passthrough\", [11]),\n",
        "    (\"Price\" , \"drop\", [12])\n",
        "    ]);\n"
      ],
      "metadata": {
        "id": "y7t1ESqprgfQ"
      },
      "execution_count": 107,
      "outputs": []
    },
    {
      "cell_type": "code",
      "source": [
        "train_dataframe_transform = colum_transformer.fit_transform(train_dataframe)\n",
        "train_dataframe_transform"
      ],
      "metadata": {
        "id": "WkyFQigsL1co",
        "colab": {
          "base_uri": "https://localhost:8080/"
        },
        "outputId": "712633fa-8575-45ef-fc9e-3cb2eb55136f"
      },
      "execution_count": 108,
      "outputs": [
        {
          "output_type": "execute_result",
          "data": {
            "text/plain": [
              "array([[1.0, 13.3, 1.0, '1.2'],\n",
              "       [2.0, 13.3, 3.0, '1.11'],\n",
              "       [1.0, 15.6, 3.0, '2.02'],\n",
              "       ...,\n",
              "       [1.0, 15.6, 5.0, '2.32'],\n",
              "       [1.0, 15.6, 3.0, '2.2'],\n",
              "       [1.0, 14.0, 3.0, '1.87']], dtype=object)"
            ]
          },
          "metadata": {},
          "execution_count": 108
        }
      ]
    },
    {
      "cell_type": "code",
      "source": [
        "import sklearn.compose\n",
        "colum_transformer_Scaler = sklearn.compose.ColumnTransformer(transformers=[\n",
        "    (\"TypeNameScaler\" , sklearn.preprocessing.StandardScaler(), [0]),\n",
        "    (\"InchesScaler\" , sklearn.preprocessing.StandardScaler(), [1]),\n",
        "    (\"RAMScaler\" , sklearn.preprocessing.StandardScaler(), [2]),\n",
        "    (\"WeightScaler\" , sklearn.preprocessing.StandardScaler(), [3]),\n",
        "    ]);\n",
        "\n",
        "train_dataframe_transform2 = colum_transformer_Scaler.fit_transform(train_dataframe_transform)\n",
        "train_dataframe_transform2"
      ],
      "metadata": {
        "colab": {
          "base_uri": "https://localhost:8080/"
        },
        "id": "poV-afdilh1H",
        "outputId": "1686954d-0ea3-457d-a51f-8d5d16b23848"
      },
      "execution_count": 109,
      "outputs": [
        {
          "output_type": "execute_result",
          "data": {
            "text/plain": [
              "array([[-0.71119323, -1.20960244, -1.19779584, -1.26029362],\n",
              "       [ 0.15131771, -1.20960244,  0.17455316, -1.39490179],\n",
              "       [-0.71119323,  0.40762114,  0.17455316, -0.0338636 ],\n",
              "       ...,\n",
              "       [-0.71119323,  0.40762114,  1.54690217,  0.41483031],\n",
              "       [-0.71119323,  0.40762114,  0.17455316,  0.23535275],\n",
              "       [-0.71119323, -0.71740396,  0.17455316, -0.25821055]])"
            ]
          },
          "metadata": {},
          "execution_count": 109
        }
      ]
    },
    {
      "cell_type": "code",
      "source": [
        "import matplotlib.pyplot as plt\n",
        "from sklearn.linear_model import LinearRegression\n",
        "\n",
        "X = train_dataframe_transform2.data\n",
        "y = train_dataframe.Price\n",
        "\n",
        "X_train = train_dataframe_transform2.data\n",
        "y_train = train_dataframe.Price\n",
        "\n",
        "reg = LinearRegression().fit(X, y)\n",
        "reg.intercept_"
      ],
      "metadata": {
        "id": "xGXTiwo7MzAb",
        "colab": {
          "base_uri": "https://localhost:8080/"
        },
        "outputId": "34f76e02-1ef7-4a1b-ad4d-3663644a3c46"
      },
      "execution_count": 110,
      "outputs": [
        {
          "output_type": "execute_result",
          "data": {
            "text/plain": [
              "1130.0370065789473"
            ]
          },
          "metadata": {},
          "execution_count": 110
        }
      ]
    },
    {
      "cell_type": "code",
      "source": [
        "reg.coef_"
      ],
      "metadata": {
        "id": "2gmCaJC3M1aR",
        "colab": {
          "base_uri": "https://localhost:8080/"
        },
        "outputId": "54e72722-2b72-4625-ca8c-e04437bb8850"
      },
      "execution_count": 111,
      "outputs": [
        {
          "output_type": "execute_result",
          "data": {
            "text/plain": [
              "array([ 137.99817253, -112.7886391 ,  469.78945636,   70.16336525])"
            ]
          },
          "metadata": {},
          "execution_count": 111
        }
      ]
    },
    {
      "cell_type": "code",
      "source": [
        "from sklearn.datasets import make_regression\n",
        "import matplotlib.pyplot as plt\n",
        "import numpy as np\n",
        "\n",
        "X, y = make_regression(n_samples=912, n_features=4, n_informative=11, n_targets=1)\n",
        "\n",
        "n_samples=912\n",
        "\n",
        "plt.figure()\n",
        "\n",
        "min_x = np.min(X)\n",
        "max_x = np.max(X)\n",
        "diff_x = max_x - min_x\n",
        "\n",
        "min_y = np.min(y)\n",
        "max_y = np.max(y)\n",
        "diff_y = max_y - min_y\n",
        "\n",
        "plt.xlim(min_x - 0.1 * diff_x, max_x + 0.1 * diff_x)\n",
        "plt.ylim(min_y - 0.1 * diff_y, max_y + 0.1 * diff_y)\n",
        "\n",
        "plt.xlabel('x')\n",
        "plt.ylabel('y')\n",
        "\n",
        "plt.scatter(X[:,0], y)"
      ],
      "metadata": {
        "id": "m53cKguEM1dX",
        "colab": {
          "base_uri": "https://localhost:8080/",
          "height": 296
        },
        "outputId": "525b06ee-e288-45cc-d4b8-60c16262349a"
      },
      "execution_count": 139,
      "outputs": [
        {
          "output_type": "execute_result",
          "data": {
            "text/plain": [
              "<matplotlib.collections.PathCollection at 0x7f3f6ea0b890>"
            ]
          },
          "metadata": {},
          "execution_count": 139
        },
        {
          "output_type": "display_data",
          "data": {
            "text/plain": [
              "<Figure size 432x288 with 1 Axes>"
            ],
            "image/png": "[encoded data removed]"
          },
          "metadata": {
            "needs_background": "light"
          }
        }
      ]
    },
    {
      "cell_type": "code",
      "source": [
        "n,m = X.shape\n",
        "x0 = np.ones((n,1))\n",
        "stack = np.hstack((x0, X))\n",
        "\n",
        "# beta = ((X^t * X)^-1 * X^t) * y\n",
        "beta = np.dot(np.dot(np.linalg.inv(np.dot(np.transpose(stack), stack)), np.transpose(stack)), y)\n",
        "beta"
      ],
      "metadata": {
        "id": "QlJowQHOM7eN",
        "colab": {
          "base_uri": "https://localhost:8080/"
        },
        "outputId": "51374cea-63f0-455a-b2a7-6db75d3913e9"
      },
      "execution_count": 113,
      "outputs": [
        {
          "output_type": "execute_result",
          "data": {
            "text/plain": [
              "array([1.77635684e-15, 2.61586150e+01, 7.60975229e+01, 4.11093485e+01,\n",
              "       1.29756414e+01])"
            ]
          },
          "metadata": {},
          "execution_count": 113
        }
      ]
    },
    {
      "cell_type": "code",
      "source": [
        "plt.figure()\n",
        "\n",
        "min_x = np.min(X)\n",
        "max_x = np.max(X)\n",
        "diff_x = max_x - min_x\n",
        "\n",
        "min_y = np.min(y)\n",
        "max_y = np.max(y)\n",
        "diff_y = max_y - min_y\n",
        "\n",
        "plt.xlim(min_x - 0.1 * diff_x, max_x + 0.1 * diff_x)\n",
        "plt.ylim(min_y - 0.1 * diff_y, max_y + 0.1 * diff_y)\n",
        "\n",
        "plt.xlabel('x1')\n",
        "plt.ylabel('y')\n",
        "\n",
        "plt.scatter(X[:,0], y, zorder=10)\n",
        "\n",
        "line = np.linspace(min_x - 0.1 * diff_x, max_x + 0.1 * diff_x)\n",
        "plt.plot(line, beta[0] + beta[1] * line, c='red')\n"
      ],
      "metadata": {
        "id": "cGiSkDvhM7gh",
        "colab": {
          "base_uri": "https://localhost:8080/",
          "height": 296
        },
        "outputId": "96effc64-2ab9-4fb4-d7a0-d481540a9535"
      },
      "execution_count": 114,
      "outputs": [
        {
          "output_type": "execute_result",
          "data": {
            "text/plain": [
              "[<matplotlib.lines.Line2D at 0x7f3f6c724d10>]"
            ]
          },
          "metadata": {},
          "execution_count": 114
        },
        {
          "output_type": "display_data",
          "data": {
            "text/plain": [
              "<Figure size 432x288 with 1 Axes>"
            ],
            "image/png": "[encoded data removed]"
          },
          "metadata": {
            "needs_background": "light"
          }
        }
      ]
    },
    {
      "cell_type": "code",
      "source": [
        "from sklearn.model_selection import train_test_split\n",
        "from sklearn.linear_model import Ridge\n",
        "from sklearn.metrics import mean_absolute_error, mean_squared_error\n",
        "\n",
        "ridge1 = Ridge(alpha=1.0).fit(X_train, y_train)\n",
        "y_pred = ridge1.predict(X_train)\n",
        "print(\"MAE: \", mean_absolute_error(y_train, y_pred))\n",
        "print(\"MSE: \", mean_squared_error(y_train, y_pred))\n",
        "print(\"R2: \", ridge1.score(X_train, y_train))\n",
        "\n",
        "ridge5 = Ridge(alpha=5.0).fit(X_train, y_train)\n",
        "y_pred = ridge5.predict(X_train)\n",
        "print(\"MAE: \", mean_absolute_error(y_train, y_pred))\n",
        "print(\"MSE: \", mean_squared_error(y_train, y_pred))\n",
        "print(\"R2: \", ridge5.score(X_train, y_train))\n",
        "\n",
        "ridge10 = Ridge(alpha=10.0).fit(X_train, y_train)\n",
        "y_pred = ridge10.predict(X_train)\n",
        "print(\"MAE: \", mean_absolute_error(y_train, y_pred))\n",
        "print(\"MSE: \", mean_squared_error(y_train, y_pred))\n",
        "print(\"R2: \", ridge10.score(X_train, y_train))\n",
        "\n",
        "ridge15 = Ridge(alpha=15.0).fit(X_train, y_train)\n",
        "y_pred = ridge15.predict(X_train)\n",
        "print(\"MAE: \", mean_absolute_error(y_train, y_pred))\n",
        "print(\"MSE: \", mean_squared_error(y_train, y_pred))\n",
        "print(\"R2: \", ridge15.score(X_train, y_train))\n",
        "\n"
      ],
      "metadata": {
        "id": "I2i2tsLtNADt",
        "colab": {
          "base_uri": "https://localhost:8080/"
        },
        "outputId": "c9f39711-8cca-4cc5-a2be-b1dc7a195509"
      },
      "execution_count": 126,
      "outputs": [
        {
          "output_type": "stream",
          "name": "stdout",
          "text": [
            "MAE:  318.4249824608736\n",
            "MSE:  197734.75152697822\n",
            "R2:  0.60223112290746\n",
            "MAE:  318.2754888691685\n",
            "MSE:  197743.64066781697\n",
            "R2:  0.6022132412577124\n",
            "MAE:  318.11854641286124\n",
            "MSE:  197770.58040487336\n",
            "R2:  0.6021590485127581\n",
            "MAE:  318.0153079756253\n",
            "MSE:  197814.0183552046\n",
            "R2:  0.6020716674904895\n"
          ]
        }
      ]
    },
    {
      "cell_type": "markdown",
      "source": [
        "train split probar mae con x_train y_train y con x_test y_test para ver si hay overfitting, el mae de train sera menor que el mae de test, si hay muchos ordenes de magnitud de diferencia puede haber overfitting, si la diferencia el de decenas o centenas no sabemos nada. \n",
        "\n",
        "Validación cruzada cv=5 => 5 maes de train y 5 maes de test. Si los errores son muy diferentes entre ellos puede haber\n",
        "\n",
        "Error cercano a 0 en train te puede estar diciendo que hay overfitting\n",
        "\n"
      ],
      "metadata": {
        "id": "0omeA4aA0oka"
      }
    },
    {
      "cell_type": "markdown",
      "source": [
        "Terminamos el entrenamiento del modelo y hacemos el pipeline para subir la submission"
      ],
      "metadata": {
        "id": "c7i1SQVdnE71"
      }
    },
    {
      "cell_type": "code",
      "source": [
        "test_dataframe= pd.read_csv(\"https://raw.githubusercontent.com/rodrigotorresp/Practica-Regresi-n-ML/main/test.csv\");\n",
        "test_dataframe;\n",
        "test_dataframe['Weight'] = test_dataframe['Weight'].str.replace('kg$', '');\n",
        "colum_transformer = sklearn.compose.ColumnTransformer(transformers=[\n",
        "    (\"Laptop Id\" , \"drop\", [0]),\n",
        "    (\"Company\" , \"drop\", [1]),\n",
        "    (\"Product\" , \"drop\", [2]),\n",
        "    (\"TypeName\" , sklearn.preprocessing.OrdinalEncoder(categories=[['Netbook', 'Notebook', 'Ultrabook','Gaming','2 in 1 Convertible','Workstation']]), [3]),\n",
        "    (\"Inches\" , \"passthrough\", [4]),\n",
        "    (\"ScreenResolution\" , \"drop\", [5]),\n",
        "    (\"CPU\" , \"drop\", [6]),\n",
        "    (\"RAM\" , sklearn.preprocessing.OrdinalEncoder(categories=[['2GB','4GB', '6GB','8GB','12GB', '16GB', '24GB', '32GB', '64GB' ]]), [7]),\n",
        "    (\"Memory\" , \"drop\", [8]),\n",
        "    (\"GPU\" , \"drop\", [9]),\n",
        "    (\"OPSYS\" , \"drop\", [10]),\n",
        "    (\"Weight\" , \"passthrough\", [11]),\n",
        "    ]);\n",
        "test_dataframe_transform = colum_transformer.fit_transform(test_dataframe);\n",
        "colum_transformer_Scaler = sklearn.compose.ColumnTransformer(transformers=[\n",
        "    (\"TypeNameScaler\" , sklearn.preprocessing.StandardScaler(), [0]),\n",
        "    (\"InchesScaler\" , sklearn.preprocessing.StandardScaler(), [1]),\n",
        "    (\"RAMScaler\" , sklearn.preprocessing.StandardScaler(), [2]),\n",
        "    (\"WeightScaler\" , sklearn.preprocessing.StandardScaler(), [3]),\n",
        "    ]);\n",
        "\n",
        "test_dataframe_transform = colum_transformer_Scaler.fit_transform(test_dataframe_transform);\n",
        "\n",
        "y_test = Bayes.predict(test_dataframe_transform);\n",
        "\n",
        "compression_opts = dict(method='zip',\n",
        "                        archive_name='Submission.csv')\n",
        "\n",
        "submissionDataFrame = pd.DataFrame({\"LaptopId\": test_dataframe.LaptopId, \"price\": y_test});\n",
        "submissionDataFrame.to_csv(\"Submission.zip\", index=False, compression=compression_opts);\n"
      ],
      "metadata": {
        "id": "JpSKzZ8bGy-X",
        "colab": {
          "base_uri": "https://localhost:8080/"
        },
        "outputId": "98f546bd-9304-4179-9955-08c525240a2b"
      },
      "execution_count": 142,
      "outputs": [
        {
          "output_type": "stream",
          "name": "stderr",
          "text": [
            "/usr/local/lib/python3.7/dist-packages/ipykernel_launcher.py:3: FutureWarning: The default value of regex will change from True to False in a future version.\n",
            "  This is separate from the ipykernel package so we can avoid doing imports until\n"
          ]
        }
      ]
    },
    {
      "cell_type": "markdown",
      "source": [
        "Hicimos submission de las regresiones lineales con diferentes hiper-parámetros alpha quedandonos con un error de 1091.80529 en el mejor de los casos con alpha = 1.0. Por ello desechamos este modelo"
      ],
      "metadata": {
        "id": "8VrQmvzr_tQd"
      }
    },
    {
      "cell_type": "markdown",
      "source": [
        "Intentamos otros modelos"
      ],
      "metadata": {
        "id": "hQco2EFgnNQt"
      }
    },
    {
      "cell_type": "markdown",
      "source": [],
      "metadata": {
        "id": "LeJnkDLk9iBn"
      }
    },
    {
      "cell_type": "code",
      "source": [
        "##Lasso\n",
        "from sklearn.linear_model import Lasso\n",
        "\n",
        "# configuración del gráfico\n",
        "plt.figure()\n",
        "\n",
        "n_samples=912\n",
        "\n",
        "min_x = np.min(X)\n",
        "max_x = np.max(X)\n",
        "diff_x = max_x - min_x\n",
        "\n",
        "min_y = np.min(y)\n",
        "max_y = np.max(y)\n",
        "diff_y = max_y - min_y\n",
        "\n",
        "plt.xlim(min_x - 0.1 * diff_x, max_x + 0.1 * diff_x)\n",
        "plt.ylim(min_y - 0.1 * diff_y, max_y + 0.1 * diff_y)\n",
        "\n",
        "plt.xlabel('x')\n",
        "plt.ylabel('y')\n",
        "\n",
        "# muestras\n",
        "plt.scatter(X[:n_samples,0], y[:n_samples], zorder=10)\n",
        "plt.scatter(X[n_samples:,0], y[n_samples:], zorder=10)\n",
        "\n",
        "# regresion sin outlayers\n",
        "reg = LinearRegression().fit(X[:n_samples,:], y[:n_samples])\n",
        "line = np.linspace(min_x - 0.1 * diff_x, max_x + 0.1 * diff_x)\n",
        "plt.plot(line, reg.intercept_ + reg.coef_[0] * line, label=\"sin outlayer\")\n",
        "\n",
        "# regresion con outlayers\n",
        "for alpha in np.arange(0,10,2.5):\n",
        "    lasso = Lasso(alpha=alpha).fit(X, y)\n",
        "    line = np.linspace(min_x - 0.1 * diff_x, max_x + 0.1 * diff_x)\n",
        "    plt.plot(line, lasso.intercept_ + lasso.coef_[0] * line, label=\"lasso alfa=\" + str(alpha))\n",
        "\n",
        "# mostrar el gráfico\n",
        "plt.legend()\n",
        "plt.show()"
      ],
      "metadata": {
        "colab": {
          "base_uri": "https://localhost:8080/",
          "height": 351
        },
        "id": "wT0SqzeA9f_H",
        "outputId": "e566a839-3925-4655-e1c8-7357a022be4c"
      },
      "execution_count": 117,
      "outputs": [
        {
          "output_type": "stream",
          "name": "stderr",
          "text": [
            "/usr/local/lib/python3.7/dist-packages/ipykernel_launcher.py:34: UserWarning: With alpha=0, this algorithm does not converge well. You are advised to use the LinearRegression estimator\n",
            "/usr/local/lib/python3.7/dist-packages/sklearn/linear_model/_coordinate_descent.py:648: UserWarning: Coordinate descent with no regularization may lead to unexpected results and is discouraged.\n",
            "  coef_, l1_reg, l2_reg, X, y, max_iter, tol, rng, random, positive\n"
          ]
        },
        {
          "output_type": "display_data",
          "data": {
            "text/plain": [
              "<Figure size 432x288 with 1 Axes>"
            ],
            "image/png": "[encoded data removed]"
          },
          "metadata": {
            "needs_background": "light"
          }
        }
      ]
    },
    {
      "cell_type": "code",
      "source": [
        "lasso = Lasso(alpha=0).fit(X_train,y_train)\n",
        "y_pred = lasso.predict(X_train)\n",
        "print(\"MAE: \", mean_absolute_error(y_train, y_pred))\n",
        "print(\"MSE: \", mean_squared_error(y_train, y_pred))\n",
        "print(\"R2: \", lasso.score(X_train, y_train))\n",
        "\n",
        "lasso2 = Lasso(alpha=2.5).fit(X_train,y_train)\n",
        "y_pred = lasso.predict(X_train)\n",
        "print(\"MAE: \", mean_absolute_error(y_train, y_pred))\n",
        "print(\"MSE: \", mean_squared_error(y_train, y_pred))\n",
        "print(\"R2: \", lasso2.score(X_train, y_train))\n",
        "\n",
        "lasso5 = Lasso(alpha=5.0).fit(X_train,y_train)\n",
        "y_pred = lasso.predict(X_train)\n",
        "print(\"MAE: \", mean_absolute_error(y_train, y_pred))\n",
        "print(\"MSE: \", mean_squared_error(y_train, y_pred))\n",
        "print(\"R2: \", lasso5.score(X_train, y_train))\n",
        "\n",
        "lasso7 = Lasso(alpha=7.5).fit(X_train,y_train)\n",
        "y_pred = lasso.predict(X_train)\n",
        "print(\"MAE: \", mean_absolute_error(y_train, y_pred))\n",
        "print(\"MSE: \", mean_squared_error(y_train, y_pred))\n",
        "print(\"R2: \", lasso7.score(X_train, y_train))"
      ],
      "metadata": {
        "colab": {
          "base_uri": "https://localhost:8080/"
        },
        "id": "NbR48_YaA1_v",
        "outputId": "bdb70179-6abf-413d-d129-8bf5fae8b931"
      },
      "execution_count": 128,
      "outputs": [
        {
          "output_type": "stream",
          "name": "stdout",
          "text": [
            "MAE:  318.46392117103034\n",
            "MSE:  197734.37352599515\n",
            "R2:  0.6022318833050402\n",
            "MAE:  318.46392117103034\n",
            "MSE:  197734.37352599515\n",
            "R2:  0.6020788857313166\n",
            "MAE:  318.46392117103034\n",
            "MSE:  197734.37352599515\n",
            "R2:  0.6016231059958436\n",
            "MAE:  318.46392117103034\n",
            "MSE:  197734.37352599515\n",
            "R2:  0.600863549127605\n"
          ]
        },
        {
          "output_type": "stream",
          "name": "stderr",
          "text": [
            "/usr/local/lib/python3.7/dist-packages/ipykernel_launcher.py:1: UserWarning: With alpha=0, this algorithm does not converge well. You are advised to use the LinearRegression estimator\n",
            "  \"\"\"Entry point for launching an IPython kernel.\n",
            "/usr/local/lib/python3.7/dist-packages/sklearn/linear_model/_coordinate_descent.py:648: UserWarning: Coordinate descent with no regularization may lead to unexpected results and is discouraged.\n",
            "  coef_, l1_reg, l2_reg, X, y, max_iter, tol, rng, random, positive\n",
            "/usr/local/lib/python3.7/dist-packages/sklearn/linear_model/_coordinate_descent.py:648: ConvergenceWarning: Objective did not converge. You might want to increase the number of iterations, check the scale of the features or consider increasing regularisation. Duality gap: 9.017e+07, tolerance: 4.534e+04 Linear regression models with null weight for the l1 regularization term are more efficiently fitted using one of the solvers implemented in sklearn.linear_model.Ridge/RidgeCV instead.\n",
            "  coef_, l1_reg, l2_reg, X, y, max_iter, tol, rng, random, positive\n"
          ]
        }
      ]
    },
    {
      "cell_type": "markdown",
      "source": [
        "La regularización con Lasso tampoco arrojaba mucha luz puesto que en el mejor de los casos teníamos una puntuación en el kaggle de 1094.40252"
      ],
      "metadata": {
        "id": "DkdLJ99ZF3L9"
      }
    },
    {
      "cell_type": "code",
      "source": [
        "from sklearn.linear_model import ElasticNet\n",
        "\n",
        "min_x = np.min(X)\n",
        "max_x = np.max(X)\n",
        "diff_x = max_x - min_x\n",
        "\n",
        "min_y = np.min(y)\n",
        "max_y = np.max(y)\n",
        "diff_y = max_y - min_y\n",
        "\n",
        "def plot_regression(ax, alpha, r):\n",
        "    \n",
        "    ax.set_xlim(min_x - 0.1 * diff_x, max_x + 0.1 * diff_x)\n",
        "    ax.set_ylim(min_y - 0.1 * diff_y, max_y + 0.1 * diff_y)\n",
        "\n",
        "    ax.set_title('ElasticNet (alfa=' + str(alpha) + ', r=' + str(r) + ')')\n",
        "    ax.set_xlabel('x')\n",
        "    ax.set_ylabel('y')\n",
        "    \n",
        "    # muestras\n",
        "    ax.scatter(X[:n_samples,0], y[:n_samples], zorder=10)\n",
        "    ax.scatter(X[n_samples:,0], y[n_samples:], zorder=10)\n",
        "    \n",
        "    # regresion sin outlayers\n",
        "    reg = LinearRegression().fit(X[:n_samples,:], y[:n_samples])\n",
        "    line = np.linspace(min_x - 0.1 * diff_x, max_x + 0.1 * diff_x)\n",
        "    ax.plot(line, reg.intercept_ + reg.coef_[0] * line, c=\"green\")\n",
        "\n",
        "    # elastic net\n",
        "    elastic = ElasticNet(alpha=alpha, l1_ratio=r).fit(X, y)\n",
        "    line = np.linspace(min_x - 0.1 * diff_x, max_x + 0.1 * diff_x)\n",
        "    ax.plot(line, elastic.intercept_ + elastic.coef_[0] * line, c=\"red\")\n",
        "    \n",
        "\n",
        "fig, axs = plt.subplots(nrows=3, ncols=3, figsize=(15,10))\n",
        "fig.tight_layout(pad=4.0)\n",
        "\n",
        "plot_regression(axs[0][0], 0.01, 0.0)\n",
        "plot_regression(axs[0][1], 0.01, 0.5)\n",
        "plot_regression(axs[0][2], 0.01, 1.0)\n",
        "\n",
        "plot_regression(axs[1][0], 5, 0.0)\n",
        "plot_regression(axs[1][1], 5, 0.5)\n",
        "plot_regression(axs[1][2], 5, 1.0)\n",
        "\n",
        "plot_regression(axs[2][0], 10, 0.0)\n",
        "plot_regression(axs[2][1], 10, 0.5)\n",
        "plot_regression(axs[2][2], 10, 1.0)"
      ],
      "metadata": {
        "id": "JzuCDV9PGF8_",
        "colab": {
          "base_uri": "https://localhost:8080/",
          "height": 821
        },
        "outputId": "92ea8227-2aa0-45aa-8616-b67260a92071"
      },
      "execution_count": 129,
      "outputs": [
        {
          "output_type": "stream",
          "name": "stderr",
          "text": [
            "/usr/local/lib/python3.7/dist-packages/sklearn/linear_model/_coordinate_descent.py:648: ConvergenceWarning: Objective did not converge. You might want to increase the number of iterations, check the scale of the features or consider increasing regularisation. Duality gap: 3.762e+04, tolerance: 7.438e+02 Linear regression models with null weight for the l1 regularization term are more efficiently fitted using one of the solvers implemented in sklearn.linear_model.Ridge/RidgeCV instead.\n",
            "  coef_, l1_reg, l2_reg, X, y, max_iter, tol, rng, random, positive\n",
            "/usr/local/lib/python3.7/dist-packages/sklearn/linear_model/_coordinate_descent.py:648: ConvergenceWarning: Objective did not converge. You might want to increase the number of iterations, check the scale of the features or consider increasing regularisation. Duality gap: 3.110e+06, tolerance: 7.438e+02 Linear regression models with null weight for the l1 regularization term are more efficiently fitted using one of the solvers implemented in sklearn.linear_model.Ridge/RidgeCV instead.\n",
            "  coef_, l1_reg, l2_reg, X, y, max_iter, tol, rng, random, positive\n",
            "/usr/local/lib/python3.7/dist-packages/sklearn/linear_model/_coordinate_descent.py:648: ConvergenceWarning: Objective did not converge. You might want to increase the number of iterations, check the scale of the features or consider increasing regularisation. Duality gap: 3.387e+06, tolerance: 7.438e+02 Linear regression models with null weight for the l1 regularization term are more efficiently fitted using one of the solvers implemented in sklearn.linear_model.Ridge/RidgeCV instead.\n",
            "  coef_, l1_reg, l2_reg, X, y, max_iter, tol, rng, random, positive\n"
          ]
        },
        {
          "output_type": "display_data",
          "data": {
            "text/plain": [
              "<Figure size 1080x720 with 9 Axes>"
            ],
            "image/png": "[encoded data removed]"
          },
          "metadata": {
            "needs_background": "light"
          }
        }
      ]
    },
    {
      "cell_type": "markdown",
      "source": [
        "Las gráficas no arrojan mucha luz y por lo tanto desechamos este modelo"
      ],
      "metadata": {
        "id": "E4amV9hwGXch"
      }
    },
    {
      "cell_type": "code",
      "source": [
        "from sklearn.neighbors import KNeighborsRegressor\n",
        "knn = KNeighborsRegressor(n_neighbors=10, weights='uniform').fit(X_train, y_train)\n",
        "\n",
        "y_pred = knn.predict(X_train)\n",
        "print(\"MAE: \", mean_absolute_error(y_train, y_pred))\n",
        "print(\"MSE: \", mean_squared_error(y_train, y_pred))\n",
        "print(\"R2: \", knn.score(X_train, y_train))"
      ],
      "metadata": {
        "id": "Vnb_IGaiJyof",
        "colab": {
          "base_uri": "https://localhost:8080/"
        },
        "outputId": "bc431ffd-dc1e-4260-92ec-8b340342248b"
      },
      "execution_count": 132,
      "outputs": [
        {
          "output_type": "stream",
          "name": "stdout",
          "text": [
            "MAE:  232.5023355263158\n",
            "MSE:  125544.02387149341\n",
            "R2:  0.74745205374671\n"
          ]
        }
      ]
    },
    {
      "cell_type": "code",
      "source": [
        "from sklearn.preprocessing import PolynomialFeatures\n",
        "\n",
        "poly_X = PolynomialFeatures(degree=2, include_bias=False).fit_transform(train_dataframe_transform)\n",
        "poly_X"
      ],
      "metadata": {
        "id": "6rbcpaU_NAJl",
        "colab": {
          "base_uri": "https://localhost:8080/"
        },
        "outputId": "fd5dfebb-3dc8-49b4-f8ff-79a0114b4d45"
      },
      "execution_count": 134,
      "outputs": [
        {
          "output_type": "execute_result",
          "data": {
            "text/plain": [
              "array([[ 1.    , 13.3   ,  1.    , ...,  1.    ,  1.2   ,  1.44  ],\n",
              "       [ 2.    , 13.3   ,  3.    , ...,  9.    ,  3.33  ,  1.2321],\n",
              "       [ 1.    , 15.6   ,  3.    , ...,  9.    ,  6.06  ,  4.0804],\n",
              "       ...,\n",
              "       [ 1.    , 15.6   ,  5.    , ..., 25.    , 11.6   ,  5.3824],\n",
              "       [ 1.    , 15.6   ,  3.    , ...,  9.    ,  6.6   ,  4.84  ],\n",
              "       [ 1.    , 14.    ,  3.    , ...,  9.    ,  5.61  ,  3.4969]])"
            ]
          },
          "metadata": {},
          "execution_count": 134
        }
      ]
    },
    {
      "cell_type": "code",
      "source": [
        "from sklearn import tree\n",
        "tree = tree.DecisionTreeRegressor()\n",
        "tree = tree.fit(X_train, y_train)\n",
        "y_pred = tree.predict(X_train)\n",
        "\n",
        "print(\"MAE: \", mean_absolute_error(y_train, y_pred))\n",
        "print(\"MSE: \", mean_squared_error(y_train, y_pred))\n",
        "print(\"R2: \", tree.score(X_train, y_train))"
      ],
      "metadata": {
        "colab": {
          "base_uri": "https://localhost:8080/"
        },
        "id": "pYbAgo8AuiIU",
        "outputId": "23d6d3ba-0425-449c-ebdd-16e2943c8523"
      },
      "execution_count": 137,
      "outputs": [
        {
          "output_type": "stream",
          "name": "stdout",
          "text": [
            "MAE:  98.36024275860514\n",
            "MSE:  24725.301381253867\n",
            "R2:  0.9502618771346617\n"
          ]
        }
      ]
    },
    {
      "cell_type": "code",
      "source": [
        "from sklearn import linear_model\n",
        "\n",
        "Bayes = linear_model.BayesianRidge()\n",
        "Bayes.fit(X_train, y_train)\n",
        "y_pred = Bayes.predict(X_train)\n",
        "\n",
        "print(\"MAE: \", mean_absolute_error(y_train, y_pred))\n",
        "print(\"MSE: \", mean_squared_error(y_train, y_pred))\n",
        "print(\"R2: \", Bayes.score(X_train, y_train))"
      ],
      "metadata": {
        "colab": {
          "base_uri": "https://localhost:8080/"
        },
        "id": "tsqZHjdUv54N",
        "outputId": "82261520-46f6-41d4-8a0d-ca68913bfcbe"
      },
      "execution_count": 141,
      "outputs": [
        {
          "output_type": "stream",
          "name": "stdout",
          "text": [
            "MAE:  318.345522709371\n",
            "MSE:  197737.9387359835\n",
            "R2:  0.6022247114267401\n"
          ]
        }
      ]
    },
    {
      "cell_type": "markdown",
      "source": [],
      "metadata": {
        "id": "5Xcc44wZwrAD"
      }
    }
  ]
}